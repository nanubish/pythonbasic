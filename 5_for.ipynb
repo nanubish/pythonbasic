{
 "cells": [
  {
   "cell_type": "code",
   "execution_count": null,
   "id": "e9345435-27c4-4211-ac5c-b4edf26178ad",
   "metadata": {},
   "outputs": [],
   "source": [
    "# for , range, 루프, break, continue"
   ]
  },
  {
   "cell_type": "code",
   "execution_count": null,
   "id": "d5ff1952-e3f5-482c-9a8d-d5c0b4a030e0",
   "metadata": {},
   "outputs": [],
   "source": []
  },
  {
   "cell_type": "code",
   "execution_count": null,
   "id": "235a5897-1d95-46d9-8eb3-867ca55e1dc9",
   "metadata": {},
   "outputs": [],
   "source": [
    "# for : 반복적인 일 처리\n",
    "\n",
    "#슬라이싱\n",
    "a=[0,1,2,3,4,5,6,7]\n",
    "a[0:5:2]\n",
    "[0,2,4]\n"
   ]
  },
  {
   "cell_type": "code",
   "execution_count": 1,
   "id": "ab080d9e-8f95-4b2a-9238-ff2fc16281a5",
   "metadata": {},
   "outputs": [
    {
     "data": {
      "text/plain": [
       "range(0, 8)"
      ]
     },
     "execution_count": 1,
     "metadata": {},
     "output_type": "execute_result"
    }
   ],
   "source": [
    "#함수를 호출할 떄 소괄호 사용\n",
    "# 인수(arguments)가 여럿일 때 콤마로 구분\n",
    "# range(시작하는 숫자(포함)=0, 끝숫자(미포함), 증감=1)\n",
    "# range는 규칙된 숫자를 만드는데 특화되어 있다.\n",
    "range(0,8,1)   #시작숫자, 증감숫자 생략가능"
   ]
  },
  {
   "cell_type": "code",
   "execution_count": 2,
   "id": "983cea67-fbf8-4b44-b158-81697b1efb36",
   "metadata": {},
   "outputs": [
    {
     "data": {
      "text/plain": [
       "[0, 1, 2, 3, 4, 5, 6, 7]"
      ]
     },
     "execution_count": 2,
     "metadata": {},
     "output_type": "execute_result"
    }
   ],
   "source": [
    "list(range(8))   #iterable "
   ]
  },
  {
   "cell_type": "code",
   "execution_count": 4,
   "id": "cf6c6ff5-8527-4b2c-81fd-c912e0d4371e",
   "metadata": {},
   "outputs": [
    {
     "data": {
      "text/plain": [
       "[0, 1, 2, 3, 4, 5, 6, 7]"
      ]
     },
     "execution_count": 4,
     "metadata": {},
     "output_type": "execute_result"
    }
   ],
   "source": [
    "list(range(0,8,1))"
   ]
  },
  {
   "cell_type": "code",
   "execution_count": 5,
   "id": "3de9f7e8-4f50-4090-90bc-cbff68d4102c",
   "metadata": {},
   "outputs": [
    {
     "data": {
      "text/plain": [
       "[0, 1, 2, 3, 4, 5, 6, 7]"
      ]
     },
     "execution_count": 5,
     "metadata": {},
     "output_type": "execute_result"
    }
   ],
   "source": [
    "list(range(8)) \n",
    "list(range(8))  #값이 두개면 마지막값 출력"
   ]
  },
  {
   "cell_type": "code",
   "execution_count": 6,
   "id": "a3903125-e362-4c96-ac83-7475d8de37a7",
   "metadata": {},
   "outputs": [
    {
     "data": {
      "text/plain": [
       "range"
      ]
     },
     "execution_count": 6,
     "metadata": {},
     "output_type": "execute_result"
    }
   ],
   "source": [
    "type(range(1))   #탙입이 리스트가 아니라 range임"
   ]
  },
  {
   "cell_type": "code",
   "execution_count": null,
   "id": "36e0412e-91c7-4294-b729-c4b14b879d06",
   "metadata": {},
   "outputs": [],
   "source": [
    "# list vs range가 동작하는 큰 차이점\n",
    "# range는 미리 만들지 않아도 규칙으로 담음 / 리스트는 예측불가해 미리 만들어놓음\n",
    "\n",
    "# list는  메모리상에 미리 다 만들어놓음\n",
    "# range는 필요할때 메모리에 만듦, range는 필요할때 메모리에 만들기때문에 공간 효율적임"
   ]
  },
  {
   "cell_type": "code",
   "execution_count": 8,
   "id": "45a2f29f-14a2-4854-a813-bec5af7bc73e",
   "metadata": {},
   "outputs": [
    {
     "name": "stdout",
     "output_type": "stream",
     "text": [
      "hi\n",
      "hi\n",
      "hi\n",
      "hi\n",
      "hi\n"
     ]
    }
   ],
   "source": [
    "# 여기서의 range는 0부터 999까지의 숫자를 생성한다.\n",
    "for n in range(5):   # n이 10이 될때까지 print내용 출력\n",
    "    print(\"hi\")"
   ]
  },
  {
   "cell_type": "code",
   "execution_count": null,
   "id": "8edeaadc-88e2-4830-a45e-0b697c965635",
   "metadata": {},
   "outputs": [],
   "source": [
    "# range\n",
    "\n",
    "# range변수=range(시작.끝.증감크기)   *함수호출시 {} 동반  / 시작은 0, 증감크기는 1로 세팅, 끝값은 꼭 넣어야함\n",
    "\n",
    "# 시퀀스자료형변수[시작:끝:증감크기]   *시퀀스자료형: str, list, tuple, rangge"
   ]
  },
  {
   "cell_type": "code",
   "execution_count": 2,
   "id": "33f4bce2-90f8-4483-8593-c6a48cdb850c",
   "metadata": {},
   "outputs": [
    {
     "name": "stdout",
     "output_type": "stream",
     "text": [
      "[2, 4, 6, 8, 10, 12, 14, 16, 18, 20, 22, 24, 26, 28, 30, 32, 34, 36, 38, 40, 42, 44, 46, 48, 50, 52, 54, 56, 58, 60, 62, 64, 66, 68, 70, 72, 74, 76, 78, 80, 82, 84, 86, 88, 90, 92, 94, 96, 98]\n"
     ]
    }
   ],
   "source": [
    "even_numbers=list(range(2,100,2))  # 2~100까지 2씩 증가 : 2배수값표현\n",
    "print(even_numbers)"
   ]
  },
  {
   "cell_type": "code",
   "execution_count": 3,
   "id": "e3f097dc-8c58-415f-927d-e384df7b8be7",
   "metadata": {},
   "outputs": [
    {
     "name": "stdout",
     "output_type": "stream",
     "text": [
      "[1, 3, 5, 7, 9, 11, 13, 15, 17, 19, 21, 23, 25, 27, 29, 31, 33, 35, 37, 39, 41, 43, 45, 47, 49, 51, 53, 55, 57, 59, 61, 63, 65, 67, 69, 71, 73, 75, 77, 79, 81, 83, 85, 87, 89, 91, 93, 95, 97, 99]\n"
     ]
    }
   ],
   "source": [
    "odd_nbr=list(range(1,100,2))\n",
    "print(odd_nbr)"
   ]
  },
  {
   "cell_type": "code",
   "execution_count": null,
   "id": "70c9cecd-7b00-4621-9723-dd1223b3bbe6",
   "metadata": {},
   "outputs": [],
   "source": [
    "# for 문\n",
    "\n",
    "# 시퀀스자료형의 항목들을 순서댇로 요소를 하나씩 꺼냄\n",
    "# 반복되는 부분 만들때 활용, 혹은 iterable(객체)를 루핑할때(순서대로 다 꺼냄), 반복 횟수가 정해져 있을때 주로 사용"
   ]
  },
  {
   "cell_type": "code",
   "execution_count": null,
   "id": "27bce391-958f-4e0a-93ab-f3fb4fa0f086",
   "metadata": {},
   "outputs": [],
   "source": [
    "# 객체 : 메모리상에 기록되어 있는것"
   ]
  },
  {
   "cell_type": "code",
   "execution_count": 237,
   "id": "f7ff9b10-1b38-4bec-9541-a252c7dbad08",
   "metadata": {},
   "outputs": [
    {
     "name": "stdout",
     "output_type": "stream",
     "text": [
      "hi\n",
      "hi\n",
      "hi\n",
      "hi\n",
      "hi\n"
     ]
    }
   ],
   "source": [
    "for i in range(5):   # 0~9까지 한개씩 꺼내서(i 값이 순서대로 변하면서 실행됨) body값이 차례대로 출력됨\n",
    "    print(\"hi\")"
   ]
  },
  {
   "cell_type": "code",
   "execution_count": 9,
   "id": "b6a4cdec-4e5e-4fa1-a6c0-308476a4eca0",
   "metadata": {},
   "outputs": [
    {
     "name": "stdout",
     "output_type": "stream",
     "text": [
      "hello world0\n",
      "hello world1\n",
      "hello world2\n",
      "hello world3\n",
      "hello world4\n",
      "hello world5\n",
      "hello world6\n",
      "hello world7\n",
      "hello world8\n",
      "hello world9\n",
      "end\n"
     ]
    }
   ],
   "source": [
    "for i in range(10):\n",
    "    print(f\"hello world{i}\")  # i값이 순차적으로 실행되는사항 확인\n",
    "    \n",
    "print(\"end\")"
   ]
  },
  {
   "cell_type": "code",
   "execution_count": 77,
   "id": "ea7f2966-4713-4767-9669-1d74ee243c11",
   "metadata": {},
   "outputs": [
    {
     "name": "stdout",
     "output_type": "stream",
     "text": [
      "hello world0\n",
      "hello world1\n",
      "hello world2\n",
      "hello world3\n",
      "hello world4\n",
      "end\n",
      "4\n"
     ]
    }
   ],
   "source": [
    "for n in range(5):\n",
    "    print(f\"hello world{n}\")  \n",
    "    \n",
    "print(\"end\")\n",
    "\n",
    "print(n)"
   ]
  },
  {
   "cell_type": "code",
   "execution_count": 18,
   "id": "cdd16131-e567-4471-b783-486dac2ba866",
   "metadata": {},
   "outputs": [
    {
     "name": "stdout",
     "output_type": "stream",
     "text": [
      "Hello world1\n",
      "Hello world2\n",
      "Hello world3\n",
      "Hello world4\n",
      "Hello world5\n",
      "Hello world6\n",
      "Hello world7\n",
      "Hello world8\n",
      "Hello world9\n",
      "Hello world10\n"
     ]
    }
   ],
   "source": [
    "for i in range(1,11):\n",
    "    print(f\"Hello world{i}\")"
   ]
  },
  {
   "cell_type": "code",
   "execution_count": 59,
   "id": "0c84df93-4ca6-4f89-a8ba-cc2aab326025",
   "metadata": {},
   "outputs": [
    {
     "name": "stdin",
     "output_type": "stream",
     "text": [
      "인사 몇 번 해드릴까요? 3\n"
     ]
    },
    {
     "name": "stdout",
     "output_type": "stream",
     "text": [
      "Hello world 1\n",
      "Hello world 2\n",
      "Hello world 3\n"
     ]
    }
   ],
   "source": [
    "a=int(input(\"인사 몇 번 해드릴까요?\"))\n",
    "\n",
    "for i in range(1,a+1):\n",
    "    print(\"Hello world\", i)"
   ]
  },
  {
   "cell_type": "code",
   "execution_count": 36,
   "id": "9d1386e5-882b-47a5-91ca-bccb05db5cf7",
   "metadata": {},
   "outputs": [
    {
     "name": "stdout",
     "output_type": "stream",
     "text": [
      "[5, 6, 7, 8, 9]\n",
      "[0, 3, 6, 9]\n",
      "[-10, -40, -70]\n"
     ]
    }
   ],
   "source": [
    "print(list(range(5,10,1)))\n",
    "print(list(range(0,10,3)))\n",
    "print(list(range(-10,-100,-30)))"
   ]
  },
  {
   "cell_type": "code",
   "execution_count": 37,
   "id": "69da1dc8-a615-4bca-a44d-06aea081c973",
   "metadata": {},
   "outputs": [
    {
     "name": "stdout",
     "output_type": "stream",
     "text": [
      "range(0, 10)\n"
     ]
    }
   ],
   "source": [
    "print(range(0,10,1))"
   ]
  },
  {
   "cell_type": "code",
   "execution_count": 75,
   "id": "41b7e9e1-0c71-444a-9af1-bc88171bcfc2",
   "metadata": {},
   "outputs": [
    {
     "name": "stdin",
     "output_type": "stream",
     "text": [
      "자연수 하나 입력해주세요: 6\n"
     ]
    },
    {
     "name": "stdout",
     "output_type": "stream",
     "text": [
      "666666\n",
      "55555\n",
      "4444\n",
      "333\n",
      "22\n",
      "1\n"
     ]
    }
   ],
   "source": [
    "# my ans\n",
    "\n",
    "a=int(input(\"자연수 하나 입력해주세요:\"))\n",
    "\n",
    "for i in range(a,0,-1):\n",
    "    print(str(i)*i)\n"
   ]
  },
  {
   "cell_type": "code",
   "execution_count": 78,
   "id": "9e4a2803-5176-4ab1-bd09-1eab6b331ddd",
   "metadata": {},
   "outputs": [
    {
     "name": "stdin",
     "output_type": "stream",
     "text": [
      "자연수 하나 입력해주세요: 6\n"
     ]
    }
   ],
   "source": [
    "# ans\n",
    "\n",
    "a=int(input(\"자연수 하나 입력해주세요:\"))"
   ]
  },
  {
   "cell_type": "code",
   "execution_count": 83,
   "id": "ece3a934-0cf0-4525-95f2-416902ed3e84",
   "metadata": {},
   "outputs": [],
   "source": [
    "for i in range(a,-1):\n",
    "    print(f\"{i}\\t\"*i)   #tab 실행"
   ]
  },
  {
   "cell_type": "code",
   "execution_count": null,
   "id": "9517bde7-09f3-4399-9800-bdbc193e397d",
   "metadata": {},
   "outputs": [],
   "source": [
    "a=int(input(\"자연수 하나 입력해주세요:\"))\n",
    "\n",
    "for i in range(a,0,-1):\n",
    "    for j in range(i):\n",
    "        print(i, end='\\t')\n",
    "    print()"
   ]
  },
  {
   "cell_type": "code",
   "execution_count": 88,
   "id": "bc6b5df4-1693-4f7f-891a-861e13e8528a",
   "metadata": {},
   "outputs": [
    {
     "name": "stdout",
     "output_type": "stream",
     "text": [
      "*        *\n",
      "*\n",
      "*        *\n",
      "*\n",
      "*        *\n",
      "*\n",
      "*        *\n",
      "*\n",
      "*        *\n",
      "*\n",
      "*        *\n",
      "*\n",
      "*        *\n",
      "*\n",
      "*        *\n",
      "*\n",
      "*        *\n",
      "*\n",
      "*        *\n",
      "*\n"
     ]
    }
   ],
   "source": [
    "# Q\n",
    "\n",
    "a='*' \n",
    "b=' '*8\n",
    "\n",
    "for i in range(10):\n",
    "    if i==0 and i==10:\n",
    "        print(a*10)\n",
    "    else:\n",
    "        print(a+b+a)\n",
    "    print(a)"
   ]
  },
  {
   "cell_type": "code",
   "execution_count": 108,
   "id": "6e1c8261-2386-4826-a03d-e38c98e5c42e",
   "metadata": {},
   "outputs": [
    {
     "name": "stdout",
     "output_type": "stream",
     "text": [
      "**********\n",
      "*                                                                *\n",
      "*                                                                *\n",
      "*                                                                *\n",
      "*                                                                *\n",
      "*                                                                *\n",
      "*                                                                *\n",
      "*                                                                *\n",
      "*                                                                *\n",
      "*                                                                *\n",
      "**********\n"
     ]
    }
   ],
   "source": [
    "a='*' \n",
    "b=\" \"*8\n",
    "\n",
    "for i in range(10):\n",
    "    if i==0: \n",
    "        print(a*10)\n",
    "    if i==9:\n",
    "        print(a*10)\n",
    "    else:\n",
    "        \n",
    "        print(a+(b*8)+a,sep=\" \")\n",
    "\n",
    "        "
   ]
  },
  {
   "cell_type": "code",
   "execution_count": 112,
   "id": "e4803804-6d6e-4fff-a66b-97bcf237e9bc",
   "metadata": {},
   "outputs": [
    {
     "name": "stdout",
     "output_type": "stream",
     "text": [
      "* * * * * * * * * * \n",
      "*                 *\n",
      "*                 *\n",
      "*                 *\n",
      "*                 *\n",
      "*                 *\n",
      "*                 *\n",
      "*                 *\n",
      "*                 *\n",
      "* * * * * * * * * * \n"
     ]
    }
   ],
   "source": [
    "# ans\n",
    "\n",
    "for i in range(10):\n",
    "    if i==0 or i==9:\n",
    "        print('* '*10)\n",
    "    else:\n",
    "        print('*                 *')"
   ]
  },
  {
   "cell_type": "code",
   "execution_count": 134,
   "id": "4fd85f8c-f5dd-4d38-9c48-c5a421acfeb8",
   "metadata": {},
   "outputs": [
    {
     "name": "stdin",
     "output_type": "stream",
     "text": [
      "자연수를 입력하세요 100\n"
     ]
    },
    {
     "name": "stdout",
     "output_type": "stream",
     "text": [
      "1 + 3 + 5 + 7 + 9 + 11 + 13 + 15 + 17 + 19 + 21 + 23 + 25 + 27 + 29 + 31 + 33 + 35 + 37 + 39 + 41 + 43 + 45 + 47 + 49 + 51 + 53 + 55 + 57 + 59 + 61 + 63 + 65 + 67 + 69 + 71 + 73 + 75 + 77 + 79 + 81 + 83 + 85 + 87 + 89 + 91 + 93 + 95 + 97 + 99 + "
     ]
    }
   ],
   "source": [
    "# \n",
    "\n",
    "num=int(input(\"자연수를 입력하세요\"))\n",
    "\n",
    "for i in range(1,num,2):\n",
    "    print(i,end=' + ')\n",
    "\n",
    "\n",
    "    "
   ]
  },
  {
   "cell_type": "code",
   "execution_count": 135,
   "id": "c1d00ac0-d9f7-40b9-b61a-96c61374654c",
   "metadata": {},
   "outputs": [
    {
     "name": "stdin",
     "output_type": "stream",
     "text": [
      "자연수를 입력하세요 100\n"
     ]
    },
    {
     "name": "stdout",
     "output_type": "stream",
     "text": [
      "1 + 3 + 5 + 7 + 9 + 11 + 13 + 15 + 17 + 19 + 21 + 23 + 25 + 27 + 29 + 31 + 33 + 35 + 37 + 39 + 41 + 43 + 45 + 47 + 49 + 51 + 53 + 55 + 57 + 59 + 61 + 63 + 65 + 67 + 69 + 71 + 73 + 75 + 77 + 79 + 81 + 83 + 85 + 87 + 89 + 91 + 93 + 95 + 97 + 99 + =\n"
     ]
    }
   ],
   "source": [
    "# ans\n",
    "\n",
    "num=int(input(\"자연수를 입력하세요\"))\n",
    "result=0  #덧셈해서나올결과, 0이라고 세팅(어떤수를 더해도 자신이 나오므로, 덧셈에 영향없이 값을 초기화하기위해\n",
    "\n",
    "for i in range(1,num,+1):\n",
    "    if i%2==1:    # 홀수 영역\n",
    "        if (num-1)==i or num==i:\n",
    "            print(i,end=' = ')\n",
    "        else:\n",
    "            print(i, end=' = ') \n",
    "            \n",
    "        result+=i      #누적해서 더함 \n",
    "\n",
    "print(result)"
   ]
  },
  {
   "cell_type": "code",
   "execution_count": 157,
   "id": "07b5d685-e745-4f95-b24d-30fcc607c183",
   "metadata": {},
   "outputs": [
    {
     "name": "stdin",
     "output_type": "stream",
     "text": [
      "자연수를 입력하세요 10\n"
     ]
    },
    {
     "name": "stdout",
     "output_type": "stream",
     "text": [
      "1+3 +5 +7 +9  = 25\n"
     ]
    }
   ],
   "source": [
    "# ans-other\n",
    "\n",
    "num=int(input(\"자연수를 입력하세요\"))\n",
    "\n",
    "print(\"1\",end=\"\")  #맨 처음 숫자에 '+'기호 빼주기 위함\n",
    "result=1\n",
    "\n",
    "for i in range(3,num+1):\n",
    "    if i%2==1:  #홀수\n",
    "        print(f\"+{i}\",end=\" \")\n",
    "        result+=i\n",
    "\n",
    "print(f\" = {result}\")"
   ]
  },
  {
   "cell_type": "code",
   "execution_count": 168,
   "id": "1fac78fa-f672-44cd-8560-8b5f4541bb17",
   "metadata": {},
   "outputs": [
    {
     "name": "stdin",
     "output_type": "stream",
     "text": [
      "자연수를 입력하세요 10\n"
     ]
    },
    {
     "name": "stdout",
     "output_type": "stream",
     "text": [
      "+1 +3 +5 +7 +9  = 25\n"
     ]
    }
   ],
   "source": [
    "# ans-other\n",
    "\n",
    "num=int(input(\"자연수를 입력하세요\"))\n",
    "\n",
    "\n",
    "result=0\n",
    "\n",
    "for i in range(1,num+1):\n",
    "    if i%2==1:  #홀수\n",
    "        print(f\"+{i}\",end=\" \")\n",
    "        result+=i\n",
    "\n",
    "print(f\" = {result}\")"
   ]
  },
  {
   "cell_type": "code",
   "execution_count": null,
   "id": "af90dcbf-07d8-49e9-a0ee-21b3afddf680",
   "metadata": {},
   "outputs": [],
   "source": []
  },
  {
   "cell_type": "code",
   "execution_count": 164,
   "id": "a9be56f3-45d0-445a-a646-2660caa063f8",
   "metadata": {},
   "outputs": [
    {
     "name": "stdin",
     "output_type": "stream",
     "text": [
      "자연수를 입력하세요 10\n"
     ]
    },
    {
     "name": "stdout",
     "output_type": "stream",
     "text": [
      "1+3+5+7+9+"
     ]
    }
   ],
   "source": [
    "# ans-other\n",
    "\n",
    "num=int(input(\"자연수를 입력하세요\"))\n",
    "\n",
    "for i in range(1,num,2):\n",
    "    print(f'{i}+',end=\"\")"
   ]
  },
  {
   "cell_type": "code",
   "execution_count": null,
   "id": "59ce34e4-d37c-4e4a-b2d8-94dd0caf13ed",
   "metadata": {},
   "outputs": [],
   "source": []
  },
  {
   "cell_type": "code",
   "execution_count": 185,
   "id": "1f10543a-def5-428b-be2b-a5ed5347cfdd",
   "metadata": {},
   "outputs": [
    {
     "name": "stdin",
     "output_type": "stream",
     "text": [
      "계승을 구할 숫자를 입력하세요. 4\n"
     ]
    },
    {
     "name": "stdout",
     "output_type": "stream",
     "text": [
      "2\n"
     ]
    }
   ],
   "source": [
    "# Q - trial\n",
    "\n",
    "result=1   #곱하기는 1값 세팅\n",
    "a=int(input(\"계승을 구할 숫자를 입력하세요.\"))\n",
    "\n",
    "for i in range(1,a+1):\n",
    "        result=i*(i-1)\n",
    "    \n",
    "print(result)\n",
    "      "
   ]
  },
  {
   "cell_type": "code",
   "execution_count": 197,
   "id": "4411b051-eef4-4143-8d25-7023aef7f9e1",
   "metadata": {},
   "outputs": [
    {
     "name": "stdin",
     "output_type": "stream",
     "text": [
      "계승을 구할 숫자를 입력하세요. 7\n"
     ]
    },
    {
     "name": "stdout",
     "output_type": "stream",
     "text": [
      "5040\n"
     ]
    }
   ],
   "source": [
    "# Q - ans\n",
    "\n",
    "result=1     # result써서 누적값 구함, 곱은 result=1 로 세팅\n",
    "a=int(input(\"계승을 구할 숫자를 입력하세요.\"))\n",
    "\n",
    "for i in range(1,a+1):\n",
    "    result*=i        # 또는 result = result * i\n",
    "    \n",
    "print(result)"
   ]
  },
  {
   "cell_type": "code",
   "execution_count": 199,
   "id": "6fab3f83-716c-4036-ab4e-75cbc9552b2f",
   "metadata": {},
   "outputs": [
    {
     "name": "stdout",
     "output_type": "stream",
     "text": [
      "1\n",
      "2\n",
      "3\n",
      "4\n",
      "5\n"
     ]
    }
   ],
   "source": [
    "\n",
    "# 2. 시퀀스 객체로 반복하기\n",
    "\n",
    "for i in [1,2,3,4,5]:\n",
    "    print(i)"
   ]
  },
  {
   "cell_type": "code",
   "execution_count": 201,
   "id": "a93d9ca4-3adf-450b-9857-e00b9d69d1aa",
   "metadata": {},
   "outputs": [
    {
     "name": "stdout",
     "output_type": "stream",
     "text": [
      "일 이 삼 사 오 육 칠 팔 구 십 "
     ]
    }
   ],
   "source": [
    "# 2. 시퀀스 객체로 반복하기 - 튜플  (이외에도 리스트, range, 문자열)\n",
    "\n",
    "for _ in \"일이삼사오육칠팔구십\":\n",
    "    print(_,end=\" \")   #줄바꿈삭제 end=\" \" "
   ]
  },
  {
   "cell_type": "code",
   "execution_count": 204,
   "id": "2e78b646-e94d-42ce-a687-96b2a69127e5",
   "metadata": {},
   "outputs": [
    {
     "name": "stdout",
     "output_type": "stream",
     "text": [
      "십 구 팔 칠 육 오 사 삼 이 일 "
     ]
    }
   ],
   "source": [
    "# 시퀀스 객체로 뒤집어서 반복하기\n",
    "\n",
    "# reverse() 메서드 : 순서를 뒤집어주며 반환값은없음\n",
    "\n",
    "for _ in reversed(\"일이삼사오육칠팔구십\"):\n",
    "    print(_, end=\" \")\n"
   ]
  },
  {
   "cell_type": "code",
   "execution_count": 219,
   "id": "c766e110-40ea-4de0-ad60-ecbc6880e671",
   "metadata": {},
   "outputs": [
    {
     "name": "stdout",
     "output_type": "stream",
     "text": [
      "(5, 4, 3, 2)\n"
     ]
    }
   ],
   "source": [
    "m=1,2,3,4,5\n",
    "print(m[5:0:-1])\n"
   ]
  },
  {
   "cell_type": "code",
   "execution_count": 226,
   "id": "9ed570dc-aacb-4911-961a-9397a81538ff",
   "metadata": {},
   "outputs": [
    {
     "name": "stdout",
     "output_type": "stream",
     "text": [
      "100 -420 250 1030 210 770 240 "
     ]
    }
   ],
   "source": [
    "x=[10,-42,25,103,21,77,24]\n",
    "\n",
    "for _ in [10,-42,25,103,21,77,24]:\n",
    "    print(_*10,end=\" \")\n"
   ]
  },
  {
   "cell_type": "code",
   "execution_count": 227,
   "id": "810f6916-d28a-4f3f-a6ca-44e563271a40",
   "metadata": {},
   "outputs": [
    {
     "name": "stdout",
     "output_type": "stream",
     "text": [
      "100 -420 250 1030 210 770 240 "
     ]
    }
   ],
   "source": [
    "x=[10,-42,25,103,21,77,24]\n",
    "\n",
    "for _ in x:\n",
    "    print(_*10,end=\" \")\n"
   ]
  },
  {
   "cell_type": "code",
   "execution_count": 236,
   "id": "de9513d1-e05e-47b9-97e4-989e3911e209",
   "metadata": {},
   "outputs": [
    {
     "name": "stdin",
     "output_type": "stream",
     "text": [
      "구구단을 알려드립니다. 숫자를 입력하세요 5\n"
     ]
    },
    {
     "name": "stdout",
     "output_type": "stream",
     "text": [
      "5 * 1 = 5\n",
      "5 * 2 = 10\n",
      "5 * 3 = 15\n",
      "5 * 4 = 20\n",
      "5 * 5 = 25\n",
      "5 * 6 = 30\n",
      "5 * 7 = 35\n",
      "5 * 8 = 40\n",
      "5 * 9 = 45\n"
     ]
    }
   ],
   "source": [
    "# Q\n",
    "\n",
    "n=int(input(\"구구단을 알려드립니다. 숫자를 입력하세요\"))\n",
    "\n",
    "for _ in range(1,10):\n",
    "    print(n,'*',_,'=',n*_)\n"
   ]
  },
  {
   "cell_type": "code",
   "execution_count": 250,
   "id": "dda49acd-9800-4163-b527-f9fb9a1bae29",
   "metadata": {},
   "outputs": [
    {
     "name": "stdin",
     "output_type": "stream",
     "text": [
      "자연수를 입력해주세요 1000\n"
     ]
    },
    {
     "name": "stdout",
     "output_type": "stream",
     "text": [
      "500500\n"
     ]
    }
   ],
   "source": [
    "n=int(input(\"자연수를 입력해주세요\"))\n",
    "result=0    # 누적합 구할때 값을 세팅해줘야함\n",
    "\n",
    "for _ in range(1,n+1):\n",
    "    result+=_\n",
    "    \n",
    "print(result)"
   ]
  },
  {
   "cell_type": "code",
   "execution_count": 254,
   "id": "1fda2b88-fac1-4e90-8281-5124275801b0",
   "metadata": {},
   "outputs": [
    {
     "name": "stdout",
     "output_type": "stream",
     "text": [
      "육 오 사 삼 이 일 "
     ]
    }
   ],
   "source": [
    "for i in reversed('일이삼사오육'):\n",
    "    print(i,end=\" \")"
   ]
  },
  {
   "cell_type": "code",
   "execution_count": 261,
   "id": "ac1b0d1d-721f-47a5-af8c-c394d6c0f7b9",
   "metadata": {},
   "outputs": [
    {
     "name": "stdout",
     "output_type": "stream",
     "text": [
      "*****\n",
      "*****\n",
      "*****\n",
      "*****\n",
      "*****\n"
     ]
    }
   ],
   "source": [
    "for _ in \"*****\":      #문자열 가능\n",
    "    print(_*5)    \n",
    "    "
   ]
  },
  {
   "cell_type": "code",
   "execution_count": 262,
   "id": "6a42be4f-cfb8-43b6-92b6-756a89b79278",
   "metadata": {},
   "outputs": [
    {
     "name": "stdout",
     "output_type": "stream",
     "text": [
      "*****\n",
      "*****\n",
      "*****\n",
      "*****\n",
      "*****\n"
     ]
    }
   ],
   "source": [
    "for _ in [\"*\",\"*\",\"*\",\"*\",\"*\"]:      #리스트 가능\n",
    "    print(_*5)\n"
   ]
  },
  {
   "cell_type": "code",
   "execution_count": 264,
   "id": "2c2b11d8-224d-4a37-ba4a-bfca8d5579ba",
   "metadata": {},
   "outputs": [
    {
     "name": "stdout",
     "output_type": "stream",
     "text": [
      "*****\n",
      "*****\n",
      "*****\n",
      "*****\n",
      "*****\n"
     ]
    }
   ],
   "source": [
    "for _ in (\"*****\"):         #튜플 가능\n",
    "    print(_*5)    "
   ]
  },
  {
   "cell_type": "code",
   "execution_count": 267,
   "id": "05bef7b8-a3a7-432e-bbb9-800c8f5f5cc6",
   "metadata": {},
   "outputs": [
    {
     "name": "stdout",
     "output_type": "stream",
     "text": [
      "*****\n",
      "*****\n",
      "*****\n",
      "*****\n",
      "*****\n"
     ]
    }
   ],
   "source": [
    "for _ in range(5):\n",
    "    print('*'*5)"
   ]
  },
  {
   "cell_type": "code",
   "execution_count": 268,
   "id": "8de9933e-a748-48c6-9da0-d3c224f751c7",
   "metadata": {},
   "outputs": [
    {
     "name": "stdout",
     "output_type": "stream",
     "text": [
      "*****\n",
      "*****\n",
      "*****\n",
      "*****\n",
      "*****\n"
     ]
    }
   ],
   "source": [
    "# for문 두번 활용\n",
    "\n",
    "for i in range(5):\n",
    "    for i in range(5):\n",
    "        print('*',end=\"\")\n",
    "    print()"
   ]
  },
  {
   "cell_type": "code",
   "execution_count": null,
   "id": "8aef4c35-55ff-4360-93b1-5323528b1454",
   "metadata": {},
   "outputs": [],
   "source": []
  }
 ],
 "metadata": {
  "kernelspec": {
   "display_name": "Python 3 (ipykernel)",
   "language": "python",
   "name": "python3"
  },
  "language_info": {
   "codemirror_mode": {
    "name": "ipython",
    "version": 3
   },
   "file_extension": ".py",
   "mimetype": "text/x-python",
   "name": "python",
   "nbconvert_exporter": "python",
   "pygments_lexer": "ipython3",
   "version": "3.9.13"
  }
 },
 "nbformat": 4,
 "nbformat_minor": 5
}
