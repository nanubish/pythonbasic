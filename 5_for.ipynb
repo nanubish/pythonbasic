{
 "cells": [
  {
   "cell_type": "code",
   "execution_count": null,
   "id": "235a5897-1d95-46d9-8eb3-867ca55e1dc9",
   "metadata": {},
   "outputs": [],
   "source": [
    "# for : 반복적인 일 처리\n",
    "\n",
    "#슬라이싱\n",
    "a=[0,1,2,3,4,5,6,7]\n",
    "a[0:5:2]\n",
    "[0,2,4]\n"
   ]
  },
  {
   "cell_type": "code",
   "execution_count": 1,
   "id": "ab080d9e-8f95-4b2a-9238-ff2fc16281a5",
   "metadata": {},
   "outputs": [
    {
     "data": {
      "text/plain": [
       "range(0, 8)"
      ]
     },
     "execution_count": 1,
     "metadata": {},
     "output_type": "execute_result"
    }
   ],
   "source": [
    "#함수를 호출할 떄 소괄호 사용\n",
    "# 인수(arguments)가 여럿일 때 콤마로 구분\n",
    "# range(시작하는 숫자(포함)=0, 끝숫자(미포함), 증감=1)\n",
    "# range는 규칙된 숫자를 만드는데 특화되어 있다.\n",
    "range(0,8,1)   #시작숫자, 증감숫자 생략가능"
   ]
  },
  {
   "cell_type": "code",
   "execution_count": 2,
   "id": "983cea67-fbf8-4b44-b158-81697b1efb36",
   "metadata": {},
   "outputs": [
    {
     "data": {
      "text/plain": [
       "[0, 1, 2, 3, 4, 5, 6, 7]"
      ]
     },
     "execution_count": 2,
     "metadata": {},
     "output_type": "execute_result"
    }
   ],
   "source": [
    "list(range(8))   #iterable"
   ]
  },
  {
   "cell_type": "code",
   "execution_count": 4,
   "id": "cf6c6ff5-8527-4b2c-81fd-c912e0d4371e",
   "metadata": {},
   "outputs": [
    {
     "data": {
      "text/plain": [
       "[0, 1, 2, 3, 4, 5, 6, 7]"
      ]
     },
     "execution_count": 4,
     "metadata": {},
     "output_type": "execute_result"
    }
   ],
   "source": [
    "list(range(0,8,1))"
   ]
  },
  {
   "cell_type": "code",
   "execution_count": 5,
   "id": "3de9f7e8-4f50-4090-90bc-cbff68d4102c",
   "metadata": {},
   "outputs": [
    {
     "data": {
      "text/plain": [
       "[0, 1, 2, 3, 4, 5, 6, 7]"
      ]
     },
     "execution_count": 5,
     "metadata": {},
     "output_type": "execute_result"
    }
   ],
   "source": [
    "list(range(8)) \n",
    "list(range(8))  #값이 두개면 마지막값 출력"
   ]
  },
  {
   "cell_type": "code",
   "execution_count": 6,
   "id": "a3903125-e362-4c96-ac83-7475d8de37a7",
   "metadata": {},
   "outputs": [
    {
     "data": {
      "text/plain": [
       "range"
      ]
     },
     "execution_count": 6,
     "metadata": {},
     "output_type": "execute_result"
    }
   ],
   "source": [
    "type(range(1))   #탙입이 리스트가 아니라 range임"
   ]
  },
  {
   "cell_type": "code",
   "execution_count": null,
   "id": "36e0412e-91c7-4294-b729-c4b14b879d06",
   "metadata": {},
   "outputs": [],
   "source": [
    "# list vs range가 동작하는 큰 차이점\n",
    "# range는 미리 만들지 않아도 규칙으로 담음 / 리스트는 예측불가해 미리 만들어놓음\n",
    "\n",
    "# list는 메모리상에 미리 다 만들어 놓음\n",
    "# range는 필요할때 메모리에 만듦"
   ]
  },
  {
   "cell_type": "code",
   "execution_count": 8,
   "id": "45a2f29f-14a2-4854-a813-bec5af7bc73e",
   "metadata": {},
   "outputs": [
    {
     "name": "stdout",
     "output_type": "stream",
     "text": [
      "hi\n",
      "hi\n",
      "hi\n",
      "hi\n",
      "hi\n"
     ]
    }
   ],
   "source": [
    "# 여기서의 range는 0부터 999까지의 숫자를 생성한다.\n",
    "for n in range(5):   # n이 10이 될때까지 print내용 출력\n",
    "    print(\"hi\")"
   ]
  },
  {
   "cell_type": "code",
   "execution_count": null,
   "id": "8edeaadc-88e2-4830-a45e-0b697c965635",
   "metadata": {},
   "outputs": [],
   "source": []
  },
  {
   "cell_type": "code",
   "execution_count": null,
   "id": "a03a16e6-7949-4ac8-a9c1-a991596a9646",
   "metadata": {},
   "outputs": [],
   "source": []
  },
  {
   "cell_type": "code",
   "execution_count": null,
   "id": "904b0c2c-3523-409a-82e7-2d1186d2f503",
   "metadata": {},
   "outputs": [],
   "source": []
  },
  {
   "cell_type": "code",
   "execution_count": null,
   "id": "33f4bce2-90f8-4483-8593-c6a48cdb850c",
   "metadata": {},
   "outputs": [],
   "source": []
  },
  {
   "cell_type": "code",
   "execution_count": null,
   "id": "9bbe7ebf-cd90-4415-af12-cd774f6174df",
   "metadata": {},
   "outputs": [],
   "source": []
  },
  {
   "cell_type": "code",
   "execution_count": null,
   "id": "e3f097dc-8c58-415f-927d-e384df7b8be7",
   "metadata": {},
   "outputs": [],
   "source": []
  },
  {
   "cell_type": "code",
   "execution_count": null,
   "id": "25fb90a6-c0f5-41de-9654-5364601cff90",
   "metadata": {},
   "outputs": [],
   "source": []
  },
  {
   "cell_type": "code",
   "execution_count": null,
   "id": "d2531941-522e-43ee-bf5f-90a8e48c794f",
   "metadata": {},
   "outputs": [],
   "source": []
  }
 ],
 "metadata": {
  "kernelspec": {
   "display_name": "Python 3 (ipykernel)",
   "language": "python",
   "name": "python3"
  },
  "language_info": {
   "codemirror_mode": {
    "name": "ipython",
    "version": 3
   },
   "file_extension": ".py",
   "mimetype": "text/x-python",
   "name": "python",
   "nbconvert_exporter": "python",
   "pygments_lexer": "ipython3",
   "version": "3.9.13"
  }
 },
 "nbformat": 4,
 "nbformat_minor": 5
}
