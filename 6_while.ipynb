{
 "cells": [
  {
   "cell_type": "code",
   "execution_count": null,
   "id": "7314bd98-845e-4a80-9ff1-3c75d6ecb4cf",
   "metadata": {},
   "outputs": [],
   "source": [
    "# while문 : 초기값, 조건식, 증감식 필요"
   ]
  },
  {
   "cell_type": "code",
   "execution_count": 2,
   "id": "b4ce1de6-1b0e-4cde-ac81-e3c8bc5ae7ad",
   "metadata": {},
   "outputs": [
    {
     "name": "stdout",
     "output_type": "stream",
     "text": [
      "hi hi hi hi hi "
     ]
    }
   ],
   "source": [
    "i=0  \n",
    "\n",
    "while i<5:                      # 조건문사용으로 true, false 값이 와야함\n",
    "    print(\"hi\",end=\" \")\n",
    "    i+=1                        # 반복될때마다 증감, 해당식에서는 0~99까지 반복"
   ]
  },
  {
   "cell_type": "code",
   "execution_count": null,
   "id": "69d8d3f5-8826-4d3f-abf4-2f458295de98",
   "metadata": {},
   "outputs": [],
   "source": [
    "i=1                     # 초기값\n",
    "\n",
    "while i<5:              #조건식\n",
    "    print(\"hi\")\n",
    "   \n",
    "    i+=1               # 증감식             "
   ]
  },
  {
   "cell_type": "code",
   "execution_count": 3,
   "id": "e2c794f1-4891-4700-b007-8657227dc8af",
   "metadata": {},
   "outputs": [
    {
     "name": "stdin",
     "output_type": "stream",
     "text": [
      "반복할 횟수를 입력하세요 3\n"
     ]
    },
    {
     "name": "stdout",
     "output_type": "stream",
     "text": [
      "Hello world 3\n",
      "Hello world 2\n",
      "Hello world 1\n"
     ]
    }
   ],
   "source": [
    "count=int(input(\"반복할 횟수를 입력하세요:\"))\n",
    "\n",
    "while count>0:\n",
    "    print(\"Hello world\", count)\n",
    "    count-=1"
   ]
  },
  {
   "cell_type": "code",
   "execution_count": 4,
   "id": "75ab73f4-8021-41b6-afaa-4d132710136a",
   "metadata": {},
   "outputs": [
    {
     "name": "stdout",
     "output_type": "stream",
     "text": [
      "2\t4\t6\t8\t10\t12\t14\t16\t18\t20\t"
     ]
    }
   ],
   "source": [
    "# Q\n",
    "\n",
    "i=1\n",
    "\n",
    "while i<=20:\n",
    "    if i%2==0:\n",
    "        print(i,end='\\t')\n",
    "    i+=1           "
   ]
  },
  {
   "cell_type": "code",
   "execution_count": 2,
   "id": "5219956e-070d-451f-9564-b06a85e0bd4f",
   "metadata": {},
   "outputs": [
    {
     "name": "stdout",
     "output_type": "stream",
     "text": [
      "2 4 6 8 10 12 14 16 18 20 22 24 26 28 30 32 34 36 38 40 42 44 46 48 50 52 54 56 58 60 62 64 66 68 70 72 74 76 78 80 82 84 86 88 90 92 94 96 98 "
     ]
    }
   ],
   "source": [
    "i=2\n",
    "while i<100:\n",
    "    print(i,end=\" \")\n",
    "    i+=2"
   ]
  },
  {
   "cell_type": "code",
   "execution_count": null,
   "id": "f3dbbc92-9ebc-4cb1-b53e-eea6272cf2b0",
   "metadata": {},
   "outputs": [],
   "source": []
  },
  {
   "cell_type": "code",
   "execution_count": 63,
   "id": "823b2b57-fa08-4188-9b28-4cefa44b4d7f",
   "metadata": {},
   "outputs": [
    {
     "name": "stdin",
     "output_type": "stream",
     "text": [
      "구구단을 알려드립니다. 숫자를 입력하세요 8\n"
     ]
    },
    {
     "name": "stdout",
     "output_type": "stream",
     "text": [
      "8 * 1 = 9\n",
      "8 * 2 = 18\n",
      "8 * 3 = 27\n",
      "8 * 4 = 36\n",
      "8 * 5 = 45\n",
      "8 * 6 = 54\n",
      "8 * 7 = 63\n",
      "8 * 8 = 72\n",
      "8 * 9 = 81\n"
     ]
    }
   ],
   "source": [
    "# Q\n",
    "\n",
    "i=1\n",
    "\n",
    "nbr=int(input(\"구구단을 알려드립니다. 숫자를 입력하세요\"))\n",
    "\n",
    "while i<10:\n",
    "    print(nbr,\"*\",i,\"=\",i*nbr)\n",
    "    i+=1"
   ]
  },
  {
   "cell_type": "code",
   "execution_count": null,
   "id": "3d023e42-8f52-47ec-b225-e0e84020c515",
   "metadata": {},
   "outputs": [],
   "source": [
    "# while문으로 인덱스를 꺼냄\n",
    "\n",
    "score=(97.100.77)\n",
    "i=0\n",
    "while i<len(scores):\n",
    "    print(scores[i])\n",
    "    i+=1"
   ]
  },
  {
   "cell_type": "code",
   "execution_count": 1,
   "id": "43a38621-7572-4c8f-b4dc-7ab8849fc393",
   "metadata": {},
   "outputs": [
    {
     "name": "stdout",
     "output_type": "stream",
     "text": [
      "len(a):4\n",
      "87\n",
      "22\n",
      "31\n",
      "98\n"
     ]
    }
   ],
   "source": [
    "a=[87,22,31,98]   # 인덱스는 0~3까지 1씩 증가\n",
    "\n",
    "print(f\"len(a):{len(a)}\") # 4 --> 인덱스의 제일 큰 값보다 1이 큼\n",
    "\n",
    "# 인덱스를 순서대로 접근할 수 있도록 제어할 변수\n",
    "i=0\n",
    "\n",
    "\n",
    "\n",
    "# 인덱싱을 할 때는 정확한 범위의 인덱스에 접근해야 함\n",
    "\n",
    "while i<len(a):\n",
    "    print(a[i])\n",
    "    i+=1"
   ]
  },
  {
   "cell_type": "code",
   "execution_count": 3,
   "id": "00833331-a15b-4b57-b012-6acab7aec7c8",
   "metadata": {},
   "outputs": [
    {
     "name": "stdout",
     "output_type": "stream",
     "text": [
      "5 4 3 2 1 "
     ]
    }
   ],
   "source": [
    "a=[5,4,3,2,1]\n",
    "i=0\n",
    "\n",
    "while i<len(a):\n",
    "    print(a[i],end=\" \")\n",
    "    i+=1"
   ]
  },
  {
   "cell_type": "code",
   "execution_count": 1,
   "id": "a2a49595-0051-4544-ac21-7418429ee403",
   "metadata": {},
   "outputs": [
    {
     "name": "stdout",
     "output_type": "stream",
     "text": [
      "1 2 3 4 5 6 7 8 9 10 "
     ]
    }
   ],
   "source": [
    "for i in range(1,11):\n",
    "    print(i,end=\" \")"
   ]
  },
  {
   "cell_type": "code",
   "execution_count": 4,
   "id": "bb3c1a16-adf5-4e01-a168-0a6a374e88ff",
   "metadata": {},
   "outputs": [
    {
     "name": "stdout",
     "output_type": "stream",
     "text": [
      "1 2 3 4 5 6 7 8 9 10 "
     ]
    }
   ],
   "source": [
    "i=1\n",
    "\n",
    "while i<=10:\n",
    "    print(i,end=\" \")\n",
    "    i+=1"
   ]
  },
  {
   "cell_type": "code",
   "execution_count": 28,
   "id": "077536b7-4ade-48be-ba76-53567d1b61fb",
   "metadata": {},
   "outputs": [
    {
     "name": "stdout",
     "output_type": "stream",
     "text": [
      "79.0\n"
     ]
    }
   ],
   "source": [
    "# Q 각 과목의 평균식 구하기\n",
    "class_a = (70, 60, 55, 75, 95, 90, 80, 80, 85, 100)\n",
    "\n",
    "total=0\n",
    "i=0\n",
    "\n",
    "while i<len(class_a):\n",
    "    total+=class_a[i]    # 인덱스로 찾은 값들의 합\n",
    "    i+=1\n",
    "    \n",
    "average=total/len(class_a)\n",
    "print(average)\n"
   ]
  },
  {
   "cell_type": "code",
   "execution_count": null,
   "id": "266d9a66-b8dd-42f0-9a1e-64b78e891048",
   "metadata": {},
   "outputs": [],
   "source": [
    "      total+=i\n",
    "    i+=1\n",
    "    if i>100:\n",
    "        break"
   ]
  },
  {
   "cell_type": "code",
   "execution_count": 10,
   "id": "f35934cb-77ad-49e6-8c0c-66e64f35163c",
   "metadata": {},
   "outputs": [
    {
     "name": "stdin",
     "output_type": "stream",
     "text": [
      "학생의 수 3\n",
      "1번 학생의 점수 77\n",
      "2번 학생의 점수 88\n",
      "3번 학생의 점수 99\n"
     ]
    },
    {
     "name": "stdout",
     "output_type": "stream",
     "text": [
      "평균 :88.0점\n"
     ]
    }
   ],
   "source": [
    "stu=int(input('학생의 수'))\n",
    "\n",
    "i=1\n",
    "total=0\n",
    "while i<=stu:\n",
    "    total+=int(input(str(i)+'번 학생의 점수'))\n",
    "    i+=1\n",
    "print(f'평균 :{total/stu}점')\n",
    "    "
   ]
  },
  {
   "cell_type": "code",
   "execution_count": null,
   "id": "dccbe172-4907-4f7e-89b4-5b8669b2d8ca",
   "metadata": {},
   "outputs": [],
   "source": []
  }
 ],
 "metadata": {
  "kernelspec": {
   "display_name": "Python 3 (ipykernel)",
   "language": "python",
   "name": "python3"
  },
  "language_info": {
   "codemirror_mode": {
    "name": "ipython",
    "version": 3
   },
   "file_extension": ".py",
   "mimetype": "text/x-python",
   "name": "python",
   "nbconvert_exporter": "python",
   "pygments_lexer": "ipython3",
   "version": "3.9.13"
  }
 },
 "nbformat": 4,
 "nbformat_minor": 5
}
