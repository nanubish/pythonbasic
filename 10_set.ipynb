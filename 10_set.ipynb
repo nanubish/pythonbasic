{
 "cells": [
  {
   "cell_type": "code",
   "execution_count": null,
   "id": "11a08bb6-1ba5-4a50-96d8-232bb0b0698e",
   "metadata": {},
   "outputs": [],
   "source": [
    "# set 자료형\n",
    "\n",
    "# set_variable= { 키1 , 키2 , 키3 ,.....}\n",
    "# 비시퀀스형(순서가 없다.)\n",
    "# 키는 중복되는 값이 없다. (중복되는 값 없음) 키는 유일한 값 갖는다."
   ]
  },
  {
   "cell_type": "code",
   "execution_count": 1,
   "id": "f30af3fa-d1c5-4300-941b-be14b3ede56c",
   "metadata": {},
   "outputs": [
    {
     "name": "stdout",
     "output_type": "stream",
     "text": [
      "set()\n"
     ]
    }
   ],
   "source": [
    "# 빈 세트 생성하기 \n",
    "\n",
    "print(set())"
   ]
  },
  {
   "cell_type": "code",
   "execution_count": null,
   "id": "c5efc579-5ace-4dcc-8e83-db9970be2bd2",
   "metadata": {},
   "outputs": [],
   "source": [
    "# 세트 자료형 컴프리헨션 ( {} 활용 )\n",
    "\n",
    "# set_variable = { expression   for   변수   in   iterable   if조건식 }"
   ]
  },
  {
   "cell_type": "code",
   "execution_count": 4,
   "id": "28f6a4ec-5d98-4c61-97bd-e6e25362e62e",
   "metadata": {},
   "outputs": [
    {
     "ename": "NameError",
     "evalue": "name 'set_variable' is not defined",
     "output_type": "error",
     "traceback": [
      "\u001b[1;31m---------------------------------------------------------------------------\u001b[0m",
      "\u001b[1;31mNameError\u001b[0m                                 Traceback (most recent call last)",
      "\u001b[1;32m~\\AppData\\Local\\Temp\\ipykernel_24112\\2034324760.py\u001b[0m in \u001b[0;36m<module>\u001b[1;34m\u001b[0m\n\u001b[0;32m      6\u001b[0m \u001b[1;33m\u001b[0m\u001b[0m\n\u001b[0;32m      7\u001b[0m \u001b[1;32mfor\u001b[0m \u001b[0m_\u001b[0m \u001b[1;32min\u001b[0m \u001b[0mrange\u001b[0m\u001b[1;33m(\u001b[0m\u001b[1;36m5\u001b[0m\u001b[1;33m)\u001b[0m\u001b[1;33m:\u001b[0m\u001b[1;33m\u001b[0m\u001b[1;33m\u001b[0m\u001b[0m\n\u001b[1;32m----> 8\u001b[1;33m     \u001b[0mset_variable\u001b[0m\u001b[1;33m.\u001b[0m\u001b[0madd\u001b[0m\u001b[1;33m(\u001b[0m\u001b[1;36m1\u001b[0m\u001b[1;33m)\u001b[0m\u001b[1;33m\u001b[0m\u001b[1;33m\u001b[0m\u001b[0m\n\u001b[0m\u001b[0;32m      9\u001b[0m \u001b[1;33m\u001b[0m\u001b[0m\n",
      "\u001b[1;31mNameError\u001b[0m: name 'set_variable' is not defined"
     ]
    }
   ],
   "source": [
    "# set - 값 추가\n",
    "\n",
    "# add() =>> 세트자료형.add(요소)    * 순서가 없어서 포함하고 있음\n",
    "# 한번에 하나의 값 넣음\n",
    "# 여러값 [set_variable.add(1) for _ in range(5)] 사용 또는\n",
    "\n",
    "for _ in range(5):\n",
    "    set_variable.add(1)\n",
    "\n",
    "    # 순서가 보장되지 않는다. (예, 중복을 제거하기 위해 사용 등)"
   ]
  },
  {
   "cell_type": "code",
   "execution_count": null,
   "id": "4171b616-1798-4e89-bac1-0dee30fcd331",
   "metadata": {},
   "outputs": [],
   "source": [
    "# set - 삭제하기\n",
    "\n",
    "# remove : set_variable.remove('키값')   \n",
    "\n",
    "# discard : set_variable.discard('없는값')  # 세트자료형 내에 없는 요소 삭제해도 에러 발생 x\n",
    "\n",
    "# pop() : set_variable.pop() => 임의의 요소를 삭제\n",
    "\n",
    "# clear : 세트자료형.clear()  => 전부 삭제되어 set()로 출력됨\n",
    "\n",
    "#"
   ]
  },
  {
   "cell_type": "code",
   "execution_count": 6,
   "id": "2c792a36-0ab3-47b6-970f-129c4c1483cf",
   "metadata": {},
   "outputs": [
    {
     "name": "stdout",
     "output_type": "stream",
     "text": [
      "a: {1, 2, 3, 4} \n",
      "b: {2, 4, 5}\n",
      "set.union(a,b): {1, 2, 3, 4, 5}\n",
      "a|b: {1, 2, 3, 4, 5}\n"
     ]
    }
   ],
   "source": [
    "# union\n",
    "\n",
    "a={_ for _ in range(1,5)}\n",
    "b={_ for _ in range(2,6) if _ !=3}\n",
    "print(\"a:\", a, \"\\nb:\",b)\n",
    "print(\"set.union(a,b):\", set.union(a,b))   # set.union(자료1,자료2)\n",
    "print(\"a|b:\",a|b)"
   ]
  },
  {
   "cell_type": "code",
   "execution_count": 7,
   "id": "52db2d21-06ed-4690-ba96-ffcce72834d4",
   "metadata": {},
   "outputs": [
    {
     "name": "stdout",
     "output_type": "stream",
     "text": [
      "a: {1, 2, 3, 4} \n",
      "b: {2, 4, 5}\n",
      "set.intersection(a,b): {1, 2, 3, 4, 5}\n",
      "a&b: {2, 4}\n"
     ]
    }
   ],
   "source": [
    "# 교집합: intersection() 혹은 &\n",
    "\n",
    "a={_ for _ in range(1,5)}\n",
    "b={_ for _ in range(2,6) if _ !=3}\n",
    "print(\"a:\", a, \"\\nb:\",b)\n",
    "print(\"set.intersection(a,b):\", set.union(a,b))   # set.intersection(자료1,자료2)\n",
    "print(\"a&b:\",a&b)"
   ]
  },
  {
   "cell_type": "code",
   "execution_count": 8,
   "id": "3c47ef7b-598e-4b97-bac2-e62d6f142ae9",
   "metadata": {},
   "outputs": [
    {
     "name": "stdout",
     "output_type": "stream",
     "text": [
      "a: {1, 2, 3, 4} \n",
      "b: {2, 4, 5}\n",
      "set.difference(a,b): {1, 3}\n",
      "a-b: {1, 3}\n"
     ]
    }
   ],
   "source": [
    "# 차집합 : difference() \n",
    "\n",
    "a={_ for _ in range(1,5)}\n",
    "b={_ for _ in range(2,6) if _ !=3}\n",
    "print(\"a:\", a, \"\\nb:\",b)\n",
    "print(\"set.difference(a,b):\", set.difference(a,b))   # set.intersection(자료1,자료2)\n",
    "print(\"a-b:\",a-b)\n",
    "\n"
   ]
  },
  {
   "cell_type": "code",
   "execution_count": 9,
   "id": "27f2f522-ffc4-4db7-a71f-2aaaa226ce47",
   "metadata": {},
   "outputs": [
    {
     "name": "stdout",
     "output_type": "stream",
     "text": [
      "a: {1, 2, 3, 4} \n",
      "b: {2, 4, 5}\n",
      "set.symmetric_difference(a,b): {1, 3, 5}\n",
      "a-b: {1, 3}\n"
     ]
    }
   ],
   "source": [
    "# 대칭차집합 : symmetric_difference()\n",
    "# 중복되지 않는값 반환\n",
    "\n",
    "a={_ for _ in range(1,5)}\n",
    "b={_ for _ in range(2,6) if _ !=3}\n",
    "print(\"a:\", a, \"\\nb:\",b)\n",
    "print(\"set.symmetric_difference(a,b):\", set.symmetric_difference(a,b))   # set.symmetric_difference(자료1,자료2)\n",
    "print(\"a-b:\",a-b)"
   ]
  },
  {
   "cell_type": "code",
   "execution_count": 10,
   "id": "93f40e8a-2c84-4d6c-9522-e38108d36fd0",
   "metadata": {},
   "outputs": [
    {
     "name": "stdout",
     "output_type": "stream",
     "text": [
      "a: {1, 2, 3, 4} \n",
      "b: {2, 4, 5}\n",
      "set.symmetric_difference(a,b): {1, 3}\n",
      "a.update(b): {1, 2, 3, 4, 5}\n"
     ]
    }
   ],
   "source": [
    "# update()  원래 대상변경, in-place\n",
    "\n",
    "a={_ for _ in range(1,5)}\n",
    "b={_ for _ in range(2,6) if _ !=3}\n",
    "print(\"a:\", a, \"\\nb:\",b)\n",
    "a.update(b)    # a |= b와 같다\n",
    "print(\"a.update(b):\",a)\n",
    "\n"
   ]
  },
  {
   "cell_type": "code",
   "execution_count": 11,
   "id": "7184b95a-ba80-467d-bcf3-0c0cb87398fd",
   "metadata": {},
   "outputs": [
    {
     "name": "stdout",
     "output_type": "stream",
     "text": [
      "a: {1, 2, 3, 4} \n",
      "b: {2, 4, 5}\n",
      "a.intersection_update(b): {2, 4}\n"
     ]
    }
   ],
   "source": [
    "# intersection_update  &=\n",
    "\n",
    "a={_ for _ in range(1,5)}\n",
    "b={_ for _ in range(2,6) if _ !=3}\n",
    "print(\"a:\", a, \"\\nb:\",b)\n",
    "a.intersection_update(b)    # a &= b와 같다\n",
    "print(\"a.intersection_update(b):\",a)\n",
    "\n"
   ]
  },
  {
   "cell_type": "code",
   "execution_count": 12,
   "id": "f2673f0b-1aa8-4b09-8264-85a93d2ea3e8",
   "metadata": {},
   "outputs": [
    {
     "name": "stdout",
     "output_type": "stream",
     "text": [
      "a: {1, 2, 3, 4} \n",
      "b: {2, 4, 5}\n",
      "a.difference_update(b): {1, 3}\n"
     ]
    }
   ],
   "source": [
    "# didfference_update  -=\n",
    "\n",
    "a={_ for _ in range(1,5)}\n",
    "b={_ for _ in range(2,6) if _ !=3}\n",
    "print(\"a:\", a, \"\\nb:\",b)\n",
    "a.difference_update(b)    # a -= b와 같다\n",
    "print(\"a.difference_update(b):\",a)"
   ]
  },
  {
   "cell_type": "code",
   "execution_count": null,
   "id": "453fcea5-7a69-4ad4-abfc-43faacad30e1",
   "metadata": {},
   "outputs": [],
   "source": [
    "# symmetrice_difference_update  ^=\n",
    "\n",
    "a={_ for _ in range(1,5)}\n",
    "b={_ for _ in range(2,6) if _ !=3}\n",
    "print(\"a:\", a, \"\\nb:\",b)\n",
    "a.symmetric_difference_update(b)    # a -= b와 같다\n",
    "print(\"a.symmetric_difference_update(b):\",a)"
   ]
  },
  {
   "cell_type": "code",
   "execution_count": null,
   "id": "cf6b3a86-1711-4855-a859-20de9a412c1e",
   "metadata": {},
   "outputs": [],
   "source": [
    "# 부분집합 issubset()\n",
    "\n",
    "\n"
   ]
  },
  {
   "cell_type": "code",
   "execution_count": null,
   "id": "f0a9ecf2-81d0-47d7-ba4f-8a78b072858a",
   "metadata": {},
   "outputs": [],
   "source": [
    "# 상위집합 issuperset()\n"
   ]
  },
  {
   "cell_type": "code",
   "execution_count": 16,
   "id": "54073224-59e9-4d55-90d1-854762e23a89",
   "metadata": {},
   "outputs": [
    {
     "name": "stdout",
     "output_type": "stream",
     "text": [
      "{1, 2, 3, 4}\n"
     ]
    }
   ],
   "source": [
    "ls=[1,2,2,3,3,3,4,4,4,4]\n",
    "print(set(ls))"
   ]
  },
  {
   "cell_type": "code",
   "execution_count": null,
   "id": "cea58c9a-16fc-4946-b07a-29bda4df8f13",
   "metadata": {},
   "outputs": [],
   "source": [
    "rint(\"set.symmetric_difference(a,b):"
   ]
  },
  {
   "cell_type": "code",
   "execution_count": null,
   "id": "216c9e35-7b65-4c38-9964-30caa4bd1989",
   "metadata": {},
   "outputs": [],
   "source": []
  },
  {
   "cell_type": "code",
   "execution_count": null,
   "id": "4716b6dc-ff39-4299-981b-696063489f4d",
   "metadata": {},
   "outputs": [],
   "source": []
  },
  {
   "cell_type": "code",
   "execution_count": null,
   "id": "ba447785-d557-40ee-8ff3-1844d7e02ca9",
   "metadata": {},
   "outputs": [],
   "source": []
  },
  {
   "cell_type": "code",
   "execution_count": null,
   "id": "f4d40fb9-2747-4ae9-b752-7ff991e1617a",
   "metadata": {},
   "outputs": [],
   "source": []
  },
  {
   "cell_type": "code",
   "execution_count": null,
   "id": "92102b07-6a94-48c0-a5ef-becd75aaab28",
   "metadata": {},
   "outputs": [],
   "source": []
  }
 ],
 "metadata": {
  "kernelspec": {
   "display_name": "Python 3 (ipykernel)",
   "language": "python",
   "name": "python3"
  },
  "language_info": {
   "codemirror_mode": {
    "name": "ipython",
    "version": 3
   },
   "file_extension": ".py",
   "mimetype": "text/x-python",
   "name": "python",
   "nbconvert_exporter": "python",
   "pygments_lexer": "ipython3",
   "version": "3.9.13"
  }
 },
 "nbformat": 4,
 "nbformat_minor": 5
}
