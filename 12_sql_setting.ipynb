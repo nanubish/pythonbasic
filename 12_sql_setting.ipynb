{
 "cells": [
  {
   "cell_type": "code",
   "execution_count": 2,
   "id": "eea79d77-903c-4cf3-8507-f086b097f27f",
   "metadata": {},
   "outputs": [],
   "source": [
    "import pymysql"
   ]
  },
  {
   "cell_type": "code",
   "execution_count": 30,
   "id": "818cae57-6647-431a-9173-16d3f66149b4",
   "metadata": {},
   "outputs": [],
   "source": [
    "import pymysql.cursors\n",
    "\n",
    "# database 접속할 객체를 만듭니다.\n",
    "connection = pymysql.connect(host='localhost',\n",
    "                             user='root',\n",
    "                             password='python1234',\n",
    "                             database='python',    \n",
    "                             cursorclass=pymysql.cursors.DictCursor)"
   ]
  },
  {
   "cell_type": "code",
   "execution_count": 28,
   "id": "caf04105-473b-4c3e-9b28-76c1f26e98f2",
   "metadata": {
    "tags": []
   },
   "outputs": [],
   "source": [
    "with connection:\n",
    "    with connection.cursor() as cursor:      # cursor : 커넥션으로 커서를 만들어 result sest을 하기위한 도구\n",
    "        # 새로운 값을 삽입합니다.\n",
    "        sql = \"INSERT INTO `users` (`email`, `password`) VALUES (%s, %s)\"         # (%s, %s) 플레이스 홀더\n",
    "        cursor.execute(sql, ('webmaster@python.org', 'very-secret'))\n",
    "\n",
    "    connection.commit()"
   ]
  },
  {
   "cell_type": "code",
   "execution_count": 31,
   "id": "ea5bdf3c-3bcf-490a-91b1-1d413ee1a9c0",
   "metadata": {
    "tags": []
   },
   "outputs": [
    {
     "name": "stdout",
     "output_type": "stream",
     "text": [
      "{'id': 1, 'password': 'very-secret'}\n"
     ]
    }
   ],
   "source": [
    "with connection:  # 조회를 함함\n",
    "    with connection.cursor() as cursor:    # 에러여부에 상관없이 close하게끔\n",
    "        # 데이터를 불러옵니다.\n",
    "        sql = \"SELECT `id`, `password` FROM `users` WHERE `email`=%s\"   # 이것만 바꿔서 진행할 수 있음\n",
    "        cursor.execute(sql, ('webmaster@python.org',))   # 튜플안의 갑사 대체\n",
    "        result = cursor.fetchone()     # fetchmany  / fetchall() 전체를 가져옴 (커넥션이 끊어졌을경우 다시 실행후 해보기), 이를통해 출력을 해줌\n",
    "        print(result)"
   ]
  }
 ],
 "metadata": {
  "kernelspec": {
   "display_name": "Python 3 (ipykernel)",
   "language": "python",
   "name": "python3"
  },
  "language_info": {
   "codemirror_mode": {
    "name": "ipython",
    "version": 3
   },
   "file_extension": ".py",
   "mimetype": "text/x-python",
   "name": "python",
   "nbconvert_exporter": "python",
   "pygments_lexer": "ipython3",
   "version": "3.9.13"
  }
 },
 "nbformat": 4,
 "nbformat_minor": 5
}
