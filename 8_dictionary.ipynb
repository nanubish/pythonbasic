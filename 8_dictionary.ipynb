{
 "cells": [
  {
   "cell_type": "code",
   "execution_count": null,
   "id": "85fb2aeb-4ab4-4902-a59b-1b6215405bf2",
   "metadata": {},
   "outputs": [],
   "source": [
    "# 딕셔너리   dic_variable={key:value,key:value,.......}\n",
    "\n",
    "# key:value -> key-value pair  키하나에 밸류하나 값 갖음   * key는 고유한 value값을 갖음\n",
    "# 비시퀀스자료형, 따라서 인덱스 갖지 않음"
   ]
  },
  {
   "cell_type": "code",
   "execution_count": 1,
   "id": "8d357926-8cbe-47ce-abc2-62569f5b95a1",
   "metadata": {},
   "outputs": [
    {
     "name": "stdout",
     "output_type": "stream",
     "text": [
      "<class 'dict'>\n",
      "{'key': 'value'}\n"
     ]
    }
   ],
   "source": [
    "dic_var={\"key\":\"value\"}\n",
    "print(type(dic_var))\n",
    "print(dic_var)"
   ]
  },
  {
   "cell_type": "code",
   "execution_count": 2,
   "id": "bd975d21-b96c-4bf7-b5d0-486e58ad4a80",
   "metadata": {},
   "outputs": [
    {
     "name": "stdout",
     "output_type": "stream",
     "text": [
      "{'key': 'value2'}\n"
     ]
    }
   ],
   "source": [
    "dv={\"key\":\"value\",\"key\":\"value2\"}\n",
    "print(dv)   # key값이 중복되면 가장최근 key-value만 남는다"
   ]
  },
  {
   "cell_type": "code",
   "execution_count": 8,
   "id": "c793a2a3-1a84-4125-8743-04862ecc5336",
   "metadata": {},
   "outputs": [
    {
     "name": "stdout",
     "output_type": "stream",
     "text": [
      "[<class 'str'>, <class 'int'>, <class 'float'>, <class 'tuple'>]\n"
     ]
    }
   ],
   "source": [
    "# key 값\n",
    "dv={'key':'value',\n",
    "    1:'value2',      # hashable: 문자열, 정수, 실수, 불, 튜플을  key값으로 사용가능\n",
    "    1.1:'value3',    # unhashable: 리스트, 딕셔너리, 집합을 key key값으로사용할수 없다\n",
    "    True:'value4',\n",
    "    ('key',1,1.1,True):'value2'}\n",
    "\n",
    "print(list(map(type,dv.keys())))   # map 활용, 키타입 확인"
   ]
  },
  {
   "cell_type": "code",
   "execution_count": null,
   "id": "9bd03e72-4dfe-4e8f-a50d-868289d85bfc",
   "metadata": {},
   "outputs": [],
   "source": [
    "# value 값  : 모든 자료형 사용 가능\n",
    "dv={'key':'value',\n",
    "    1:1,\n",
    "    1.1:1.1,\n",
    "    True:False,\n",
    "    ('key',1,1.1,True):('key',1,1.1,True),\n",
    "    'list':[1,'가',1.1,True,(1,'나')],\n",
    "    'set':{'가','나'}\n",
    "            \n",
    "print(list(map(type,dv.values())))   # map 활용, 밸류타입 확인"
   ]
  },
  {
   "cell_type": "code",
   "execution_count": 9,
   "id": "54592fc9-df55-40c8-92dc-678b780ea400",
   "metadata": {},
   "outputs": [
    {
     "name": "stdout",
     "output_type": "stream",
     "text": [
      "{}\n",
      "<class 'dict'>\n"
     ]
    }
   ],
   "source": [
    "# 빈 딕셔너리 생성하기 : {} 또는 dict()\n",
    "\n",
    "empty_dict={}\n",
    "print(empty_dict)\n",
    "print(type(empty_dict)) \n",
    "   # set도 {}사용하나 didctionary로 구분이 안되므로 empty set은 set()로 사용"
   ]
  },
  {
   "cell_type": "code",
   "execution_count": 10,
   "id": "87bd95e2-238c-42c3-b473-ec0d31a2e65b",
   "metadata": {},
   "outputs": [
    {
     "name": "stdout",
     "output_type": "stream",
     "text": [
      "{}\n",
      "<class 'dict'>\n"
     ]
    }
   ],
   "source": [
    "empty_dict=dict()\n",
    "print(empty_dict)\n",
    "print(type(empty_dict)) "
   ]
  },
  {
   "cell_type": "code",
   "execution_count": 13,
   "id": "96f058b6-6720-472a-a50c-ce194ca6f79e",
   "metadata": {},
   "outputs": [
    {
     "name": "stdout",
     "output_type": "stream",
     "text": [
      "{'key': 'value', 'key2': 'value2', 'key3': 'value3'}\n"
     ]
    }
   ],
   "source": [
    "# 함수로 사용  : key값은 str형태임\n",
    "\n",
    "dv=dict(key='value',key2='value2',key3='value3')\n",
    "print(dv)"
   ]
  },
  {
   "cell_type": "code",
   "execution_count": 14,
   "id": "9f665298-d00d-468c-87b4-ff37e1e5d326",
   "metadata": {},
   "outputs": [
    {
     "data": {
      "text/plain": [
       "{'key': 'value', 'key1': 'value1'}"
      ]
     },
     "execution_count": 14,
     "metadata": {},
     "output_type": "execute_result"
    }
   ],
   "source": [
    "# 시퀀스 객체로 생성\n",
    "\n",
    "dict([('key','value'),('key1','value1')])   # zip함수 활용해 가능"
   ]
  },
  {
   "cell_type": "code",
   "execution_count": 18,
   "id": "fd78e81c-415d-4a58-80fb-48bd9d6fa419",
   "metadata": {},
   "outputs": [
    {
     "name": "stdout",
     "output_type": "stream",
     "text": [
      "{'key': 'value', 'key2': 'value1'}\n"
     ]
    }
   ],
   "source": [
    "# zip() 함수로 튜플(키와 값으르 한 쌍으로 갖는)을 딕셔너리 자료형으로 생성\n",
    "\n",
    "dv=dict(zip(['key','key2'],['value','value1']))\n",
    "print(dv)"
   ]
  },
  {
   "cell_type": "code",
   "execution_count": 3,
   "id": "59efcc46-b6fa-4d61-91d8-6cea56078dd2",
   "metadata": {},
   "outputs": [
    {
     "name": "stdout",
     "output_type": "stream",
     "text": [
      "key1 key2 key3 "
     ]
    }
   ],
   "source": [
    "# zip을 쓰지않고 딕셔너리로 만드는 방법\n",
    "\n",
    "keys=(\"key1\",\"key2\",\"key3\")           #튜플형자료예\n",
    "value=(\"value1\",\"value2\",\"value3\")\n",
    "\n",
    "others=[]\n",
    "for key in keys:\n",
    "    print(key,end=\" \")"
   ]
  },
  {
   "cell_type": "code",
   "execution_count": 5,
   "id": "5928e161-8723-4d33-8fec-88a1305889a8",
   "metadata": {},
   "outputs": [],
   "source": [
    "for index in range(len(keys)):                       # what??\n",
    "    (keys[index],value[index])"
   ]
  },
  {
   "cell_type": "code",
   "execution_count": 41,
   "id": "a2eb5e32-e6e1-49cd-84a4-f354a4f92f36",
   "metadata": {},
   "outputs": [
    {
     "data": {
      "text/plain": [
       "[('key1', 'value1'), ('key2', 'value2'), ('key3', 'value3')]"
      ]
     },
     "execution_count": 41,
     "metadata": {},
     "output_type": "execute_result"
    }
   ],
   "source": [
    "keys=(\"key1\",\"key2\",\"key3\")  #튜플형자료\n",
    "values=(\"value1\",\"value2\",\"value3\")\n",
    "\n",
    "list(zip(keys, values))"
   ]
  },
  {
   "cell_type": "code",
   "execution_count": 6,
   "id": "f395e17a-c9a2-402a-b087-8e40b1a527ab",
   "metadata": {},
   "outputs": [
    {
     "name": "stdout",
     "output_type": "stream",
     "text": [
      "[('key1', 'value1'), ('key2', 'value2'), ('key3', 'value3')]\n"
     ]
    }
   ],
   "source": [
    "# 딕셔너리로 만들기 : 자료를 리스트형으로 바꿔서 append 메소드 사용\n",
    "\n",
    "keys = (\"key1\", \"key2\", \"key3\")\n",
    "values = (\"value1\", \"value2\", \"value3\")\n",
    "\n",
    "sam_list = []                                        \n",
    "for index in range(len(keys)):\n",
    "    sam_list.append((keys[index], values[index]))\n",
    "print(sam_list)"
   ]
  },
  {
   "cell_type": "code",
   "execution_count": 34,
   "id": "633ba4e7-257f-4ad2-8a3b-f39f4668c048",
   "metadata": {},
   "outputs": [
    {
     "name": "stdout",
     "output_type": "stream",
     "text": [
      "{'key': 'value', 'key2': 'value1'}\n",
      "value\n",
      "{'key': 'super value', 'key2': 'value1'}\n",
      "{'key': 'super value', 'key2': 'value1', 'new one': 'new value'}\n"
     ]
    },
    {
     "ename": "KeyError",
     "evalue": "'없는키'",
     "output_type": "error",
     "traceback": [
      "\u001b[1;31m---------------------------------------------------------------------------\u001b[0m",
      "\u001b[1;31mKeyError\u001b[0m                                  Traceback (most recent call last)",
      "\u001b[1;32m~\\AppData\\Local\\Temp\\ipykernel_11324\\3580203538.py\u001b[0m in \u001b[0;36m<module>\u001b[1;34m\u001b[0m\n\u001b[0;32m     12\u001b[0m \u001b[0mprint\u001b[0m\u001b[1;33m(\u001b[0m\u001b[0mdv\u001b[0m\u001b[1;33m)\u001b[0m\u001b[1;33m\u001b[0m\u001b[1;33m\u001b[0m\u001b[0m\n\u001b[0;32m     13\u001b[0m \u001b[1;33m\u001b[0m\u001b[0m\n\u001b[1;32m---> 14\u001b[1;33m \u001b[0mprint\u001b[0m\u001b[1;33m(\u001b[0m\u001b[0mdv\u001b[0m\u001b[1;33m[\u001b[0m\u001b[1;34m'없는키'\u001b[0m\u001b[1;33m]\u001b[0m\u001b[1;33m)\u001b[0m         \u001b[1;31m# 에러발생(존재하지 않는 키 입력시)\u001b[0m\u001b[1;33m\u001b[0m\u001b[1;33m\u001b[0m\u001b[0m\n\u001b[0m\u001b[0;32m     15\u001b[0m \u001b[1;33m\u001b[0m\u001b[0m\n\u001b[0;32m     16\u001b[0m \u001b[0mprint\u001b[0m\u001b[1;33m(\u001b[0m\u001b[1;34m'key'\u001b[0m \u001b[1;32min\u001b[0m \u001b[0mdv\u001b[0m\u001b[1;33m)\u001b[0m\u001b[1;33m\u001b[0m\u001b[1;33m\u001b[0m\u001b[0m\n",
      "\u001b[1;31mKeyError\u001b[0m: '없는키'"
     ]
    }
   ],
   "source": [
    "# 딕셔너리 자료형- 키로 값에 접근\n",
    "\n",
    "dv=dict(zip(['key','key2'],['value','value1']))  #딕셔너리자료형으로 생성\n",
    "\n",
    "print(dv)\n",
    "print(dv['key'])           # key 값으로 value값 호출\n",
    "\n",
    "dv['key']='super value'    # value값 변경 (키를 통해 접근해 변경)\n",
    "print(dv)\n",
    "\n",
    "dv['new one']='new value'  # key와 value값 추가\n",
    "print(dv)\n",
    "\n",
    "print(dv['없는키'])         # 에러발생(존재하지 않는 키 입력시)\n",
    "\n",
    "   "
   ]
  },
  {
   "cell_type": "code",
   "execution_count": 50,
   "id": "0aa150aa-59a5-47ea-9d78-81abf30886dd",
   "metadata": {},
   "outputs": [
    {
     "name": "stdout",
     "output_type": "stream",
     "text": [
      "{'key': 'super value', 'key2': 'value1'}\n",
      "True\n",
      "True\n"
     ]
    },
    {
     "ename": "KeyError",
     "evalue": "'new one'",
     "output_type": "error",
     "traceback": [
      "\u001b[1;31m---------------------------------------------------------------------------\u001b[0m",
      "\u001b[1;31mKeyError\u001b[0m                                  Traceback (most recent call last)",
      "\u001b[1;32m~\\AppData\\Local\\Temp\\ipykernel_11324\\3160566895.py\u001b[0m in \u001b[0;36m<module>\u001b[1;34m\u001b[0m\n\u001b[0;32m      5\u001b[0m \u001b[1;33m\u001b[0m\u001b[0m\n\u001b[0;32m      6\u001b[0m \u001b[1;33m\u001b[0m\u001b[0m\n\u001b[1;32m----> 7\u001b[1;33m \u001b[1;32mdel\u001b[0m \u001b[0mdv\u001b[0m\u001b[1;33m[\u001b[0m\u001b[1;34m'new one'\u001b[0m\u001b[1;33m]\u001b[0m                \u001b[1;31m# del활용 key 값 삭제\u001b[0m\u001b[1;33m\u001b[0m\u001b[1;33m\u001b[0m\u001b[0m\n\u001b[0m\u001b[0;32m      8\u001b[0m \u001b[0mprint\u001b[0m\u001b[1;33m(\u001b[0m\u001b[0mdv\u001b[0m\u001b[1;33m)\u001b[0m\u001b[1;33m\u001b[0m\u001b[1;33m\u001b[0m\u001b[0m\n",
      "\u001b[1;31mKeyError\u001b[0m: 'new one'"
     ]
    }
   ],
   "source": [
    "print(dv)\n",
    "print('key' in dv)               # 특정키 포함여부 확인\n",
    "\n",
    "print('value1' in dv.values())   # value값 포함여부 확인\n",
    "\n",
    "\n",
    "del dv['new one']                # del활용 key 값 삭제\n",
    "print(dv)\n"
   ]
  },
  {
   "cell_type": "code",
   "execution_count": 49,
   "id": "7df03fd4-6dc3-4257-9848-8753ebc6f31b",
   "metadata": {},
   "outputs": [
    {
     "name": "stdout",
     "output_type": "stream",
     "text": [
      "{'key': 'super value', 'key2': 'value1'}\n"
     ]
    },
    {
     "data": {
      "text/plain": [
       "2"
      ]
     },
     "execution_count": 49,
     "metadata": {},
     "output_type": "execute_result"
    }
   ],
   "source": [
    "print(dv)      # key값 확인\n",
    "len(dv)"
   ]
  },
  {
   "cell_type": "code",
   "execution_count": 10,
   "id": "d422394a-2f78-453f-94d9-14838483276e",
   "metadata": {},
   "outputs": [
    {
     "name": "stdin",
     "output_type": "stream",
     "text": [
      "과일 이름을 입력하세요:  바나나\n"
     ]
    },
    {
     "name": "stdout",
     "output_type": "stream",
     "text": [
      "바나나의 가격은 700원입니다.\n"
     ]
    }
   ],
   "source": [
    "# Q\n",
    "\n",
    "fruit=input(\"과일 이름을 입력하세요: \")\n",
    "\n",
    "dv={'사과':1000,'바나나':700,'오렌지':1500,'파인애플':2000}\n",
    "\n",
    "print(f\"{fruit}의 가격은 {dv[fruit]}원입니다.\")     # key값으로 value값 찾음 (dict에서 입력값으로 찾음)\n",
    "       "
   ]
  },
  {
   "cell_type": "code",
   "execution_count": 39,
   "id": "eaca95c8-e95a-4990-9f3b-09256d6d7e3b",
   "metadata": {},
   "outputs": [
    {
     "name": "stdout",
     "output_type": "stream",
     "text": [
      "<zip object at 0x0000021FE500A580>\n"
     ]
    }
   ],
   "source": [
    "keys = (\"key1\", \"key2\", \"key3\")\n",
    "values = (\"value1\", \"value2\", \"value3\")\n",
    "sam_list = []\n",
    "for index in range(len(keys)):\n",
    "    sam_list.append((keys[index], values[index]))\n",
    "print(sam_list)\n",
    "\n",
    "      "
   ]
  },
  {
   "cell_type": "code",
   "execution_count": 5,
   "id": "a7224169-dfe3-4740-80c2-ece914aaba1f",
   "metadata": {},
   "outputs": [
    {
     "name": "stdin",
     "output_type": "stream",
     "text": [
      "이름을 기입해주세요 a b c d\n",
      "몸무게를 입력해주세요 1 2 3 4.2\n"
     ]
    },
    {
     "name": "stdout",
     "output_type": "stream",
     "text": [
      "<zip object at 0x000001FC6F4F83C0>\n"
     ]
    }
   ],
   "source": [
    "# 내 풀이\n",
    "name=map(str,input(\"이름을 기입해주세요\").split(\",\"))\n",
    "weigh=map(float,input(\"몸무게를 입력해주세요\").split(\",\"))\n",
    "\n",
    "list=zip(name,weigh)\n",
    "\n",
    "print(list)\n"
   ]
  },
  {
   "cell_type": "code",
   "execution_count": 6,
   "id": "87c22776-d140-4937-83df-3c9c32d0685b",
   "metadata": {},
   "outputs": [
    {
     "name": "stdin",
     "output_type": "stream",
     "text": [
      "이름을 기입해주세요 a b c d\n",
      "몸무게를 입력해주세요 1 2 3 4\n"
     ]
    },
    {
     "name": "stdout",
     "output_type": "stream",
     "text": [
      "{'a': 1.0, 'b': 2.0, 'c': 3.0, 'd': 4.0}\n"
     ]
    }
   ],
   "source": [
    "# ans\n",
    "\n",
    "name=input(\"이름을 기입해주세요\").split()                   # split() 공백을 기준으로 구분\n",
    "weigh=map(float,input(\"몸무게를 입력해주세요\").split())\n",
    "\n",
    "c= dict(zip(name,weigh))\n",
    "\n",
    "print(c)"
   ]
  },
  {
   "cell_type": "code",
   "execution_count": null,
   "id": "89539892-6c56-426f-a309-8c7543ea3d9b",
   "metadata": {},
   "outputs": [],
   "source": []
  },
  {
   "cell_type": "code",
   "execution_count": null,
   "id": "aca61599-b788-43a2-aeb3-70f594add0d9",
   "metadata": {},
   "outputs": [],
   "source": []
  },
  {
   "cell_type": "code",
   "execution_count": null,
   "id": "6d8c9b30-a40b-4ef4-ae4b-c8a9325a8fae",
   "metadata": {},
   "outputs": [],
   "source": [
    "# 리스트 생성 방법 - 대괄호 사용\n",
    "\n",
    "# 시퀀스가 있음(순서가 있음) = 인덱스가 있다(인덱스로 접근가능)\n",
    "\n",
    "\n",
    "# []  형태 \n",
    "# list()  형태"
   ]
  },
  {
   "cell_type": "code",
   "execution_count": null,
   "id": "e184affb-0b0c-46db-b5bc-822011b6c30a",
   "metadata": {},
   "outputs": [],
   "source": [
    "# list comprehension\n",
    "\n",
    "# list_variable = [expression for 변수 in iterable]  \n",
    "\n",
    "# list_variable = [expression for 변수 in list(range(10))] \n",
    "# list: [0,1,2,3,4.....]\n",
    "\n",
    "[i** for i in list(range(10))]  # list comprehension (리스트를 간편하게 만들 수 있는 방법중 하나)\n",
    "\n"
   ]
  },
  {
   "cell_type": "code",
   "execution_count": 16,
   "id": "9da1635f-6b1a-4b5b-90fe-4b88c2d90039",
   "metadata": {},
   "outputs": [
    {
     "name": "stdout",
     "output_type": "stream",
     "text": [
      "[1, 2, 3, 4, 5, 6, 7, 8, 9]\n"
     ]
    }
   ],
   "source": [
    "listc=[i for i in range(1,10)]\n",
    "print(listc)"
   ]
  },
  {
   "cell_type": "code",
   "execution_count": 20,
   "id": "2dc2abce-cc07-4719-90b0-21d5d5a0a52f",
   "metadata": {},
   "outputs": [
    {
     "name": "stdout",
     "output_type": "stream",
     "text": [
      "<class 'list'>\n",
      "[1, 4, 9, 16, 25, 36, 49, 64, 81]\n"
     ]
    }
   ],
   "source": [
    "# Q : 1-9까지 숫자 제곱담는 리스트 만들어보기\n",
    "\n",
    "result=[i*i for i in range(1,10)]  # 거듭제곱 i**2 도 가능\n",
    "print(type(result))\n",
    "print(result)"
   ]
  },
  {
   "cell_type": "code",
   "execution_count": 23,
   "id": "466eab17-3342-433d-9120-4a4d3fcc7c69",
   "metadata": {},
   "outputs": [
    {
     "name": "stdout",
     "output_type": "stream",
     "text": [
      "[1, 3, 5, 7, 9]\n"
     ]
    }
   ],
   "source": [
    "# Q : 홀수만 갖는 리스트\n",
    "\n",
    "prac_result2=[ i for i in range(1,10,2)]\n",
    "print(prac_result2)\n"
   ]
  },
  {
   "cell_type": "code",
   "execution_count": 29,
   "id": "5215b66f-f183-4b22-975e-5c9e3d722b02",
   "metadata": {},
   "outputs": [
    {
     "name": "stdout",
     "output_type": "stream",
     "text": [
      "['a', 'b', 'c', 'd', 'e']\n"
     ]
    }
   ],
   "source": [
    "# Q\n",
    "\n",
    "prac_result3=[i for i in 'abcde']\n",
    "print(prac_result3)\n"
   ]
  },
  {
   "cell_type": "code",
   "execution_count": 39,
   "id": "b97ebc6a-eb77-43a2-9abb-a5f88d40c56f",
   "metadata": {},
   "outputs": [
    {
     "name": "stdout",
     "output_type": "stream",
     "text": [
      "['2', '3', '4', '5', '6', '7', '8', '9', '10', 'J', 'Q', 'K', 'A']\n"
     ]
    }
   ],
   "source": [
    "# Q\n",
    "\n",
    "a=[i for i in 'JQKA']   \n",
    "b=[i for i in map(str,range(2,11))]   # int을 str 형태로 꺼내옴\n",
    "\n",
    "print(b+a)\n"
   ]
  },
  {
   "cell_type": "code",
   "execution_count": 50,
   "id": "82ee8669-4559-4c09-bc36-561973c378a7",
   "metadata": {},
   "outputs": [
    {
     "name": "stdout",
     "output_type": "stream",
     "text": [
      "['2', '11', 'J', 'Q', 'K', 'A']\n"
     ]
    }
   ],
   "source": [
    "c=[str(i) for i in (2,11)]+[i for i in 'JQKA']\n",
    "print(c)"
   ]
  },
  {
   "cell_type": "code",
   "execution_count": 44,
   "id": "0a15fe25-94db-4983-ab79-29e674dcac77",
   "metadata": {},
   "outputs": [
    {
     "name": "stdout",
     "output_type": "stream",
     "text": [
      "{'J': '2', 'Q': '3', 'K': '4', 'A': '5'}\n"
     ]
    }
   ],
   "source": [
    "a=[i for i in 'JQKA']                # ['J', 'Q', 'K', 'A']\n",
    "b=[i for i in map(str,range(2,11))]  # ['2', '3', '4', '5', '6', '7', '8', '9', '10']\n",
    "\n",
    "c=dict(zip(a,b))     # 딕셔너리 형태로\n",
    "print(c)"
   ]
  },
  {
   "cell_type": "code",
   "execution_count": 71,
   "id": "25149691-4043-4c64-9784-20bcf135e357",
   "metadata": {},
   "outputs": [
    {
     "name": "stdout",
     "output_type": "stream",
     "text": [
      "['2', '3', '4', '5', '6', '7', '8', '9', '10', 'J', 'Q', 'K', 'A']\n",
      "[['2', '3', '4', '5', '6', '7', '8', '9', '10', 'J', 'Q', 'K', 'A', '2', '3', '4', '5', '6', '7', '8', '9', '10', 'J', 'Q', 'K', 'A', '2', '3', '4', '5', '6', '7', '8', '9', '10', 'J', 'Q', 'K', 'A', '2', '3', '4', '5', '6', '7', '8', '9', '10', 'J', 'Q', 'K', 'A']]\n"
     ]
    }
   ],
   "source": [
    "# Q\n",
    "\n",
    "a=[i for i in 'JQKA']   \n",
    "b=[i for i in map(str,range(2,11))]   # int을 str 형태로 꺼내옴\n",
    "c=b+a\n",
    "print(c)\n",
    "\n",
    "\n",
    "prac_result5=[i*4 for i in list([c])]\n",
    "print(prac_result5)\n"
   ]
  },
  {
   "cell_type": "code",
   "execution_count": 73,
   "id": "4d0386af-038a-406b-8ac2-39ed34a85128",
   "metadata": {},
   "outputs": [
    {
     "name": "stdout",
     "output_type": "stream",
     "text": [
      "['2', '3', '4', '5', '6', '7', '8', '9', '10', 'J', 'Q', 'K', 'A']\n",
      "[['2', '3', '4', '5', '6', '7', '8', '9', '10', 'J', 'Q', 'K', 'A'], ['2', '3', '4', '5', '6', '7', '8', '9', '10', 'J', 'Q', 'K', 'A'], ['2', '3', '4', '5', '6', '7', '8', '9', '10', 'J', 'Q', 'K', 'A'], ['2', '3', '4', '5', '6', '7', '8', '9', '10', 'J', 'Q', 'K', 'A']]\n"
     ]
    }
   ],
   "source": [
    "# Q\n",
    "\n",
    "a=[i for i in 'JQKA']   \n",
    "b=[i for i in map(str,range(2,11))]   # int을 str 형태로 꺼내옴\n",
    "c=b+a\n",
    "print(c)\n",
    "\n",
    "\n",
    "prac_result5=[c for i in range(4)]   # 만들어진 리스트 4번 반복\n",
    "print(prac_result5)\n"
   ]
  },
  {
   "cell_type": "code",
   "execution_count": 12,
   "id": "7c81464e-25d0-46e0-afde-cd78b4ae9580",
   "metadata": {},
   "outputs": [
    {
     "name": "stdout",
     "output_type": "stream",
     "text": [
      "['2', '3', '4', '5', '6', '7', '8', '9', '10', 'J', 'Q', 'K', 'A']\n",
      "['two', '3', '4', '5', '6', '7', '8', '9', '10', 'J', 'Q', 'K', 'A']\n"
     ]
    }
   ],
   "source": [
    "a=[i for i in 'JQKA']   \n",
    "b=[i for i in map(str,range(2,11))]   # int을 str 형태로 꺼내옴\n",
    "c=b+a\n",
    "print(c)\n",
    "\n",
    "c[0]='two'   \n",
    "print(c)\n",
    "\n"
   ]
  },
  {
   "cell_type": "code",
   "execution_count": null,
   "id": "7511475b-f7ff-4696-a09a-963f43cb9593",
   "metadata": {},
   "outputs": [],
   "source": []
  },
  {
   "cell_type": "code",
   "execution_count": null,
   "id": "b2ee244f-b7bc-44ac-b230-c289802ec42c",
   "metadata": {},
   "outputs": [],
   "source": []
  },
  {
   "cell_type": "code",
   "execution_count": 81,
   "id": "b82b9471-946f-490f-9077-c85d735a8ead",
   "metadata": {},
   "outputs": [
    {
     "name": "stdout",
     "output_type": "stream",
     "text": [
      "['2', '11', 'J', 'Q', 'K', 'A']\n"
     ]
    }
   ],
   "source": [
    "e=[str(i) for i in (2,11)]+[i for i in 'JQKA']\n",
    "print(e)\n",
    "\n",
    "e[0]='two'"
   ]
  },
  {
   "cell_type": "code",
   "execution_count": 7,
   "id": "c21f21dd-2471-4867-9f1d-bd292ee1769f",
   "metadata": {},
   "outputs": [
    {
     "name": "stdout",
     "output_type": "stream",
     "text": [
      "['J', 'Q', 'K', 'A']\n",
      "['two', 'Q', 'K', 'A']\n",
      "['two', 'Q', 'K', 'A']\n"
     ]
    }
   ],
   "source": [
    "x=[i for i in 'JQKA']  \n",
    "print(x)\n",
    "\n",
    "x[0]='two'\n",
    "print(x[0:5])\n",
    "print(x)\n"
   ]
  },
  {
   "cell_type": "code",
   "execution_count": null,
   "id": "b409befe-da92-421f-9a32-2aa75eedba8c",
   "metadata": {},
   "outputs": [],
   "source": []
  },
  {
   "cell_type": "code",
   "execution_count": 14,
   "id": "77fb32f4-121e-4dcf-b372-07fe3276aabe",
   "metadata": {},
   "outputs": [
    {
     "ename": "NameError",
     "evalue": "name 'prac_result4' is not defined",
     "output_type": "error",
     "traceback": [
      "\u001b[1;31m---------------------------------------------------------------------------\u001b[0m",
      "\u001b[1;31mNameError\u001b[0m                                 Traceback (most recent call last)",
      "\u001b[1;32m~\\AppData\\Local\\Temp\\ipykernel_16320\\2391143995.py\u001b[0m in \u001b[0;36m<module>\u001b[1;34m\u001b[0m\n\u001b[0;32m      1\u001b[0m \u001b[1;31m#\u001b[0m\u001b[1;33m\u001b[0m\u001b[1;33m\u001b[0m\u001b[0m\n\u001b[0;32m      2\u001b[0m \u001b[1;33m\u001b[0m\u001b[0m\n\u001b[1;32m----> 3\u001b[1;33m \u001b[0mprint\u001b[0m\u001b[1;33m(\u001b[0m\u001b[1;34m\"prac_result4의 id:\"\u001b[0m\u001b[1;33m,\u001b[0m \u001b[0mid\u001b[0m\u001b[1;33m(\u001b[0m\u001b[0mprac_result4\u001b[0m\u001b[1;33m)\u001b[0m\u001b[1;33m)\u001b[0m\u001b[1;33m\u001b[0m\u001b[1;33m\u001b[0m\u001b[0m\n\u001b[0m\u001b[0;32m      4\u001b[0m \u001b[1;32mfor\u001b[0m \u001b[0mi\u001b[0m\u001b[1;33m,\u001b[0m \u001b[0mv\u001b[0m \u001b[1;32min\u001b[0m \u001b[0menumerate\u001b[0m\u001b[1;33m(\u001b[0m\u001b[0mprac_result5\u001b[0m\u001b[1;33m)\u001b[0m\u001b[1;33m:\u001b[0m\u001b[1;33m\u001b[0m\u001b[1;33m\u001b[0m\u001b[0m\n\u001b[0;32m      5\u001b[0m     \u001b[0mprint\u001b[0m\u001b[1;33m(\u001b[0m\u001b[1;34m\"prac_result5[\"\u001b[0m\u001b[1;33m,\u001b[0m\u001b[0mi\u001b[0m\u001b[1;33m,\u001b[0m\u001b[1;34m\"]:\"\u001b[0m\u001b[1;33m,\u001b[0m\u001b[0mid\u001b[0m\u001b[1;33m(\u001b[0m\u001b[0mv\u001b[0m\u001b[1;33m)\u001b[0m\u001b[1;33m,\u001b[0m\u001b[0msep\u001b[0m\u001b[1;33m=\u001b[0m\u001b[1;34m\"\"\u001b[0m\u001b[1;33m)\u001b[0m\u001b[1;33m\u001b[0m\u001b[1;33m\u001b[0m\u001b[0m\n",
      "\u001b[1;31mNameError\u001b[0m: name 'prac_result4' is not defined"
     ]
    }
   ],
   "source": [
    "# \n",
    "\n",
    "print(\"prac_result4의 id:\", id(prac_result4))\n",
    "for i, v in enumerate(prac_result5):\n",
    "    print(\"prac_result5[\",i,\"]:\",id(v),sep=\"\")"
   ]
  },
  {
   "cell_type": "code",
   "execution_count": null,
   "id": "b51b102e-a103-422d-9c60-f6dd1a59bf9a",
   "metadata": {},
   "outputs": [],
   "source": []
  },
  {
   "cell_type": "code",
   "execution_count": 15,
   "id": "a401add0-0af3-4808-b72f-8f483e8e7a16",
   "metadata": {},
   "outputs": [],
   "source": [
    "test=[i for i in range(10)]"
   ]
  },
  {
   "cell_type": "code",
   "execution_count": 16,
   "id": "5c613471-fe12-4254-936c-3d86d5e6b395",
   "metadata": {},
   "outputs": [
    {
     "data": {
      "text/plain": [
       "[0, 1, 2, 3, 4, 5, 6, 7, 8, 9]"
      ]
     },
     "execution_count": 16,
     "metadata": {},
     "output_type": "execute_result"
    }
   ],
   "source": [
    "test"
   ]
  },
  {
   "cell_type": "code",
   "execution_count": 17,
   "id": "25535217-46c3-49d8-87d8-a32c93c66196",
   "metadata": {},
   "outputs": [
    {
     "data": {
      "text/plain": [
       "[0, 1, 2, 3, 4, 5, 6, 7, 8, 9]"
      ]
     },
     "execution_count": 17,
     "metadata": {},
     "output_type": "execute_result"
    }
   ],
   "source": [
    "test[:]"
   ]
  },
  {
   "cell_type": "code",
   "execution_count": 18,
   "id": "a9e8588d-c3e5-4182-a1bc-af3f82aa81df",
   "metadata": {},
   "outputs": [
    {
     "data": {
      "text/plain": [
       "list"
      ]
     },
     "execution_count": 18,
     "metadata": {},
     "output_type": "execute_result"
    }
   ],
   "source": [
    "type(test)"
   ]
  },
  {
   "cell_type": "code",
   "execution_count": 21,
   "id": "4969a100-343f-4972-bcc0-78a35d847609",
   "metadata": {},
   "outputs": [],
   "source": [
    "test2=tuple(test)"
   ]
  },
  {
   "cell_type": "code",
   "execution_count": 22,
   "id": "8fc0697e-2fd4-4fc7-83c4-b012fe71e2b7",
   "metadata": {},
   "outputs": [
    {
     "data": {
      "text/plain": [
       "tuple"
      ]
     },
     "execution_count": 22,
     "metadata": {},
     "output_type": "execute_result"
    }
   ],
   "source": [
    "type(test2)"
   ]
  },
  {
   "cell_type": "code",
   "execution_count": 23,
   "id": "a82845fa-c19d-46bc-b7fc-058c383dbd3d",
   "metadata": {},
   "outputs": [
    {
     "data": {
      "text/plain": [
       "(0, 1)"
      ]
     },
     "execution_count": 23,
     "metadata": {},
     "output_type": "execute_result"
    }
   ],
   "source": [
    "test2[:2]"
   ]
  },
  {
   "cell_type": "code",
   "execution_count": 24,
   "id": "24292289-1237-4476-bda0-b82ca53def04",
   "metadata": {},
   "outputs": [
    {
     "name": "stdout",
     "output_type": "stream",
     "text": [
      "2239549524352\n",
      "2239549291392\n",
      "False\n",
      "True\n"
     ]
    }
   ],
   "source": [
    "# Q \n",
    "# [1,2,3,4,5,6,7,8,9]\n",
    "\n",
    "old_list=list(range(10))\n",
    "new_list=old_list[:]\n",
    "\n",
    "print(id(old_list))            \n",
    "print(id(new_list))\n",
    "print(old_list is new_list)    # 객체비교\n",
    "print(old_list==new_list)      # 값의비교\n"
   ]
  },
  {
   "cell_type": "code",
   "execution_count": null,
   "id": "83669b65-1cc4-4e06-afe6-fb285e5fda7f",
   "metadata": {},
   "outputs": [],
   "source": [
    "# 리스트 복사 copy() 메소드  : 키피원본과 카피본의 객체가 다름\n",
    "\n"
   ]
  },
  {
   "cell_type": "code",
   "execution_count": null,
   "id": "94a84219-ada4-422f-8d8b-0451f7337ec8",
   "metadata": {},
   "outputs": [],
   "source": []
  },
  {
   "cell_type": "code",
   "execution_count": null,
   "id": "1a30df00-f555-46a3-a428-432f5f50f9ff",
   "metadata": {},
   "outputs": [],
   "source": []
  },
  {
   "cell_type": "code",
   "execution_count": null,
   "id": "7c0165a4-5b29-4799-949f-52d0ed9c0cb3",
   "metadata": {},
   "outputs": [],
   "source": []
  },
  {
   "cell_type": "code",
   "execution_count": null,
   "id": "20ea8015-bb0c-46e7-8af8-e608d442afbd",
   "metadata": {},
   "outputs": [],
   "source": []
  },
  {
   "cell_type": "code",
   "execution_count": null,
   "id": "4a7f382c-64e8-4ae6-8e62-f0f4b0b6bd3f",
   "metadata": {},
   "outputs": [],
   "source": []
  }
 ],
 "metadata": {
  "kernelspec": {
   "display_name": "Python 3 (ipykernel)",
   "language": "python",
   "name": "python3"
  },
  "language_info": {
   "codemirror_mode": {
    "name": "ipython",
    "version": 3
   },
   "file_extension": ".py",
   "mimetype": "text/x-python",
   "name": "python",
   "nbconvert_exporter": "python",
   "pygments_lexer": "ipython3",
   "version": "3.9.13"
  }
 },
 "nbformat": 4,
 "nbformat_minor": 5
}
