{
 "cells": [
  {
   "cell_type": "code",
   "execution_count": null,
   "id": "456741d7-fb05-4e7f-a42a-05a5abe23e1b",
   "metadata": {},
   "outputs": [],
   "source": [
    "# 함수\n",
    "\n",
    "# def(define)\n",
    "# 변수명 snake case : snake_case형태(권장)\n",
    "# 인수는 argument, 인자 parameter  -> argument가 parameter에 전달이 된다.\n",
    "# 반복사용하는 코드르 함수 바디에 놓고 재사용(필요할때 호출)ㅡ 유지보수에 좋음음\n",
    "\n",
    "# 결과반환은 : tule에서 ()생략가능하고 출력"
   ]
  },
  {
   "cell_type": "code",
   "execution_count": null,
   "id": "99c3c969-038b-4e1d-be8c-e081e99b159f",
   "metadata": {},
   "outputs": [],
   "source": []
  },
  {
   "cell_type": "code",
   "execution_count": null,
   "id": "bf93341b-dc67-4fe1-a9b6-89641b529315",
   "metadata": {},
   "outputs": [],
   "source": []
  },
  {
   "cell_type": "code",
   "execution_count": 1,
   "id": "6c315f67-c6b3-4af3-92b3-603967581bf2",
   "metadata": {},
   "outputs": [],
   "source": [
    "# 문자열.isdecimal()"
   ]
  },
  {
   "cell_type": "code",
   "execution_count": null,
   "id": "f81a754a-62ea-420c-a284-41bf3104bd26",
   "metadata": {},
   "outputs": [],
   "source": []
  },
  {
   "cell_type": "code",
   "execution_count": null,
   "id": "3a064a6b-46ce-48cf-9afd-2c542bd57dc5",
   "metadata": {},
   "outputs": [],
   "source": []
  },
  {
   "cell_type": "code",
   "execution_count": null,
   "id": "37c7f5c4-ed39-487b-919b-8eb421dae9ab",
   "metadata": {},
   "outputs": [],
   "source": []
  }
 ],
 "metadata": {
  "kernelspec": {
   "display_name": "Python 3 (ipykernel)",
   "language": "python",
   "name": "python3"
  },
  "language_info": {
   "codemirror_mode": {
    "name": "ipython",
    "version": 3
   },
   "file_extension": ".py",
   "mimetype": "text/x-python",
   "name": "python",
   "nbconvert_exporter": "python",
   "pygments_lexer": "ipython3",
   "version": "3.9.13"
  }
 },
 "nbformat": 4,
 "nbformat_minor": 5
}
