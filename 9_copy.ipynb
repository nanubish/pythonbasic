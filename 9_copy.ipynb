{
 "cells": [
  {
   "cell_type": "code",
   "execution_count": null,
   "id": "5da270eb-9786-4bc3-bfa8-ea7638282700",
   "metadata": {},
   "outputs": [],
   "source": [
    "# id(), is 값이 동일하면 같은 객체라는 뜻 (값도 같다는 뜻)"
   ]
  },
  {
   "cell_type": "code",
   "execution_count": null,
   "id": "648e88cc-7617-4269-ab83-4b112c5acde3",
   "metadata": {},
   "outputs": [],
   "source": [
    "# print(lista==listb) / print(lista is listb) 로 확인\n",
    "\n",
    "# 리스트를 등호를 통해 가져옴 -> 같은 객체의 주소값과 값을 복사한다.\n",
    "# 다르게 하고싶을때는 copy() 메소드를 써서 새로운 객체를 만든다(값은 같다)"
   ]
  },
  {
   "cell_type": "code",
   "execution_count": 3,
   "id": "5c9dc97b-6ef0-4dcf-9359-c64b56746e2e",
   "metadata": {},
   "outputs": [
    {
     "name": "stdout",
     "output_type": "stream",
     "text": [
      "[[0], [0], [0]]\n",
      "[[999], [999], [999]]\n"
     ]
    }
   ],
   "source": [
    "# 얕은복사 : 리스트안에 리스트는 주소값을 가져온다\n",
    "\n",
    "list_i=[[0]]*3\n",
    "print(list_i)\n",
    "list_i[0][0]=999  \n",
    "print(list_i)"
   ]
  },
  {
   "cell_type": "code",
   "execution_count": 5,
   "id": "46e98c8a-9da2-49f9-b52d-8c4dec759900",
   "metadata": {},
   "outputs": [
    {
     "data": {
      "text/plain": [
       "[[0], [0], [0]]"
      ]
     },
     "execution_count": 5,
     "metadata": {},
     "output_type": "execute_result"
    }
   ],
   "source": [
    "# 예시\n",
    "\n",
    "a=[[0]]*3\n",
    "a"
   ]
  },
  {
   "cell_type": "code",
   "execution_count": 6,
   "id": "3ab69b04-f79f-4572-88c4-7d734bc6bba1",
   "metadata": {},
   "outputs": [
    {
     "name": "stdout",
     "output_type": "stream",
     "text": [
      "1669204240656\n",
      "1669204240656\n",
      "1669204240656\n"
     ]
    }
   ],
   "source": [
    "print(id(a[0][0]))\n",
    "print(id(a[1][0]))\n",
    "print(id(a[2][0]))"
   ]
  },
  {
   "cell_type": "code",
   "execution_count": 8,
   "id": "48abda10-a761-4c6c-9ea2-9a6c2fbb7fc5",
   "metadata": {},
   "outputs": [],
   "source": [
    "row=[0]             # 프로그램이 돌아가고 있는 내내 쓰임\n",
    "a=[]\n",
    "\n",
    "for i in range(3):   \n",
    "    a.append(row)   # a=[[0]]*3 와 같은의미  => [[0], [0], [0]]\n",
    "\n",
    "    \n",
    "    # i=0 -> [0]\n",
    "    # i=1 -> [0]\n",
    "    # i=2 -> [0]  -> 결과적으로 같은 row를 반복하게됨(같은객체)"
   ]
  },
  {
   "cell_type": "code",
   "execution_count": 9,
   "id": "ebde0de6-b482-4605-ba0b-89dd61026f58",
   "metadata": {},
   "outputs": [
    {
     "name": "stdout",
     "output_type": "stream",
     "text": [
      "1669204240656\n",
      "1669204240656\n",
      "1669204240656\n"
     ]
    }
   ],
   "source": [
    "print(id(a[0][0]))   # 요소 하나에 대한 id\n",
    "print(id(a[1][0]))\n",
    "print(id(a[2][0]))"
   ]
  },
  {
   "cell_type": "code",
   "execution_count": null,
   "id": "12401bdf-d061-49e0-8196-def946fd4752",
   "metadata": {},
   "outputs": [],
   "source": [
    "b=[]\n",
    "for i in range(3):\n",
    "    row=[0]        # for문이 반복될때마다 새로 생성되는 변수, body가 끝날때 사라짐\n",
    "                   # i=1 일때 [0], i=1이되면 row [0]를 만듬, 또 반복되면서 i=2되면 row가 하나더 생성 [0]\n",
    "                   # 생성된 [0][0][0]가 각각 다른 row를 만든다\n",
    "    b.append(row)\n"
   ]
  },
  {
   "cell_type": "code",
   "execution_count": 11,
   "id": "3ef6390b-916c-4c41-af9f-bfc8172c62cf",
   "metadata": {},
   "outputs": [
    {
     "ename": "NameError",
     "evalue": "name 'b' is not defined",
     "output_type": "error",
     "traceback": [
      "\u001b[1;31m---------------------------------------------------------------------------\u001b[0m",
      "\u001b[1;31mNameError\u001b[0m                                 Traceback (most recent call last)",
      "\u001b[1;32m~\\AppData\\Local\\Temp\\ipykernel_11748\\2400080932.py\u001b[0m in \u001b[0;36m<module>\u001b[1;34m\u001b[0m\n\u001b[1;32m----> 1\u001b[1;33m \u001b[0mprint\u001b[0m\u001b[1;33m(\u001b[0m\u001b[0mid\u001b[0m\u001b[1;33m(\u001b[0m\u001b[0mb\u001b[0m\u001b[1;33m[\u001b[0m\u001b[1;36m0\u001b[0m\u001b[1;33m]\u001b[0m\u001b[1;33m)\u001b[0m\u001b[1;33m)\u001b[0m\u001b[1;33m\u001b[0m\u001b[1;33m\u001b[0m\u001b[0m\n\u001b[0m\u001b[0;32m      2\u001b[0m \u001b[0mprint\u001b[0m\u001b[1;33m(\u001b[0m\u001b[0mid\u001b[0m\u001b[1;33m(\u001b[0m\u001b[0mb\u001b[0m\u001b[1;33m[\u001b[0m\u001b[1;36m1\u001b[0m\u001b[1;33m]\u001b[0m\u001b[1;33m)\u001b[0m\u001b[1;33m)\u001b[0m\u001b[1;33m\u001b[0m\u001b[1;33m\u001b[0m\u001b[0m\n\u001b[0;32m      3\u001b[0m \u001b[0mprint\u001b[0m\u001b[1;33m(\u001b[0m\u001b[0mid\u001b[0m\u001b[1;33m(\u001b[0m\u001b[0mb\u001b[0m\u001b[1;33m[\u001b[0m\u001b[1;36m2\u001b[0m\u001b[1;33m]\u001b[0m\u001b[1;33m)\u001b[0m\u001b[1;33m)\u001b[0m\u001b[1;33m\u001b[0m\u001b[1;33m\u001b[0m\u001b[0m\n",
      "\u001b[1;31mNameError\u001b[0m: name 'b' is not defined"
     ]
    }
   ],
   "source": [
    "print(id(b[0]))\n",
    "print(id(b[1]))\n",
    "print(id(b[2]))"
   ]
  },
  {
   "cell_type": "code",
   "execution_count": 12,
   "id": "0f6aef08-42a5-400f-b7c2-d2d8f2463554",
   "metadata": {},
   "outputs": [
    {
     "data": {
      "text/plain": [
       "True"
      ]
     },
     "execution_count": 12,
     "metadata": {},
     "output_type": "execute_result"
    }
   ],
   "source": [
    "e=256\n",
    "f=256 \n",
    "e is f"
   ]
  },
  {
   "cell_type": "code",
   "execution_count": 14,
   "id": "9bfedc32-f215-4767-a1f2-b78d3cbe8e6d",
   "metadata": {},
   "outputs": [
    {
     "data": {
      "text/plain": [
       "False"
      ]
     },
     "execution_count": 14,
     "metadata": {},
     "output_type": "execute_result"
    }
   ],
   "source": [
    "g=257\n",
    "h=257\n",
    "g is h"
   ]
  },
  {
   "cell_type": "code",
   "execution_count": null,
   "id": "0f32e492-3d0b-4aca-8c86-99bc1294123c",
   "metadata": {},
   "outputs": [],
   "source": [
    "# 얕은복사 \n",
    "# 리스트안에 리스트 자체는 주소를 복사에 같은걸 본다\n",
    "# 카피원본본의 변동사항은 카피본에 영향을 준다 \n",
    "# 많은 메모리를 쓰게됨\n",
    "\n",
    "# 1_ 슬라이싱 복사 : 얕은복사\n",
    "# 2_ copy() 메서드로 복사 : 얕은복사\n",
    "\n",
    "# 둘다 각각의 요소는 같다"
   ]
  },
  {
   "cell_type": "code",
   "execution_count": 16,
   "id": "de7bf2d8-45aa-44a4-8b6b-82196e081b72",
   "metadata": {},
   "outputs": [
    {
     "name": "stdout",
     "output_type": "stream",
     "text": [
      "False\n"
     ]
    }
   ],
   "source": [
    "# 깊은복사 \n",
    "# deepcopy()위해 먼저짜여진 copy 라이브러리를 필요로 한다. 쓰겠다는 선언필요\n",
    "# 메모리상의 리스트도 같이 복사, 중첩적으로 갖는것도 새롭게 복사 (변경이 발생해도 새로 카피된 리스트에는 변동이 없다.)\n",
    "\n",
    "import copy  # copy 라이브러리를 쓰겠다는 선언\n",
    "\n",
    "n=[[99,10],[11,12]]\n",
    "o=copy.deepcopy(n)\n",
    "print(n[0] is o)   # 새로운 객체로 복사했으므로 원본에 변동이 생겨도 딥카피본에는 변동없음\n"
   ]
  },
  {
   "cell_type": "code",
   "execution_count": 22,
   "id": "a36c3f9e-2ce3-4037-b0b2-df00e0d7a392",
   "metadata": {},
   "outputs": [
    {
     "data": {
      "text/plain": [
       "False"
      ]
     },
     "execution_count": 22,
     "metadata": {},
     "output_type": "execute_result"
    }
   ],
   "source": [
    "# 예시\n",
    "\n",
    "l1=[1,2,[3,4]]\n",
    "l2=l1.copy()\n",
    "l1 is l2          # 메모리는 다르다"
   ]
  },
  {
   "cell_type": "code",
   "execution_count": 24,
   "id": "a60f9845-51d1-4e5a-9786-7d52ba75e372",
   "metadata": {},
   "outputs": [],
   "source": [
    "l1[-1]=l2[-1]     # 값은 같다, 원본의 영향을 받는다."
   ]
  },
  {
   "cell_type": "code",
   "execution_count": 10,
   "id": "c0bc3466-70f1-4e97-a2fe-74eb55186e92",
   "metadata": {},
   "outputs": [
    {
     "data": {
      "text/plain": [
       "False"
      ]
     },
     "execution_count": 10,
     "metadata": {},
     "output_type": "execute_result"
    }
   ],
   "source": [
    "l3=[5,6]\n",
    "l4=l3[:]\n",
    "l3 is l4          # 새로운 객체를 생성하므로 객체가 다름"
   ]
  },
  {
   "cell_type": "code",
   "execution_count": 11,
   "id": "f2df95c2-b802-40c0-8926-7fd1b3713287",
   "metadata": {},
   "outputs": [
    {
     "data": {
      "text/plain": [
       "True"
      ]
     },
     "execution_count": 11,
     "metadata": {},
     "output_type": "execute_result"
    }
   ],
   "source": [
    "l3[-1] is l4[-1]  # 값은 같다"
   ]
  },
  {
   "cell_type": "code",
   "execution_count": null,
   "id": "c138d448-40c0-49d1-82c9-4d678f17a94b",
   "metadata": {},
   "outputs": [],
   "source": [
    "# list comprehension\n",
    "\n",
    "list_variable=[expression for 변수 in iterable if조건식]   # if조건식 쓸수있다. True 일때만\n",
    "\n",
    "# rage내 용소가 반복되면서 조건식이 True 일때\n",
    "# 하나의 요소를 꺼내와 변수를 담고 조건감이 트루일때만 담긴다, 트루가 아니면 for문에 가서 있는지 체크하고 담는다\n"
   ]
  },
  {
   "cell_type": "code",
   "execution_count": 1,
   "id": "6c9aef85-a4a0-4e58-9a98-4d8ffd0da685",
   "metadata": {},
   "outputs": [
    {
     "name": "stdout",
     "output_type": "stream",
     "text": [
      "[0, 3, 6, 9]\n"
     ]
    }
   ],
   "source": [
    "lp=[i for i in range(10) if i%3 == 0]\n",
    "print(lp)\n",
    "\n",
    "# i에 0 이 있으면 if 확인 조건이 성립되면 출력"
   ]
  },
  {
   "cell_type": "code",
   "execution_count": null,
   "id": "5ed5f7f2-d151-40e9-a542-eb7b222c2d0c",
   "metadata": {},
   "outputs": [],
   "source": [
    "# for문을 여러개 작성할 수 있고 이럴때 우측에서 좌측으로 진행"
   ]
  },
  {
   "cell_type": "code",
   "execution_count": 9,
   "id": "9fafb71a-30d8-4d58-aadc-076a0d936dfd",
   "metadata": {},
   "outputs": [
    {
     "name": "stdout",
     "output_type": "stream",
     "text": [
      "1\n",
      "2\n",
      "3\n",
      "4\n",
      "5\n",
      "3\n",
      "4\n"
     ]
    }
   ],
   "source": [
    "# 중첩 리스트 사용하기\n",
    "\n",
    "# 리스트는 수학의 배열과 다르다.\n",
    "\n",
    "easylist=[[1,2,3,4,5],[3,4]]   \n",
    "\n",
    "i=0\n",
    "          \n",
    "while i < len(easylist):   0,1\n",
    "    j=0                          # easylist[0], easylist[1] 인덱스용  \n",
    "    while j<len(easylist[i]):\n",
    "          print(easylist[i][j])  # i=0이면 [0][0]부터 [0][1] -> [0][2] ->[0][3] ->[0][4]로 프린트\n",
    "          j+=1\n",
    "    i+=1"
   ]
  },
  {
   "cell_type": "code",
   "execution_count": null,
   "id": "905e4def-b66a-4768-a34d-d4512334ce63",
   "metadata": {},
   "outputs": [],
   "source": [
    "# 튜플 : 불변이라 사용가능한 method는 index(), count()등입\n",
    "\n",
    "# generate comprehension : \n",
    "# list comprehension에서 댇괄호를 소괄호로 바꾸면 generator로 됨"
   ]
  },
  {
   "cell_type": "code",
   "execution_count": 12,
   "id": "43416f01-87a2-4274-bf0a-7057c0dffef6",
   "metadata": {},
   "outputs": [
    {
     "data": {
      "text/plain": [
       "generator"
      ]
     },
     "execution_count": 12,
     "metadata": {},
     "output_type": "execute_result"
    }
   ],
   "source": [
    "gen=(i for i in range(10))  # 튜플형식으로 보이나 generator로 나옴\n",
    "type(gen)"
   ]
  },
  {
   "cell_type": "code",
   "execution_count": 13,
   "id": "89ce6531-412f-4d2c-9592-c4e7d7fe553b",
   "metadata": {},
   "outputs": [
    {
     "data": {
      "text/plain": [
       "list"
      ]
     },
     "execution_count": 13,
     "metadata": {},
     "output_type": "execute_result"
    }
   ],
   "source": [
    "lis=list(i for i in range(10))\n",
    "type(lis)"
   ]
  },
  {
   "cell_type": "code",
   "execution_count": null,
   "id": "06e709f0-df17-4e3c-846e-220e70c5d4a0",
   "metadata": {},
   "outputs": [],
   "source": [
    "lis=list(i for i in range(10))\n",
    "type(lis)"
   ]
  },
  {
   "cell_type": "code",
   "execution_count": 32,
   "id": "3841ef0e-7351-4192-843c-6a2da75be7f8",
   "metadata": {},
   "outputs": [],
   "source": [
    "# Q\n",
    "a = ['alpha', 'bravo', 'charlie', 'delta', 'echo', 'foxtrot', 'golf', 'hotel', 'india']\n",
    "# b=  [    ?    ]\n",
    "     \n",
    "# 실행값 ['alpha', 'bravo', 'delta', 'hotel', 'india']"
   ]
  },
  {
   "cell_type": "code",
   "execution_count": 29,
   "id": "3a9a6427-1bae-467a-ac29-dd3459702d09",
   "metadata": {},
   "outputs": [
    {
     "name": "stdout",
     "output_type": "stream",
     "text": [
      "['alpha', 'bravo', 'delta', 'hotel', 'india']\n"
     ]
    }
   ],
   "source": [
    "a=['alpha','bravo','charlie','delta','echo','foxtrot','golf','hotel','india']\n",
    "\n",
    "b = [ i for i in a if len(i)==5 ]\n",
    "print(b)\n"
   ]
  },
  {
   "cell_type": "code",
   "execution_count": null,
   "id": "09c33807-df93-4652-b042-4a1e95d79033",
   "metadata": {},
   "outputs": [],
   "source": [
    "# 인덱스 이용한 풀이\n",
    "\n",
    "[a[i] for i in range(len(a)) if len(a(i)) ==5]\n"
   ]
  },
  {
   "cell_type": "code",
   "execution_count": null,
   "id": "a571426c-8703-482c-a725-84cee40f0efb",
   "metadata": {},
   "outputs": [],
   "source": [
    "# Q : 사용자가 공백을 구분자로 정수 값을 받음. \n",
    "# 첫번째 입력값의 범위는 1-20사이의 숫자\n",
    "# 두번째 입력 값의 범위는 10-30 사이의 숫자입니다\n",
    "# 첫 번째 입력값은 두 번째 입력 값보다 작아야 합니다.\n",
    "\n",
    "#정수두개 입력\n"
   ]
  },
  {
   "cell_type": "code",
   "execution_count": 3,
   "id": "9a77ec53-f8ea-46d7-b5ee-2bbed941df27",
   "metadata": {},
   "outputs": [
    {
     "name": "stdin",
     "output_type": "stream",
     "text": [
      "정 수 두개 입력하세요:  99 1\n"
     ]
    }
   ],
   "source": [
    "first, second=map(int,input('정 수 두개 입력하세요: ').split())\n",
    "\n",
    "for i in first<second:\n",
    "    if first<0 or first>20:\n",
    "        continue\n",
    "    print('첫번째 값의 범위는 1~20입니다.')   \n",
    "    if second<10 or second>30:\n",
    "        continue\n",
    "    print('첫번쨰 입력 값은 두 번째 입력 값보다 작게 입력하세요.')"
   ]
  },
  {
   "cell_type": "markdown",
   "id": "88ecc17f-33dd-4e2c-8d13-25687f984400",
   "metadata": {},
   "source": [
    "# first, second=map(int,input('정 수 두개 입력하세요: ').split())\n",
    "\n",
    "while first<second:\n",
    "    if 0<=first<=20:\n",
    "        continue\n",
    "    print('첫번째 값의 범위는 1~20입니다.')   \n",
    "    if 0<=second<=30:\n",
    "        continue\n",
    "        print('첫번째 입력 값은 두 번째 입력 값보다 작게 입력하세요.')"
   ]
  },
  {
   "cell_type": "code",
   "execution_count": 8,
   "id": "07c48708-81bb-4116-8013-00f336d4c1e7",
   "metadata": {},
   "outputs": [
    {
     "ename": "IndentationError",
     "evalue": "unexpected indent (1447016533.py, line 7)",
     "output_type": "error",
     "traceback": [
      "\u001b[1;36m  File \u001b[1;32m\"C:\\Users\\user\\AppData\\Local\\Temp\\ipykernel_25808\\1447016533.py\"\u001b[1;36m, line \u001b[1;32m7\u001b[0m\n\u001b[1;33m    if 0<=second<=30:\u001b[0m\n\u001b[1;37m    ^\u001b[0m\n\u001b[1;31mIndentationError\u001b[0m\u001b[1;31m:\u001b[0m unexpected indent\n"
     ]
    }
   ],
   "source": [
    "first, second=map(int,input('정 수 두개 입력하세요: ').split())\n",
    "\n",
    "while first<second:\n",
    "    if 0<=first<=20:\n",
    "        continue\n",
    "    print('첫번째 값의 범위는 1~20입니다.')   \n",
    "    if 0<=second<=30:\n",
    "        continue\n",
    "        print('첫번째 입력 값은 두 번째 입력 값보다 작게 입력하세요.')"
   ]
  },
  {
   "cell_type": "code",
   "execution_count": 14,
   "id": "453a15de-2aa0-4dcd-88df-e5968f0a781a",
   "metadata": {},
   "outputs": [
    {
     "ename": "SyntaxError",
     "evalue": "invalid syntax (3320174917.py, line 14)",
     "output_type": "error",
     "traceback": [
      "\u001b[1;36m  File \u001b[1;32m\"C:\\Users\\user\\AppData\\Local\\Temp\\ipykernel_25808\\3320174917.py\"\u001b[1;36m, line \u001b[1;32m14\u001b[0m\n\u001b[1;33m    final=[i** for i in range(first,second+1)]\u001b[0m\n\u001b[1;37m               ^\u001b[0m\n\u001b[1;31mSyntaxError\u001b[0m\u001b[1;31m:\u001b[0m invalid syntax\n"
     ]
    }
   ],
   "source": [
    "first, second=map(int,input('정 수 두개 입력하세요: ').split())\n",
    "\n",
    "i=0\n",
    "\n",
    "while first<second:\n",
    "    if 0<=first<=20:\n",
    "        continue\n",
    "print('첫번째 값의 범위는 1~20입니다.') \n",
    "while first<second:\n",
    "     if 0<=second<=30:\n",
    "        continue\n",
    "print('첫번째 입력 값은 두 번째 입력 값보다 작게 입력하세요.') \n",
    "\n",
    "\n",
    "final=[i** for i in range(first,second+1)]\n",
    "print(final)\n"
   ]
  },
  {
   "cell_type": "code",
   "execution_count": null,
   "id": "399f2016-aede-4248-8366-32af5f46dd0e",
   "metadata": {},
   "outputs": [],
   "source": [
    "first, second=map(int,input('정 수 두개 입력하세요: ').split())\n",
    "\n",
    "i=0\n",
    "\n",
    "while first<second:\n",
    "    if 0<=first<=20:\n",
    "        continue\n",
    "print('첫번째 값의 범위는 1~20입니다.') \n",
    "while first<second:\n",
    "     if 0<=second<=30:\n",
    "        continue\n",
    "print('첫번째 입력 값은 두 번째 입력 값보다 작게 입력하세요.') \n",
    "\n",
    "\n",
    "final=[2**i for i in range(first,second+1)]\n",
    "print(final)"
   ]
  },
  {
   "cell_type": "code",
   "execution_count": null,
   "id": "85aedb1b-e595-47cc-96b9-53e69f00b9d8",
   "metadata": {},
   "outputs": [],
   "source": [
    "# ans\n",
    "\n",
    "#자기자신말고 밑에수로 나눠봄\n",
    "\n",
    "while True:   #올바른 답을 할때까지 반복\n",
    "    first, second=map(int,input('정 수 두개 입력하세요: ').split())\n",
    "    \n",
    "    if first<1 or first>20:\n",
    "        print('첫번째 값의 범위는 1~20입니다.')  #아니면 나가서 처음으로 돌아감\n",
    "    elif second<10 or second>30:\n",
    "        print('첫번째 입력 값은 두 번째 입력 값보다 작게 입력하세요.') \n",
    "        \n",
    "    else:\n",
    "        final=[2**i for i in range(first, second+1)]\n",
    "        del final[1]\n",
    "        del final[len(final)-2]   # len(final) = -2 \n",
    "        print(final)\n",
    "        break  # 조건 빠져나가기 위함\n",
    "    continue   # 없어도 됨\n",
    "        "
   ]
  },
  {
   "cell_type": "code",
   "execution_count": null,
   "id": "6b6e8aaf-da70-4306-8b69-b1586ea1efed",
   "metadata": {},
   "outputs": [],
   "source": [
    "# other ans\n",
    "while True:   #올바른 답을 할때까지 반복\n",
    "    first, second=map(int,input('정 수 두개 입력하세요: ').split())\n",
    "    \n",
    "    if first<1 or first>20:    # not 1<=first<=20\n",
    "        print('첫번째 값의 범위는 1~20입니다.')  #아니면 나가서 처음으로 돌아감\n",
    "    elif second<10 or second>30:\n",
    "        print('첫번째 입력 값은 두 번째 입력 값보다 작게 입력하세요.') \n",
    "    continue   # 이 자리에 위치하면 다시 while문으로 돌아감, 밑은 건너뜀\n",
    "    \n",
    "    else:\n",
    "        final=[2**i for i in range(first, second+1)]\n",
    "        del final[1]\n",
    "        del final[len(final)-2]   # len(final) = -2 \n",
    "        print(final)\n",
    "        break  # 조건 빠져나가기 위함\n"
   ]
  },
  {
   "cell_type": "code",
   "execution_count": 27,
   "id": "3a9c5ccd-2a08-4a62-8426-d624801442f9",
   "metadata": {},
   "outputs": [
    {
     "name": "stdin",
     "output_type": "stream",
     "text": [
      "2부터 입력하신 수까지의 모든 소수를 찾는 프로그램입니다. ]\n",
      " 찾는 범위를 입력하세요. : 100\n"
     ]
    },
    {
     "name": "stdout",
     "output_type": "stream",
     "text": [
      "99\n"
     ]
    }
   ],
   "source": [
    "msg=int(input('2부터 입력하신 수까지의 모든 소수를 찾는 프로그램입니다. ]\\n 찾는 범위를 입력하세요. :'))\n",
    "\n",
    "i=0\n",
    "for i in range(2,msg):\n",
    "    if i%2!=1:  # 소수아님, 소수면 출력, 아니면 다시 for문 반복\n",
    "        i+=1\n",
    "        continue\n",
    "        \n",
    "print(i)"
   ]
  },
  {
   "cell_type": "code",
   "execution_count": 46,
   "id": "e0d39902-4b18-4f0a-b7e6-115cef806de0",
   "metadata": {},
   "outputs": [
    {
     "name": "stdin",
     "output_type": "stream",
     "text": [
      "2부터 입력하신 수까지의 모든 소수를 찾는 프로그램입니다. \n",
      "찾는 범위를 입력하세요. : 99\n"
     ]
    },
    {
     "name": "stdout",
     "output_type": "stream",
     "text": [
      "3\n"
     ]
    }
   ],
   "source": [
    "msg=int(input('2부터 입력하신 수까지의 모든 소수를 찾는 프로그램입니다. \\n찾는 범위를 입력하세요. :'))\n",
    "\n",
    "i=2\n",
    "j=2\n",
    "\n",
    "for i in range(2,msg):\n",
    "    i+=1\n",
    "    if j%2!=1:  # 소수아님, 소수면 출력, 아니면 다시 for문 반복\n",
    "        j+=1\n",
    "        continue     \n",
    "print(j)"
   ]
  },
  {
   "cell_type": "code",
   "execution_count": 64,
   "id": "9fac8ae2-1f46-42d6-84f6-e962b05c393e",
   "metadata": {},
   "outputs": [
    {
     "name": "stdin",
     "output_type": "stream",
     "text": [
      "2부터 입력하신 수까지의 모든 소수를 찾는 프로그램입니다. \n",
      "찾는 범위를 입력하세요. : 99\n"
     ]
    },
    {
     "name": "stdout",
     "output_type": "stream",
     "text": [
      "3 5 7 9 11 13 15 17 19 21 23 25 27 29 31 33 35 37 39 41 43 45 47 49 51 53 55 57 59 61 63 65 67 69 71 73 75 77 79 81 83 85 87 89 91 93 95 97 "
     ]
    }
   ],
   "source": [
    "# my ans\n",
    "\n",
    "msg=int(input('2부터 입력하신 수까지의 모든 소수를 찾는 프로그램입니다. \\n찾는 범위를 입력하세요. :'))\n",
    "\n",
    "i=2\n",
    "j=1\n",
    "for i in range(2,msg):\n",
    "    if i%2!=1 or i!=i: \n",
    "        continue     \n",
    "    print(i,end=\" \")"
   ]
  },
  {
   "cell_type": "code",
   "execution_count": null,
   "id": "d81f42ff-b850-42b1-954f-367d1428ac55",
   "metadata": {},
   "outputs": [],
   "source": [
    "# ans\n",
    "\n",
    "msg=int(input('2부터 입력하신 수까지의 모든 소수를 찾는 프로그램입니다. \\n찾는 범위를 입력하세요. :'))\n",
    "\n",
    "i=2\n",
    "line=0\n",
    "\n",
    "while i<=msg:\n",
    "    j=2                #  나누는 숫자의 범위\n",
    "    while j<=i:       \n",
    "        if i%j==0:    # 자기자신 숫자까지 나눠봄 i=2를 j로 쭉 나눠 0이되면 소수\n",
    "            break\n",
    "        j+=1\n",
    "    if i==j:\n",
    "        print(i, end=\" \")\n",
    "        line=line+1\n",
    "        if line == 7:    # 7번째 값마다 줄바꿈\n",
    "            line=0\n",
    "            print()  \n",
    "    i+=1\n",
    "        "
   ]
  },
  {
   "cell_type": "code",
   "execution_count": 7,
   "id": "d1af60d9-85fd-43e2-804b-41b3ac78494d",
   "metadata": {},
   "outputs": [
    {
     "name": "stdout",
     "output_type": "stream",
     "text": [
      "[1, 2, 1, 1, 2, 2, 1, 2, 2, 1]\n"
     ]
    }
   ],
   "source": [
    "# random 라이브러리 : 임의의 수 생성할 떄 사용하는 표준 라이브러리\n",
    "\n",
    "# random.randint(시작정수, 끝정수)\n",
    "\n",
    "import random\n",
    "random_list=[random.randint(1,2) for _ in range(10)]  # 1,2포함해서\n",
    "print(random_list)\n"
   ]
  },
  {
   "cell_type": "code",
   "execution_count": 4,
   "id": "59796a3a-46c2-4f98-9722-2982586fa297",
   "metadata": {},
   "outputs": [
    {
     "name": "stdout",
     "output_type": "stream",
     "text": [
      "[93, 74, 54, 12, 76, 20, 86, 98, 95, 53]\n"
     ]
    }
   ],
   "source": [
    "import random\n",
    "random_list=[random.randint(1,100) for _ in range(10)]  # 1,2포함해서\n",
    "print(random_list)"
   ]
  },
  {
   "cell_type": "code",
   "execution_count": 3,
   "id": "0acc171e-23e9-493a-b893-f7252be2c9be",
   "metadata": {},
   "outputs": [
    {
     "ename": "NameError",
     "evalue": "name 'random_list' is not defined",
     "output_type": "error",
     "traceback": [
      "\u001b[1;31m---------------------------------------------------------------------------\u001b[0m",
      "\u001b[1;31mNameError\u001b[0m                                 Traceback (most recent call last)",
      "\u001b[1;32m~\\AppData\\Local\\Temp\\ipykernel_22696\\343918332.py\u001b[0m in \u001b[0;36m<module>\u001b[1;34m\u001b[0m\n\u001b[0;32m      1\u001b[0m \u001b[1;32mimport\u001b[0m \u001b[0mrandom\u001b[0m\u001b[1;33m\u001b[0m\u001b[1;33m\u001b[0m\u001b[0m\n\u001b[0;32m      2\u001b[0m \u001b[0mrandomnbr\u001b[0m\u001b[1;33m=\u001b[0m\u001b[0mrandom\u001b[0m\u001b[1;33m.\u001b[0m\u001b[0mrandint\u001b[0m\u001b[1;33m(\u001b[0m\u001b[1;36m1\u001b[0m\u001b[1;33m,\u001b[0m\u001b[1;36m100\u001b[0m\u001b[1;33m)\u001b[0m   \u001b[1;31m# 한개의 랜덤숫자 생성시\u001b[0m\u001b[1;33m\u001b[0m\u001b[1;33m\u001b[0m\u001b[0m\n\u001b[1;32m----> 3\u001b[1;33m \u001b[0mprint\u001b[0m\u001b[1;33m(\u001b[0m\u001b[0mrandom_list\u001b[0m\u001b[1;33m)\u001b[0m\u001b[1;33m\u001b[0m\u001b[1;33m\u001b[0m\u001b[0m\n\u001b[0m\u001b[0;32m      4\u001b[0m \u001b[1;33m\u001b[0m\u001b[0m\n\u001b[0;32m      5\u001b[0m \u001b[0mls\u001b[0m\u001b[1;33m=\u001b[0m\u001b[1;33m[\u001b[0m\u001b[1;33m]\u001b[0m\u001b[1;33m\u001b[0m\u001b[1;33m\u001b[0m\u001b[0m\n",
      "\u001b[1;31mNameError\u001b[0m: name 'random_list' is not defined"
     ]
    }
   ],
   "source": [
    "import random\n",
    "randomnbr=random.randint(1,100)   # 한개의 랜덤숫자 생성시  \n",
    "print(random_list)\n",
    "\n",
    "ls=[]\n",
    "\n",
    "while True:\n",
    "    msg=int(input('숫자를 입력하세요'))\n",
    "    if msg>randomnbr:\n",
    "        continue\n",
    "        print('그보다 작습니다.')\n",
    "    if msg<randomnbr:\n",
    "        continue\n",
    "        print('그보다 큽니다.')\n",
    "    if 100<msg or msg<0:\n",
    "        continue\n",
    "        print('1~100사이의 숫자를 입력하세요')\n",
    "    if msg==randomnbr:\n",
    "        break\n",
    "        print('맞췄습니다')\n",
    "            \n",
    "    "
   ]
  },
  {
   "cell_type": "code",
   "execution_count": null,
   "id": "d7a7bb77-86cc-4dd9-afb2-3807e1e51561",
   "metadata": {},
   "outputs": [],
   "source": [
    "# ans\n",
    "\n",
    "import random\n",
    "randomnbr=random.randint(1,100)   # 한개의 랜덤숫자 생성시  \n",
    "print(random_list)\n",
    "\n",
    "ls=[]\n",
    "\n",
    "while True:\n",
    "    msg.append(input('숫자를 입력하세요'))\n",
    "    u=int(msg[-1])\n",
    "    if u< \n",
    "    msg>randomnbr:\n",
    "        continue\n",
    "        print('그보다 작습니다.')\n",
    "    if msg<randomnbr:\n",
    "        continue\n",
    "        print('그보다 큽니다.')\n",
    "    if 100<msg or msg<0:\n",
    "        continue\n",
    "        print('1~100사이의 숫자를 입력하세요')\n",
    "    if msg==randomnbr:\n",
    "        break\n",
    "        print('맞췄습니다')\n"
   ]
  },
  {
   "cell_type": "code",
   "execution_count": 6,
   "id": "7db28683-9c74-4992-8095-b9d0dbd0a02c",
   "metadata": {},
   "outputs": [],
   "source": [
    "a=list('안녕하세요')\n"
   ]
  },
  {
   "cell_type": "code",
   "execution_count": 8,
   "id": "7f45b563-fecc-44b8-b97a-e7c8fb0a9afc",
   "metadata": {},
   "outputs": [
    {
     "data": {
      "text/plain": [
       "'안i녕i하i세i요'"
      ]
     },
     "execution_count": 8,
     "metadata": {},
     "output_type": "execute_result"
    }
   ],
   "source": [
    "\"i\".join(a)  # 사이에 값 넣기"
   ]
  },
  {
   "cell_type": "code",
   "execution_count": 1,
   "id": "786edcf9-49b3-41b8-a98b-7627a664ebd1",
   "metadata": {},
   "outputs": [
    {
     "data": {
      "text/plain": [
       "['2', '3', '4', '5', '6', '7', '8', '9', '10', 'j', 'q', 'k', 'a']"
      ]
     },
     "execution_count": 1,
     "metadata": {},
     "output_type": "execute_result"
    }
   ],
   "source": [
    "[str(i) for i in range(2,11)]+list('jqka')"
   ]
  },
  {
   "cell_type": "code",
   "execution_count": 5,
   "id": "038456a2-93e8-4e10-be52-e5021b01efb6",
   "metadata": {},
   "outputs": [],
   "source": [
    "result=[]\n",
    "for i in range(2,11):\n",
    "    result.append(str(i))"
   ]
  },
  {
   "cell_type": "code",
   "execution_count": 7,
   "id": "ae817365-9954-4acb-956d-63ddee472707",
   "metadata": {},
   "outputs": [
    {
     "name": "stdout",
     "output_type": "stream",
     "text": [
      "{75, 45, 15, 90, 60, 30}\n"
     ]
    }
   ],
   "source": [
    "# 3과 5의 공배수의 교집합\n",
    "set_3={ i for i in range(1,100) if i%3==0}\n",
    "set_4={ i for i in range(1,100) if i%5==0}\n",
    "result_set=set.intersection(set_3,set_4)\n",
    "print(result_set)"
   ]
  },
  {
   "cell_type": "code",
   "execution_count": 28,
   "id": "ec0e767e-2bc0-4501-8815-6041fe43f799",
   "metadata": {},
   "outputs": [
    {
     "name": "stdout",
     "output_type": "stream",
     "text": [
      "{'시스템 관리', '인사 관리', '회계 관리', '개인정보 조회', '구매 관리', '근태 관리'}\n",
      "['회계 관리', '시스템 관리', '개인정보 조회', '구매 관리', '근태 관리', '인사 관리']\n",
      "['개인정보 조회', '구매 관리', '근태 관리', '시스템 관리', '인사 관리', '회계 관리']\n"
     ]
    }
   ],
   "source": [
    "# Q\n",
    "\n",
    "role_admin = (\"회계 관리\", \"인사 관리\", \"구매 관리\", \"시스템 관리\")\n",
    "role_hr = (\"인사 관리\", \"개인정보 조회\", \"회계 관리\", \"근태 관리\")\n",
    "role_user = (\"개인정보 조회\", \"근태 관리\")\n",
    "\n",
    "all=set(role_admin+role_hr+role_user)\n",
    "print(all)\n",
    "all1=list(set(all))\n",
    "print(all1)\n",
    "all1.sort()\n",
    "print(all1)"
   ]
  },
  {
   "cell_type": "code",
   "execution_count": null,
   "id": "90ced16b-e774-478d-a0bb-184ae84bd1cf",
   "metadata": {},
   "outputs": [
    {
     "name": "stdout",
     "output_type": "stream",
     "text": [
      "개인정보 조회,구매 관리,근태 관리,시스템 관리,인사 관리,회계 관리,"
     ]
    }
   ],
   "source": [
    "# Q\n",
    "\n",
    "menus= list(set(role_admin+role_hr+role_user))\n",
    "menus.sort()\n",
    "end_char=\",\"                           # 또는 joint활용\n",
    "for menu in menus:\n",
    "    if menu[-1]==menu:\n",
    "        end_char=\" \"\n",
    "        \n",
    "    print(menu,end=end_char)"
   ]
  },
  {
   "cell_type": "code",
   "execution_count": null,
   "id": "a5771b21-09f2-47bf-bbe9-04065c7f5369",
   "metadata": {},
   "outputs": [],
   "source": [
    "# 함수의 정의\n",
    "\n",
    "def 함수이름\n",
    " \"\"\"              # doc string\n",
    " 내용 내용\n",
    " 내용 \n",
    " 작성자: xxx\n",
    " 작성일자: xxxx\n",
    " \"\"\"\n",
    " 항수의 바디\n",
    " 함수의 바디\n",
    " return  반환값   # 함수를 빠져나가게 함(종료), if문에서는 여럴번 쓸 수 있음(break와는 다르게 값을 가짐)"
   ]
  },
  {
   "cell_type": "code",
   "execution_count": 33,
   "id": "9bf44cea-06af-4a2a-9988-118ec1066337",
   "metadata": {},
   "outputs": [],
   "source": [
    "def print_ten():\n",
    "    \"\"\"print(\"hello\")를 열번 출력합니다. \"\"\"\n",
    "    for _ in range(10):   \n",
    "        print(\"Hello\")"
   ]
  },
  {
   "cell_type": "code",
   "execution_count": 36,
   "id": "e3daff0f-3056-4326-b678-648b80bb294b",
   "metadata": {},
   "outputs": [
    {
     "name": "stdout",
     "output_type": "stream",
     "text": [
      "Hello\n",
      "Hello\n",
      "Hello\n",
      "Hello\n",
      "Hello\n",
      "Hello\n",
      "Hello\n",
      "Hello\n",
      "Hello\n",
      "Hello\n"
     ]
    }
   ],
   "source": [
    "print_ten()"
   ]
  },
  {
   "cell_type": "code",
   "execution_count": 37,
   "id": "2b2ed464-8451-43dc-a846-992834fa25be",
   "metadata": {},
   "outputs": [
    {
     "data": {
      "text/plain": [
       "'print(\"hello\")를 열번 출력합니다. '"
      ]
     },
     "execution_count": 37,
     "metadata": {},
     "output_type": "execute_result"
    }
   ],
   "source": [
    "print_ten.__doc__   # doc string 내용 출력\n",
    "\n",
    "print(print_ten.__doc__)"
   ]
  },
  {
   "cell_type": "code",
   "execution_count": 38,
   "id": "9393c84e-5e8e-433b-b469-17ff7d1af253",
   "metadata": {},
   "outputs": [
    {
     "name": "stdout",
     "output_type": "stream",
     "text": [
      "print(value, ..., sep=' ', end='\\n', file=sys.stdout, flush=False)\n",
      "\n",
      "Prints the values to a stream, or to sys.stdout by default.\n",
      "Optional keyword arguments:\n",
      "file:  a file-like object (stream); defaults to the current sys.stdout.\n",
      "sep:   string inserted between values, default a space.\n",
      "end:   string appended after the last value, default a newline.\n",
      "flush: whether to forcibly flush the stream.\n"
     ]
    }
   ],
   "source": [
    "print(print.__doc__)"
   ]
  },
  {
   "cell_type": "code",
   "execution_count": 39,
   "id": "f8452fd4-0b45-4e8f-bc07-36fcc2e5bfe4",
   "metadata": {},
   "outputs": [],
   "source": [
    "def print_ten(some_str):\n",
    "    \"\"\"print(\"hello\")를 열번 출력합니다. \"\"\"\n",
    "    for _ in range(10):   \n",
    "        print(some_str)"
   ]
  },
  {
   "cell_type": "code",
   "execution_count": 41,
   "id": "baabd8db-1736-43f5-abab-8a5579f65bce",
   "metadata": {},
   "outputs": [
    {
     "name": "stdout",
     "output_type": "stream",
     "text": [
      "문자열\n",
      "문자열\n",
      "문자열\n",
      "문자열\n",
      "문자열\n",
      "문자열\n",
      "문자열\n",
      "문자열\n",
      "문자열\n",
      "문자열\n"
     ]
    }
   ],
   "source": [
    "print_ten('문자열')"
   ]
  },
  {
   "cell_type": "code",
   "execution_count": null,
   "id": "a2362311-ec9c-4a46-8f52-dab07325cf8f",
   "metadata": {},
   "outputs": [],
   "source": [
    "# 인자(parameter) \n",
    "\n",
    "# 함수가 받을 수 있는 변수. 함수인지(argument) 또는 매개변수라고 부른다.\n",
    "# def(함수정의절)에서 소괄호 안에 정의됨\n",
    "# 5가지 종류\n"
   ]
  },
  {
   "cell_type": "code",
   "execution_count": null,
   "id": "3391eeac-2b72-4dc5-a090-db363e2a038d",
   "metadata": {},
   "outputs": [],
   "source": [
    "# 함수정의\n",
    "def greeting(name,age):  # parameter: name, age\n",
    "    print(f'{name}씨 안녕하세요. 약 {age*365.25)일 알게되었습니다.)\n",
    "\n",
    "# 함수호출\n",
    "greeting('파이썬',32)     # argument  "
   ]
  },
  {
   "cell_type": "code",
   "execution_count": 51,
   "id": "7957afee-ad86-4909-b760-c15ba21e889f",
   "metadata": {},
   "outputs": [
    {
     "name": "stdout",
     "output_type": "stream",
     "text": [
      "파이썬씨 안녕하세요. 약 11688.0일 알게되었습니다.\n"
     ]
    }
   ],
   "source": [
    "# 위치-키워드 인자(Positional-or-keyword parameter)\n",
    "# 기본값이 없는 위치-키워드인자 parameter는 argument 전달이 필수!!!!\n",
    "\n",
    "def greeting(name, age):\n",
    "    print(f'{name}씨 안녕하세요. 약 {age*365.25}일 알게되었습니다.')\n",
    "\n",
    "greeting('파이썬',32)"
   ]
  },
  {
   "cell_type": "code",
   "execution_count": 46,
   "id": "a78b946b-7285-4c9c-b299-b34f0574f2af",
   "metadata": {},
   "outputs": [
    {
     "ename": "NameError",
     "evalue": "name 'greeting' is not defined",
     "output_type": "error",
     "traceback": [
      "\u001b[1;31m---------------------------------------------------------------------------\u001b[0m",
      "\u001b[1;31mNameError\u001b[0m                                 Traceback (most recent call last)",
      "\u001b[1;32m~\\AppData\\Local\\Temp\\ipykernel_15152\\1698236306.py\u001b[0m in \u001b[0;36m<module>\u001b[1;34m\u001b[0m\n\u001b[1;32m----> 1\u001b[1;33m \u001b[0mgreeting\u001b[0m\u001b[1;33m(\u001b[0m\u001b[1;33m)\u001b[0m   \u001b[1;31m# -> argument없이 호출해 에러\u001b[0m\u001b[1;33m\u001b[0m\u001b[1;33m\u001b[0m\u001b[0m\n\u001b[0m",
      "\u001b[1;31mNameError\u001b[0m: name 'greeting' is not defined"
     ]
    }
   ],
   "source": [
    "greeting()   # -> argument없이 호출해 에러"
   ]
  },
  {
   "cell_type": "code",
   "execution_count": 52,
   "id": "a322139c-36df-4958-873b-45957e6d78de",
   "metadata": {},
   "outputs": [
    {
     "ename": "TypeError",
     "evalue": "can't multiply sequence by non-int of type 'float'",
     "output_type": "error",
     "traceback": [
      "\u001b[1;31m---------------------------------------------------------------------------\u001b[0m",
      "\u001b[1;31mTypeError\u001b[0m                                 Traceback (most recent call last)",
      "\u001b[1;32m~\\AppData\\Local\\Temp\\ipykernel_15152\\1671448010.py\u001b[0m in \u001b[0;36m<module>\u001b[1;34m\u001b[0m\n\u001b[0;32m      2\u001b[0m     \u001b[0mprint\u001b[0m\u001b[1;33m(\u001b[0m\u001b[1;34mf'{name}씨 안녕하세요. 약 {age*365.25}일 알게되었습니다.'\u001b[0m\u001b[1;33m)\u001b[0m\u001b[1;33m\u001b[0m\u001b[1;33m\u001b[0m\u001b[0m\n\u001b[0;32m      3\u001b[0m \u001b[1;33m\u001b[0m\u001b[0m\n\u001b[1;32m----> 4\u001b[1;33m \u001b[0mgreeting\u001b[0m\u001b[1;33m(\u001b[0m\u001b[1;36m32\u001b[0m\u001b[1;33m,\u001b[0m\u001b[1;34m'파이썬'\u001b[0m\u001b[1;33m)\u001b[0m    \u001b[1;31m# argument의 위치 변경으로인한 에러\u001b[0m\u001b[1;33m\u001b[0m\u001b[1;33m\u001b[0m\u001b[0m\n\u001b[0m",
      "\u001b[1;32m~\\AppData\\Local\\Temp\\ipykernel_15152\\1671448010.py\u001b[0m in \u001b[0;36mgreeting\u001b[1;34m(name, age)\u001b[0m\n\u001b[0;32m      1\u001b[0m \u001b[1;32mdef\u001b[0m \u001b[0mgreeting\u001b[0m\u001b[1;33m(\u001b[0m\u001b[0mname\u001b[0m\u001b[1;33m,\u001b[0m \u001b[0mage\u001b[0m\u001b[1;33m)\u001b[0m\u001b[1;33m:\u001b[0m\u001b[1;33m\u001b[0m\u001b[1;33m\u001b[0m\u001b[0m\n\u001b[1;32m----> 2\u001b[1;33m     \u001b[0mprint\u001b[0m\u001b[1;33m(\u001b[0m\u001b[1;34mf'{name}씨 안녕하세요. 약 {age*365.25}일 알게되었습니다.'\u001b[0m\u001b[1;33m)\u001b[0m\u001b[1;33m\u001b[0m\u001b[1;33m\u001b[0m\u001b[0m\n\u001b[0m\u001b[0;32m      3\u001b[0m \u001b[1;33m\u001b[0m\u001b[0m\n\u001b[0;32m      4\u001b[0m \u001b[0mgreeting\u001b[0m\u001b[1;33m(\u001b[0m\u001b[1;36m32\u001b[0m\u001b[1;33m,\u001b[0m\u001b[1;34m'파이썬'\u001b[0m\u001b[1;33m)\u001b[0m    \u001b[1;31m# argument의 위치 변경으로인한 에러\u001b[0m\u001b[1;33m\u001b[0m\u001b[1;33m\u001b[0m\u001b[0m\n",
      "\u001b[1;31mTypeError\u001b[0m: can't multiply sequence by non-int of type 'float'"
     ]
    }
   ],
   "source": [
    "def greeting(name, age):\n",
    "    print(f'{name}씨 안녕하세요. 약 {age*365.25}일 알게되었습니다.')\n",
    "\n",
    "greeting(32,'파이썬')    # argument의 위치 변경으로인한 에러"
   ]
  },
  {
   "cell_type": "code",
   "execution_count": 53,
   "id": "d9ff84c8-b1c8-4ad7-b6d0-ad5d54716ddc",
   "metadata": {},
   "outputs": [
    {
     "name": "stdout",
     "output_type": "stream",
     "text": [
      "파이썬씨 안녕하세요. 약 11688.0일 알게되었습니다.\n"
     ]
    }
   ],
   "source": [
    "def greeting(name, age):\n",
    "    print(f'{name}씨 안녕하세요. 약 {age*365.25}일 알게되었습니다.')\n",
    "\n",
    "greeting(age=32,name='파이썬')    # argument의 위치 변경이지만 키워드에 접근함"
   ]
  },
  {
   "cell_type": "code",
   "execution_count": 56,
   "id": "206389a9-5e4d-4970-909b-ea1c19389642",
   "metadata": {},
   "outputs": [
    {
     "name": "stdout",
     "output_type": "stream",
     "text": [
      "파이썬씨 안녕하세요. 약 11688.0일 알게되었습니다.\n"
     ]
    }
   ],
   "source": [
    "def greeting(name, age):\n",
    "    print(f'{name}씨 안녕하세요. 약 {age*365.25}일 알게되었습니다.')\n",
    "\n",
    "greeting('파이썬',age=32)  # 포지션을 먼저 써서 명확하게해야함"
   ]
  },
  {
   "cell_type": "code",
   "execution_count": 58,
   "id": "2202047d-248d-45a7-b459-40dd157d7eaa",
   "metadata": {},
   "outputs": [
    {
     "name": "stdout",
     "output_type": "stream",
     "text": [
      "파이썬씨 안녕하세요. 약 12053.25일 알게되었습니다.\n"
     ]
    }
   ],
   "source": [
    "def greeting(name, age=33):\n",
    "    print(f'{name}씨 안녕하세요. 약 {age*365.25}일 알게되었습니다.')\n",
    "\n",
    "greeting('파이썬') "
   ]
  },
  {
   "cell_type": "code",
   "execution_count": 63,
   "id": "2863c7ad-a391-4bef-8dba-74557f71d024",
   "metadata": {},
   "outputs": [
    {
     "name": "stdout",
     "output_type": "stream",
     "text": [
      "값만 입력해야 합니다.\n"
     ]
    }
   ],
   "source": [
    "# 위치전용 : 위치만 오게끔 강제\n",
    "\n",
    "def posonly(posonly,/):      # /왼편이 위치전용 인자가 됨\n",
    "    print(posonly)\n",
    "\n",
    "posonly('값만 입력해야 합니다.')\n"
   ]
  },
  {
   "cell_type": "code",
   "execution_count": 65,
   "id": "7e1ef599-a28d-44d0-b881-836730219461",
   "metadata": {},
   "outputs": [
    {
     "name": "stdout",
     "output_type": "stream",
     "text": [
      "default\n"
     ]
    }
   ],
   "source": [
    "# 키워드 전용인자                        # *, 로 키워드온리 제어\n",
    "\n",
    "def keyonly(*,keyonly=\"default\"):      # default값은 없어도 호출가능\n",
    "    print(keyonly)\n",
    "\n",
    "keyonly()    \n"
   ]
  },
  {
   "cell_type": "code",
   "execution_count": 67,
   "id": "931bfcd0-7075-412f-99f1-f60ecc500a82",
   "metadata": {},
   "outputs": [
    {
     "name": "stdout",
     "output_type": "stream",
     "text": [
      "키워드로만 입력해야 합니다\n"
     ]
    }
   ],
   "source": [
    "def keyonly(*,keyonly):   \n",
    "    print(keyonly)\n",
    "\n",
    "keyonly(keyonly=\"키워드로만 입력해야 합니다\")   # default값은 없으면 정의필요"
   ]
  },
  {
   "cell_type": "code",
   "execution_count": 68,
   "id": "3ce560ab-7618-477b-ab30-bb938dfcb020",
   "metadata": {},
   "outputs": [
    {
     "ename": "TypeError",
     "evalue": "keyonly() takes 0 positional arguments but 1 was given",
     "output_type": "error",
     "traceback": [
      "\u001b[1;31m---------------------------------------------------------------------------\u001b[0m",
      "\u001b[1;31mTypeError\u001b[0m                                 Traceback (most recent call last)",
      "\u001b[1;32m~\\AppData\\Local\\Temp\\ipykernel_15152\\2503636325.py\u001b[0m in \u001b[0;36m<module>\u001b[1;34m\u001b[0m\n\u001b[0;32m      2\u001b[0m     \u001b[0mprint\u001b[0m\u001b[1;33m(\u001b[0m\u001b[0mkeyonly\u001b[0m\u001b[1;33m)\u001b[0m\u001b[1;33m\u001b[0m\u001b[1;33m\u001b[0m\u001b[0m\n\u001b[0;32m      3\u001b[0m \u001b[1;33m\u001b[0m\u001b[0m\n\u001b[1;32m----> 4\u001b[1;33m \u001b[0mkeyonly\u001b[0m\u001b[1;33m(\u001b[0m\u001b[1;34m\"키워드로만 입력해야 합니다\"\u001b[0m\u001b[1;33m)\u001b[0m\u001b[1;33m\u001b[0m\u001b[1;33m\u001b[0m\u001b[0m\n\u001b[0m",
      "\u001b[1;31mTypeError\u001b[0m: keyonly() takes 0 positional arguments but 1 was given"
     ]
    }
   ],
   "source": [
    "def keyonly(*,keyonly):   \n",
    "    print(keyonly)\n",
    "\n",
    "keyonly(\"키워드로만 입력해야 합니다\")  # *로 제어하고 있어서 키어드를 넣어줘야함"
   ]
  },
  {
   "cell_type": "code",
   "execution_count": 74,
   "id": "94f73036-379c-4d88-888c-c1fe278310e0",
   "metadata": {},
   "outputs": [
    {
     "ename": "SyntaxError",
     "evalue": "invalid syntax (3254807597.py, line 8)",
     "output_type": "error",
     "traceback": [
      "\u001b[1;36m  File \u001b[1;32m\"C:\\Users\\user\\AppData\\Local\\Temp\\ipykernel_15152\\3254807597.py\"\u001b[1;36m, line \u001b[1;32m8\u001b[0m\n\u001b[1;33m    return sum([i for iin args])   # 모든요소들의 합 표현\u001b[0m\n\u001b[1;37m                          ^\u001b[0m\n\u001b[1;31mSyntaxError\u001b[0m\u001b[1;31m:\u001b[0m invalid syntax\n"
     ]
    }
   ],
   "source": [
    "# 가변위치 인자 var-positional parameters\n",
    "\n",
    "# 명시된인자 외에 추가적으로 위치 인수 개수에 상관없이 유연하게 전달받음\n",
    "# 튜플로 여러개를 묶음으로해서 받을수 있음,  *변수명\n",
    "\n",
    "def var_positional(*args): \n",
    "    print(type(args))\n",
    "    return sum([_ for _in args])   # 모든요소들의 합 표현\n",
    "\n",
    "print(var_positional(1,2,3,4,5))"
   ]
  },
  {
   "cell_type": "code",
   "execution_count": 73,
   "id": "78319369-428e-4ef2-8c6a-23a175ea25b7",
   "metadata": {},
   "outputs": [
    {
     "ename": "SyntaxError",
     "evalue": "invalid syntax (651204747.py, line 3)",
     "output_type": "error",
     "traceback": [
      "\u001b[1;36m  File \u001b[1;32m\"C:\\Users\\user\\AppData\\Local\\Temp\\ipykernel_15152\\651204747.py\"\u001b[1;36m, line \u001b[1;32m3\u001b[0m\n\u001b[1;33m    return sum([_for_in args])   # 모든요소들의 합 표현\u001b[0m\n\u001b[1;37m                        ^\u001b[0m\n\u001b[1;31mSyntaxError\u001b[0m\u001b[1;31m:\u001b[0m invalid syntax\n"
     ]
    }
   ],
   "source": [
    "def var_positional(*args): \n",
    "    print(type(args))\n",
    "    return sum([_for_in args])   \n",
    "print(var_positional())     # 변수값이 없어도 함수가 동작하는데 문제없도록 함수바디 작성해야\n"
   ]
  },
  {
   "cell_type": "code",
   "execution_count": 79,
   "id": "442f5eff-f457-4b73-9376-b592239f4cf3",
   "metadata": {},
   "outputs": [
    {
     "name": "stdout",
     "output_type": "stream",
     "text": [
      "<class 'dict'>\n",
      "{'key': 'value', 'key2': 'value'}\n"
     ]
    }
   ],
   "source": [
    "# 가변키워드 인자 var_keyword parameters\n",
    "\n",
    "# 명시된 인자외에 추가적으로 키워드 인수에 상관없이 유연하게 받음\n",
    "# 앞에 키를넣어서 보내면 키워드, 없으면 포지션임\n",
    "\n",
    "def var_keyword(**kwargs):\n",
    "    print(type(kwargs))    # dict 형태임\n",
    "    return kwargs\n",
    "\n",
    "print(var_keyword(key='value',key2='value'))  # dict 함수 변환결과 "
   ]
  },
  {
   "cell_type": "code",
   "execution_count": 80,
   "id": "53c4a8cf-d7d2-4193-937e-96be3f847600",
   "metadata": {},
   "outputs": [
    {
     "name": "stdout",
     "output_type": "stream",
     "text": [
      "<class 'dict'>\n",
      "{}\n"
     ]
    }
   ],
   "source": [
    "def var_keyword(**kwargs):\n",
    "    print(type(kwargs))    # dict 형태임\n",
    "    return kwargs\n",
    "\n",
    "print(var_keyword())  # 값을 전달받지 않아도 빈 딕셔너리로 출력"
   ]
  },
  {
   "cell_type": "code",
   "execution_count": 92,
   "id": "2e639107-8a89-4977-a936-378640f2998c",
   "metadata": {},
   "outputs": [
    {
     "name": "stdin",
     "output_type": "stream",
     "text": [
      "정수값 0\n",
      "정수값 40\n"
     ]
    },
    {
     "name": "stdout",
     "output_type": "stream",
     "text": [
      "None\n"
     ]
    }
   ],
   "source": [
    "\n",
    "def plus_ten(number):\n",
    "    number=(int(input('정수값')))+10\n",
    "    \n",
    "plus_ten(number=70)\n",
    "\n",
    "print(plus_ten(number=70))\n",
    "    "
   ]
  },
  {
   "cell_type": "code",
   "execution_count": 93,
   "id": "0e2b4bb3-4156-48ff-ae90-3bc420378c4d",
   "metadata": {},
   "outputs": [
    {
     "name": "stdout",
     "output_type": "stream",
     "text": [
      "80\n"
     ]
    }
   ],
   "source": [
    "def plus_ten(num):    # num 위치변수수\n",
    "    return num+10\n",
    "\n",
    "print(plus_ten(70))"
   ]
  },
  {
   "cell_type": "code",
   "execution_count": 95,
   "id": "24a55c20-ee54-453b-b19d-74c12b5c7beb",
   "metadata": {},
   "outputs": [
    {
     "name": "stdout",
     "output_type": "stream",
     "text": [
      "21.11111111111111\n"
     ]
    }
   ],
   "source": [
    "# Q\n",
    "\n",
    "def to_celsius(fahrenheit):\n",
    "    return (fahrenheit-32)*5/9\n",
    "\n",
    "print(to_celsius(70))"
   ]
  },
  {
   "cell_type": "code",
   "execution_count": 122,
   "id": "0a2453e9-9787-470b-9a60-b6fffaa1d111",
   "metadata": {},
   "outputs": [
    {
     "name": "stdout",
     "output_type": "stream",
     "text": [
      "21.11111111111111\n",
      " 화씨 온도를 섭씨 온도로 변경하는 함수입니다. # doc string \n",
      "    \n"
     ]
    }
   ],
   "source": [
    "def to_celsius(fahrenheit):\n",
    "    \"\"\" 화씨 온도를 섭씨 온도로 변경하는 함수입니다. # doc string \n",
    "    \"\"\"\n",
    "    return (fahrenheit-32)*5/9\n",
    "\n",
    "print(to_celsius(70))\n",
    "print(to_celsius.__doc__)"
   ]
  },
  {
   "cell_type": "code",
   "execution_count": 115,
   "id": "ed824431-f9fd-4078-b279-57512b38b2ae",
   "metadata": {},
   "outputs": [
    {
     "name": "stdout",
     "output_type": "stream",
     "text": [
      "number가 짝수면 \"짝수\", 홀수면 \"홀수 반환\n",
      "짝수\n",
      "홀수\n",
      "None\n"
     ]
    }
   ],
   "source": [
    "# Q\n",
    "\n",
    "def odd_even(number):\n",
    "    \"\"\"number가 짝수면 \"짝수\", 홀수면 \"홀수 반환\"\"\"\n",
    "    if type(number)==str:   # 타입확인\n",
    "        return\n",
    "    elif number%2==0:\n",
    "        return('짝수')\n",
    "    elif number%2==1:\n",
    "        return('홀수')\n",
    "                \n",
    "print(odd_even.__doc__)   # doc string \n",
    "print(odd_even(10))\n",
    "print(odd_even(9))\n",
    "print(odd_even(\"가\"))\n"
   ]
  },
  {
   "cell_type": "code",
   "execution_count": null,
   "id": "361aaee7-e98c-4178-9f2e-56769fa16efa",
   "metadata": {},
   "outputs": [],
   "source": [
    "# Q\n",
    "\n",
    "def odd_even(number):\n",
    "    \"\"\"number가 짝수면 \"짝수\", 홀수면 \"홀수 반환\"\"\"\n",
    "    if type(number) is int and number>0:\n",
    "        return '짝수' *(number%2==0)or'홀수' \n",
    "    \n",
    "    # 짝수는 True=1 값 갖음/ ()안의 식에따라 짝수값이 1이므로 '짝수로 출력\n",
    "    # 계산식이 TRUE이면 짝수값을 갖으므로, 짝수출력\n",
    "    \n",
    "    else:\n",
    "        return\n",
    "                \n",
    "print(odd_even.__doc__)   # doc string \n",
    "print(odd_even(10))\n",
    "print(odd_even(9))\n",
    "print(odd_even(\"가\"))"
   ]
  },
  {
   "cell_type": "code",
   "execution_count": null,
   "id": "fc1c798b-f441-46cf-82c8-fbee381cc546",
   "metadata": {},
   "outputs": [],
   "source": []
  },
  {
   "cell_type": "code",
   "execution_count": 133,
   "id": "0f07b88a-8120-4a6c-8603-b35147163e03",
   "metadata": {},
   "outputs": [
    {
     "name": "stdin",
     "output_type": "stream",
     "text": [
      "숫자를 입력하세요 10\n"
     ]
    }
   ],
   "source": [
    "number=input('숫자를 입력하세요')"
   ]
  },
  {
   "cell_type": "code",
   "execution_count": 124,
   "id": "edbf385d-a3c0-4838-95af-f3bd901c13c3",
   "metadata": {},
   "outputs": [
    {
     "data": {
      "text/plain": [
       "str"
      ]
     },
     "execution_count": 124,
     "metadata": {},
     "output_type": "execute_result"
    }
   ],
   "source": [
    "type(number)"
   ]
  },
  {
   "cell_type": "code",
   "execution_count": 134,
   "id": "d5679cef-f7a9-4414-8381-de3eaa8ceaad",
   "metadata": {},
   "outputs": [
    {
     "data": {
      "text/plain": [
       "'10'"
      ]
     },
     "execution_count": 134,
     "metadata": {},
     "output_type": "execute_result"
    }
   ],
   "source": [
    "number"
   ]
  },
  {
   "cell_type": "code",
   "execution_count": 135,
   "id": "a2f1ab86-5429-4bae-b749-ea52cc4232c6",
   "metadata": {},
   "outputs": [
    {
     "data": {
      "text/plain": [
       "True"
      ]
     },
     "execution_count": 135,
     "metadata": {},
     "output_type": "execute_result"
    }
   ],
   "source": [
    "number.isdecimal()"
   ]
  },
  {
   "cell_type": "code",
   "execution_count": 136,
   "id": "6e27ca58-7ce2-4a89-9a68-29108f98d1e7",
   "metadata": {},
   "outputs": [],
   "source": [
    "def to_int(number):\n",
    "    if number.isdecimal():\n",
    "        return int(number)  \n",
    "    return\n"
   ]
  },
  {
   "cell_type": "code",
   "execution_count": 137,
   "id": "472ff742-da72-4364-b5a4-59e012378795",
   "metadata": {},
   "outputs": [
    {
     "name": "stdout",
     "output_type": "stream",
     "text": [
      "10\n"
     ]
    }
   ],
   "source": [
    "print(to_int(number))"
   ]
  },
  {
   "cell_type": "code",
   "execution_count": 162,
   "id": "152c1365-18b3-4236-8842-9fccc83a8bd1",
   "metadata": {},
   "outputs": [
    {
     "name": "stdin",
     "output_type": "stream",
     "text": [
      "연도값 1900\n"
     ]
    },
    {
     "name": "stdout",
     "output_type": "stream",
     "text": [
      "윤년\n"
     ]
    }
   ],
   "source": [
    "# Q\n",
    "\n",
    "def check_leap_year(year):\n",
    "    year=int(input('연도값'))\n",
    "    if year/4==0 or year/100!=0 or year/400==0:\n",
    "        return '윤년'\n",
    "    else:\n",
    "        return '평년'\n",
    "\n",
    "print(check_leap_year(2004))\n"
   ]
  },
  {
   "cell_type": "code",
   "execution_count": null,
   "id": "3cbc4306-1430-48a3-8360-6f989208f071",
   "metadata": {},
   "outputs": [],
   "source": []
  },
  {
   "cell_type": "code",
   "execution_count": 193,
   "id": "692eaf7b-eac8-4006-86da-3a113c59d895",
   "metadata": {},
   "outputs": [
    {
     "ename": "SyntaxError",
     "evalue": "invalid syntax (3688059667.py, line 4)",
     "output_type": "error",
     "traceback": [
      "\u001b[1;36m  File \u001b[1;32m\"C:\\Users\\user\\AppData\\Local\\Temp\\ipykernel_15152\\3688059667.py\"\u001b[1;36m, line \u001b[1;32m4\u001b[0m\n\u001b[1;33m    if\u001b[0m\n\u001b[1;37m       ^\u001b[0m\n\u001b[1;31mSyntaxError\u001b[0m\u001b[1;31m:\u001b[0m invalid syntax\n"
     ]
    }
   ],
   "source": [
    "def check_leap_year(year):\n",
    "    year=int(input('연도값'))\n",
    "\n",
    "    if year/4!=0 or year/100==0 and year/400!=0:\n",
    "        return '평년'\n",
    "    else:\n",
    "        return '윤년'\n",
    "    \n",
    "print(check_leap_year(2004))"
   ]
  },
  {
   "cell_type": "markdown",
   "id": "9951b049-aa5f-43e3-88d4-2ea28c9700b0",
   "metadata": {},
   "source": [
    "# ans\n",
    "\n",
    "def check_leap_year(year):\n",
    "    year=int(input('연도값'))\n",
    "    if year/4==0 and (year/100!=0 or year/400==0):\n",
    "        return '윤년'\n",
    "    else:\n",
    "        return '평년'\n",
    "\n",
    "print(check_leap_year(2004))"
   ]
  },
  {
   "cell_type": "code",
   "execution_count": 176,
   "id": "89863a0a-94b9-4b37-ae0f-4fa4e8f0c469",
   "metadata": {},
   "outputs": [
    {
     "name": "stdout",
     "output_type": "stream",
     "text": [
      "<class 'int'>\n",
      "30\n",
      "<class 'int'>\n",
      "28\n",
      "<class 'int'>\n",
      "31\n"
     ]
    }
   ],
   "source": [
    "# Q\n",
    "\n",
    "def days(month):\n",
    "    if month in (1,3,5,7,8,10,12):\n",
    "        return 31\n",
    "    elif month==2:\n",
    "        return 28\n",
    "    else:\n",
    "        return 30\n",
    "\n",
    "print(days(11))\n",
    "print(days(2))\n",
    "print(days(1))"
   ]
  },
  {
   "cell_type": "code",
   "execution_count": 175,
   "id": "2d871104-6c74-4676-bfa5-9d831e458d1c",
   "metadata": {},
   "outputs": [
    {
     "name": "stdout",
     "output_type": "stream",
     "text": [
      "30\n",
      "28\n",
      "31\n"
     ]
    }
   ],
   "source": [
    "def check_leap_year(year):\n",
    "    year=int(input('연도값'))\n",
    "    if year/4==0 and (year/100!=0 or year/400==0):\n",
    "        return '윤년'\n",
    "    else:\n",
    "        return '평년'\n",
    "\n",
    "def days(month):\n",
    "    if month in (1,3,5,7,8,10,12):\n",
    "        return 31\n",
    "    elif month==2:\n",
    "        return 28\n",
    "    else:\n",
    "        return 30\n",
    "\n",
    "print(days(11))\n",
    "print(days(2))\n",
    "print(days(1))"
   ]
  },
  {
   "cell_type": "code",
   "execution_count": 199,
   "id": "1dc844c3-c03f-48fc-9f26-6338bcbecf14",
   "metadata": {},
   "outputs": [
    {
     "name": "stdin",
     "output_type": "stream",
     "text": [
      "연도와 월 1900,11\n"
     ]
    },
    {
     "name": "stdout",
     "output_type": "stream",
     "text": [
      "30\n"
     ]
    },
    {
     "name": "stdin",
     "output_type": "stream",
     "text": [
      "연도와 월 2004,10\n"
     ]
    },
    {
     "name": "stdout",
     "output_type": "stream",
     "text": [
      "31\n"
     ]
    },
    {
     "name": "stdin",
     "output_type": "stream",
     "text": [
      "연도와 월 1900,2\n"
     ]
    },
    {
     "name": "stdout",
     "output_type": "stream",
     "text": [
      "29\n"
     ]
    },
    {
     "name": "stdin",
     "output_type": "stream",
     "text": [
      "연도와 월 2000,2\n"
     ]
    },
    {
     "name": "stdout",
     "output_type": "stream",
     "text": [
      "29\n"
     ]
    }
   ],
   "source": [
    "def days(year,month):\n",
    "    year,month=map(int,input('연도와 월').split(','))\n",
    "    if year/4==0 and (year/100!=0 or year/400==0):\n",
    "        if month in (1,3,5,7,8,10,12):\n",
    "            return 31\n",
    "        elif month==2:\n",
    "            return 28\n",
    "        else:\n",
    "            return 30\n",
    "    else:\n",
    "        if month in (1,3,5,7,8,10,12):\n",
    "            return 31\n",
    "        elif month==2:\n",
    "            return 29\n",
    "        else:\n",
    "            return 30\n",
    "\n",
    "print(days(1900,11))\n",
    "print(days(2004,10))\n",
    "print(days(1900,2))\n",
    "print(days(2000,2))"
   ]
  },
  {
   "cell_type": "code",
   "execution_count": 202,
   "id": "31956a21-cab0-4ff5-a536-d3d32612dee8",
   "metadata": {},
   "outputs": [
    {
     "name": "stdout",
     "output_type": "stream",
     "text": [
      "30\n",
      "31\n",
      "28\n",
      "29\n"
     ]
    }
   ],
   "source": [
    "# ans\n",
    "\n",
    "def days(year,month):\n",
    "    if year%4==0 and (year%100!=0 or year%400==0):\n",
    "        if month in (1,3,5,7,8,10,12):\n",
    "            return 31\n",
    "        elif month==2:\n",
    "            return 29\n",
    "        else:\n",
    "            return 30\n",
    "    else:\n",
    "        if month in (1,3,5,7,8,10,12):\n",
    "            return 31\n",
    "        elif month==2:\n",
    "            return 28\n",
    "        else:\n",
    "            return 30\n",
    "\n",
    "print(days(1900,11))\n",
    "print(days(2004,10))\n",
    "print(days(1900,2))\n",
    "print(days(2000,2))"
   ]
  },
  {
   "cell_type": "code",
   "execution_count": null,
   "id": "67dfa9e9-3251-4e35-a641-fafd7b84a3bb",
   "metadata": {},
   "outputs": [],
   "source": []
  },
  {
   "cell_type": "code",
   "execution_count": null,
   "id": "d666c448-5271-4bf6-96a5-449fc19129b5",
   "metadata": {},
   "outputs": [],
   "source": []
  },
  {
   "cell_type": "code",
   "execution_count": null,
   "id": "9a68d90d-e1cf-4859-8ba1-5fee3820389a",
   "metadata": {},
   "outputs": [],
   "source": []
  },
  {
   "cell_type": "code",
   "execution_count": null,
   "id": "23b54ebb-61c5-48f0-9721-226f74b09fca",
   "metadata": {},
   "outputs": [],
   "source": [
    "y"
   ]
  }
 ],
 "metadata": {
  "kernelspec": {
   "display_name": "Python 3 (ipykernel)",
   "language": "python",
   "name": "python3"
  },
  "language_info": {
   "codemirror_mode": {
    "name": "ipython",
    "version": 3
   },
   "file_extension": ".py",
   "mimetype": "text/x-python",
   "name": "python",
   "nbconvert_exporter": "python",
   "pygments_lexer": "ipython3",
   "version": "3.9.13"
  }
 },
 "nbformat": 4,
 "nbformat_minor": 5
}
