{
 "cells": [
  {
   "cell_type": "code",
   "execution_count": null,
   "id": "0426470e-dfcb-49a8-96e2-a9584eddb216",
   "metadata": {},
   "outputs": [],
   "source": [
    "# 주석사용하기\n",
    "x=1  #여기"
   ]
  },
  {
   "cell_type": "code",
   "execution_count": 7,
   "id": "e4eb938a-c838-4354-b612-a3bfe8361f83",
   "metadata": {},
   "outputs": [
    {
     "name": "stdout",
     "output_type": "stream",
     "text": [
      "1\n"
     ]
    }
   ],
   "source": [
    "x=1\n",
    "print(x)"
   ]
  },
  {
   "cell_type": "code",
   "execution_count": 8,
   "id": "b617a694-ebd5-451f-aeeb-35197076bedc",
   "metadata": {},
   "outputs": [
    {
     "name": "stdout",
     "output_type": "stream",
     "text": [
      "#이것은 주석이 아니다\n"
     ]
    }
   ],
   "source": [
    "print(text)"
   ]
  },
  {
   "cell_type": "code",
   "execution_count": 15,
   "id": "49d704e8-8f00-4691-ae52-03e73cf93969",
   "metadata": {},
   "outputs": [
    {
     "name": "stdout",
     "output_type": "stream",
     "text": [
      "Hello, world! Hello, world! Python Programming\n"
     ]
    }
   ],
   "source": [
    "a=\"Hello, world! Hello, world! Python Programming\" \n",
    "print(a)"
   ]
  },
  {
   "cell_type": "code",
   "execution_count": 45,
   "id": "15272ce8-5028-408f-afa5-d1f91e331492",
   "metadata": {},
   "outputs": [
    {
     "name": "stdout",
     "output_type": "stream",
     "text": [
      "Hello, world!\n",
      "Hello, world!\n",
      "Python Programming\n"
     ]
    }
   ],
   "source": [
    "a='Hello, world!'\n",
    "b='Python Programming'\n",
    "print(a)\n",
    "print(a)\n",
    "print(b)"
   ]
  },
  {
   "cell_type": "code",
   "execution_count": 22,
   "id": "aac97d50-9d77-407e-9a78-6fe8e22fb1e4",
   "metadata": {},
   "outputs": [
    {
     "data": {
      "text/plain": [
       "4"
      ]
     },
     "execution_count": 22,
     "metadata": {},
     "output_type": "execute_result"
    }
   ],
   "source": [
    "2+2"
   ]
  },
  {
   "cell_type": "code",
   "execution_count": 23,
   "id": "b6bbaee9-11f0-4973-a812-2aea6f2c3bd6",
   "metadata": {},
   "outputs": [
    {
     "data": {
      "text/plain": [
       "8"
      ]
     },
     "execution_count": 23,
     "metadata": {},
     "output_type": "execute_result"
    }
   ],
   "source": [
    "4*2"
   ]
  },
  {
   "cell_type": "code",
   "execution_count": null,
   "id": "a4b05f58-8374-4673-b18e-fc602d35cd68",
   "metadata": {},
   "outputs": [],
   "source": [
    "# 나눗셈은 항상실수, 실수가 정수보다 표현범위 넓음 (실수포함 산식값 실수값 출력)"
   ]
  },
  {
   "cell_type": "code",
   "execution_count": 29,
   "id": "d7dbd796-a36a-4d3b-a8d0-bec43eb756d0",
   "metadata": {},
   "outputs": [
    {
     "data": {
      "text/plain": [
       "2.0"
      ]
     },
     "execution_count": 29,
     "metadata": {},
     "output_type": "execute_result"
    }
   ],
   "source": [
    "4/2  "
   ]
  },
  {
   "cell_type": "code",
   "execution_count": 30,
   "id": "ad0fb864-baea-4c03-a3e3-3257a604211f",
   "metadata": {},
   "outputs": [
    {
     "data": {
      "text/plain": [
       "4.0"
      ]
     },
     "execution_count": 30,
     "metadata": {},
     "output_type": "execute_result"
    }
   ],
   "source": [
    "2+2.0"
   ]
  },
  {
   "cell_type": "code",
   "execution_count": 33,
   "id": "fb35494b-9f7c-471b-bf13-c929d3238f01",
   "metadata": {},
   "outputs": [
    {
     "data": {
      "text/plain": [
       "28.2"
      ]
     },
     "execution_count": 33,
     "metadata": {},
     "output_type": "execute_result"
    }
   ],
   "source": [
    "13+((22-3)*4)/5"
   ]
  },
  {
   "cell_type": "code",
   "execution_count": 31,
   "id": "ed7a4461-2ffd-43b0-b7b2-b9335c2d07ff",
   "metadata": {},
   "outputs": [
    {
     "data": {
      "text/plain": [
       "89"
      ]
     },
     "execution_count": 31,
     "metadata": {},
     "output_type": "execute_result"
    }
   ],
   "source": [
    "13+(22-3)*4"
   ]
  },
  {
   "cell_type": "code",
   "execution_count": 44,
   "id": "9c4802d2-b8ad-4efb-986d-24be53153da0",
   "metadata": {},
   "outputs": [
    {
     "name": "stdout",
     "output_type": "stream",
     "text": [
      "b c\n"
     ]
    }
   ],
   "source": [
    "a='b'\n",
    "b='c'\n",
    "print(a,b)"
   ]
  },
  {
   "cell_type": "markdown",
   "id": "c972aae7-3a7d-45cd-b8a4-2ff907b6a983",
   "metadata": {},
   "source": [
    "7//3"
   ]
  },
  {
   "cell_type": "code",
   "execution_count": 47,
   "id": "b6b9d2c8-6a91-4bcb-bb92-bad0de836250",
   "metadata": {},
   "outputs": [
    {
     "data": {
      "text/plain": [
       "2"
      ]
     },
     "execution_count": 47,
     "metadata": {},
     "output_type": "execute_result"
    }
   ],
   "source": [
    "7//3"
   ]
  },
  {
   "cell_type": "code",
   "execution_count": 48,
   "id": "262ccbbb-5bb2-4482-92c5-7e1c4366c5ac",
   "metadata": {},
   "outputs": [
    {
     "data": {
      "text/plain": [
       "1"
      ]
     },
     "execution_count": 48,
     "metadata": {},
     "output_type": "execute_result"
    }
   ],
   "source": [
    "3%2"
   ]
  },
  {
   "cell_type": "code",
   "execution_count": 49,
   "id": "8a37f6dc-5be0-4cb2-9a86-1490a9851d68",
   "metadata": {},
   "outputs": [
    {
     "data": {
      "text/plain": [
       "1.7320508075688772"
      ]
     },
     "execution_count": 49,
     "metadata": {},
     "output_type": "execute_result"
    }
   ],
   "source": [
    "3**(1/2)  #정수"
   ]
  },
  {
   "cell_type": "code",
   "execution_count": 50,
   "id": "03202a4f-b0f4-4ca7-8cbf-a32501a292cb",
   "metadata": {},
   "outputs": [
    {
     "data": {
      "text/plain": [
       "1.5"
      ]
     },
     "execution_count": 50,
     "metadata": {},
     "output_type": "execute_result"
    }
   ],
   "source": [
    "3**1/2  #실수"
   ]
  },
  {
   "cell_type": "code",
   "execution_count": 51,
   "id": "45d260d4-4fa0-4281-94d8-8c05a3287177",
   "metadata": {},
   "outputs": [
    {
     "data": {
      "text/plain": [
       "3"
      ]
     },
     "execution_count": 51,
     "metadata": {},
     "output_type": "execute_result"
    }
   ],
   "source": [
    "int(3.00000232)   #정수로 변환"
   ]
  },
  {
   "cell_type": "code",
   "execution_count": 52,
   "id": "4c665f70-98fc-4d21-beb4-e46935f17e74",
   "metadata": {},
   "outputs": [
    {
     "data": {
      "text/plain": [
       "3.0"
      ]
     },
     "execution_count": 52,
     "metadata": {},
     "output_type": "execute_result"
    }
   ],
   "source": [
    "float(3)   #실수로 변환"
   ]
  },
  {
   "cell_type": "code",
   "execution_count": 54,
   "id": "bd5cda80-af4e-4d11-beec-088f91084bea",
   "metadata": {},
   "outputs": [
    {
     "data": {
      "text/plain": [
       "10564"
      ]
     },
     "execution_count": 54,
     "metadata": {},
     "output_type": "execute_result"
    }
   ],
   "source": [
    "int('10564')  #문자를 정수로 변환"
   ]
  },
  {
   "cell_type": "code",
   "execution_count": 55,
   "id": "4e47be13-67c4-47bb-b337-2d70d57b841a",
   "metadata": {},
   "outputs": [
    {
     "data": {
      "text/plain": [
       "300.0"
      ]
     },
     "execution_count": 55,
     "metadata": {},
     "output_type": "execute_result"
    }
   ],
   "source": [
    "float(\"300\")  #문자를 실수로 변환"
   ]
  },
  {
   "cell_type": "code",
   "execution_count": 67,
   "id": "b4853094-0991-4c98-b999-2f4d3aa5d206",
   "metadata": {},
   "outputs": [
    {
     "name": "stdout",
     "output_type": "stream",
     "text": [
      "가장 시끄러운 층은 = 7 층\n"
     ]
    }
   ],
   "source": [
    "m=12\n",
    "floor=(0.246*m)+4.159\n",
    "print(\"가장 시끄러운 층은 =\", int(floor),\"층\")"
   ]
  },
  {
   "cell_type": "code",
   "execution_count": 70,
   "id": "c1724565-03c9-49ef-bed0-5f09e69fdefe",
   "metadata": {},
   "outputs": [
    {
     "name": "stdout",
     "output_type": "stream",
     "text": [
      "냉장고 가격은 1272000 원 입니다\n"
     ]
    }
   ],
   "source": [
    "price=53000*24\n",
    "print(\"냉장고 가격은\",price,\"원 입니다\")"
   ]
  },
  {
   "cell_type": "code",
   "execution_count": 80,
   "id": "15f86de2-e416-4023-ac45-8da6b8fb5a6f",
   "metadata": {},
   "outputs": [
    {
     "name": "stdout",
     "output_type": "stream",
     "text": [
      "총 지불해야 할 금액은  16500000.0 원 입니다.\n"
     ]
    }
   ],
   "source": [
    "people=250\n",
    "tax=20000*0.1  #tax10%=10/100\n",
    "print('총 지불해야 할 금액은 ',((20000+tax)*3*people),'원 입니다.')  \n"
   ]
  },
  {
   "cell_type": "code",
   "execution_count": 82,
   "id": "3cf03f86-9bc1-4bf1-99c3-bada1224dc3f",
   "metadata": {},
   "outputs": [
    {
     "data": {
      "text/plain": [
       "17"
      ]
     },
     "execution_count": 82,
     "metadata": {},
     "output_type": "execute_result"
    }
   ],
   "source": [
    "0b10001"
   ]
  },
  {
   "cell_type": "code",
   "execution_count": 83,
   "id": "07b8e876-77d4-45c9-baa3-1569b8796ffa",
   "metadata": {},
   "outputs": [
    {
     "data": {
      "text/plain": [
       "'0b10001'"
      ]
     },
     "execution_count": 83,
     "metadata": {},
     "output_type": "execute_result"
    }
   ],
   "source": [
    "bin(17)  #이진수"
   ]
  },
  {
   "cell_type": "code",
   "execution_count": 84,
   "id": "55c2a37b-f275-4f7f-8f9b-75b199099cea",
   "metadata": {},
   "outputs": [
    {
     "data": {
      "text/plain": [
       "17"
      ]
     },
     "execution_count": 84,
     "metadata": {},
     "output_type": "execute_result"
    }
   ],
   "source": [
    "0o21"
   ]
  },
  {
   "cell_type": "code",
   "execution_count": 85,
   "id": "371e99e0-c47d-4b23-887f-20feb59ffd6f",
   "metadata": {},
   "outputs": [
    {
     "data": {
      "text/plain": [
       "'0o21'"
      ]
     },
     "execution_count": 85,
     "metadata": {},
     "output_type": "execute_result"
    }
   ],
   "source": [
    "oct(17)"
   ]
  },
  {
   "cell_type": "code",
   "execution_count": 86,
   "id": "dc912dee-163e-4b8b-9441-0aec6cae3fca",
   "metadata": {},
   "outputs": [
    {
     "data": {
      "text/plain": [
       "23"
      ]
     },
     "execution_count": 86,
     "metadata": {},
     "output_type": "execute_result"
    }
   ],
   "source": [
    "0o27"
   ]
  },
  {
   "cell_type": "code",
   "execution_count": 98,
   "id": "9ce58e63-0832-4a47-a8f1-ebac98f4c0de",
   "metadata": {},
   "outputs": [
    {
     "name": "stdout",
     "output_type": "stream",
     "text": [
      "15000825.0\n"
     ]
    }
   ],
   "source": [
    "people=250\n",
    "tax=1+(10/100)\n",
    "print((20000+tax)*people*3)"
   ]
  },
  {
   "cell_type": "code",
   "execution_count": 99,
   "id": "c2c1cca6-6dd5-4614-aebb-1fc535040959",
   "metadata": {},
   "outputs": [
    {
     "data": {
      "text/plain": [
       "31"
      ]
     },
     "execution_count": 99,
     "metadata": {},
     "output_type": "execute_result"
    }
   ],
   "source": [
    "0x1f"
   ]
  },
  {
   "cell_type": "code",
   "execution_count": null,
   "id": "e1394838-78c2-4129-9022-32c7dfc3669e",
   "metadata": {},
   "outputs": [],
   "source": []
  },
  {
   "cell_type": "code",
   "execution_count": 100,
   "id": "1010f601-bf26-4890-92ec-8499773f6d8b",
   "metadata": {},
   "outputs": [
    {
     "name": "stdout",
     "output_type": "stream",
     "text": [
      "453.0\n"
     ]
    }
   ],
   "source": [
    "ap=380\n",
    "print(ap*0.6+225)"
   ]
  },
  {
   "cell_type": "code",
   "execution_count": 103,
   "id": "fe4faa3f-e26c-44de-b478-d98dc1b13e23",
   "metadata": {},
   "outputs": [
    {
     "name": "stdout",
     "output_type": "stream",
     "text": [
      "453.0\n"
     ]
    }
   ],
   "source": [
    "ap=380\n",
    "damage=ap*0.6+225\n",
    "print(damage)"
   ]
  },
  {
   "cell_type": "code",
   "execution_count": 105,
   "id": "793bc57f-acc9-4c77-9c6e-214fd90206c2",
   "metadata": {},
   "outputs": [
    {
     "name": "stdout",
     "output_type": "stream",
     "text": [
      "30\n"
     ]
    },
    {
     "ename": "NameError",
     "evalue": "name 'a' is not defined",
     "output_type": "error",
     "traceback": [
      "\u001b[1;31m---------------------------------------------------------------------------\u001b[0m",
      "\u001b[1;31mNameError\u001b[0m                                 Traceback (most recent call last)",
      "\u001b[1;32m~\\AppData\\Local\\Temp\\ipykernel_11624\\1546380019.py\u001b[0m in \u001b[0;36m<module>\u001b[1;34m\u001b[0m\n\u001b[0;32m      4\u001b[0m \u001b[1;32mdel\u001b[0m \u001b[0ma\u001b[0m\u001b[1;33m\u001b[0m\u001b[1;33m\u001b[0m\u001b[0m\n\u001b[0;32m      5\u001b[0m \u001b[1;33m\u001b[0m\u001b[0m\n\u001b[1;32m----> 6\u001b[1;33m \u001b[0mprint\u001b[0m\u001b[1;33m(\u001b[0m\u001b[0ma\u001b[0m\u001b[1;33m)\u001b[0m\u001b[1;33m\u001b[0m\u001b[1;33m\u001b[0m\u001b[0m\n\u001b[0m",
      "\u001b[1;31mNameError\u001b[0m: name 'a' is not defined"
     ]
    }
   ],
   "source": [
    "a=10\n",
    "a=a+20   #마지막 변수값을 최우선으로 함\n",
    "print(a)\n",
    "del a    # del [변수명] ->변수삭제\n",
    "\n",
    "print(a)"
   ]
  },
  {
   "cell_type": "code",
   "execution_count": 106,
   "id": "aba88c7c-6b3a-45b3-a722-6b6658222dbe",
   "metadata": {},
   "outputs": [
    {
     "name": "stdout",
     "output_type": "stream",
     "text": [
      "10\n"
     ]
    }
   ],
   "source": [
    "a=10\n",
    "a+20   #변수값을 할당하지 않음\n",
    "print(a)\n"
   ]
  },
  {
   "cell_type": "code",
   "execution_count": 107,
   "id": "643320be-eeb7-45aa-a180-ad0e12a19ff7",
   "metadata": {},
   "outputs": [
    {
     "name": "stdout",
     "output_type": "stream",
     "text": [
      "20\n"
     ]
    }
   ],
   "source": [
    "a=10\n",
    "a+=10   #a=a+10\n",
    "print(a)"
   ]
  },
  {
   "cell_type": "code",
   "execution_count": 110,
   "id": "eb46043c-59b0-4e49-9939-861dd16bdff3",
   "metadata": {},
   "outputs": [
    {
     "name": "stdout",
     "output_type": "stream",
     "text": [
      "None\n"
     ]
    }
   ],
   "source": [
    "a=None  # None=no value\n",
    "print(a)"
   ]
  },
  {
   "cell_type": "code",
   "execution_count": 111,
   "id": "bdc4f735-df69-4390-95fc-1dc6126edd3f",
   "metadata": {},
   "outputs": [
    {
     "data": {
      "text/plain": [
       "bool"
      ]
     },
     "execution_count": 111,
     "metadata": {},
     "output_type": "execute_result"
    }
   ],
   "source": [
    "type(True)"
   ]
  },
  {
   "cell_type": "code",
   "execution_count": 112,
   "id": "0bbbf60a-2700-46a4-a256-2f2489c7a4d2",
   "metadata": {},
   "outputs": [
    {
     "data": {
      "text/plain": [
       "2"
      ]
     },
     "execution_count": 112,
     "metadata": {},
     "output_type": "execute_result"
    }
   ],
   "source": [
    "True+True  #True=1, False=0\n"
   ]
  },
  {
   "cell_type": "code",
   "execution_count": 113,
   "id": "c6f2f3f1-f21a-4c0e-951b-6ec107d4b917",
   "metadata": {},
   "outputs": [
    {
     "data": {
      "text/plain": [
       "int"
      ]
     },
     "execution_count": 113,
     "metadata": {},
     "output_type": "execute_result"
    }
   ],
   "source": [
    "type(0)"
   ]
  },
  {
   "cell_type": "code",
   "execution_count": 114,
   "id": "3f3f0814-1088-41a1-9092-b1e621909103",
   "metadata": {},
   "outputs": [
    {
     "data": {
      "text/plain": [
       "str"
      ]
     },
     "execution_count": 114,
     "metadata": {},
     "output_type": "execute_result"
    }
   ],
   "source": [
    "type(\"0\")"
   ]
  },
  {
   "cell_type": "code",
   "execution_count": 115,
   "id": "cbd5a686-5dba-461e-b126-6368de774e8c",
   "metadata": {},
   "outputs": [
    {
     "data": {
      "text/plain": [
       "bool"
      ]
     },
     "execution_count": 115,
     "metadata": {},
     "output_type": "execute_result"
    }
   ],
   "source": [
    "type(False)"
   ]
  },
  {
   "cell_type": "code",
   "execution_count": 116,
   "id": "7e0a9bb9-23ef-43c1-b70c-c793df58ec41",
   "metadata": {},
   "outputs": [
    {
     "ename": "NameError",
     "evalue": "name 'false' is not defined",
     "output_type": "error",
     "traceback": [
      "\u001b[1;31m---------------------------------------------------------------------------\u001b[0m",
      "\u001b[1;31mNameError\u001b[0m                                 Traceback (most recent call last)",
      "\u001b[1;32m~\\AppData\\Local\\Temp\\ipykernel_11624\\27329152.py\u001b[0m in \u001b[0;36m<module>\u001b[1;34m\u001b[0m\n\u001b[1;32m----> 1\u001b[1;33m \u001b[0mtype\u001b[0m\u001b[1;33m(\u001b[0m\u001b[0mfalse\u001b[0m\u001b[1;33m)\u001b[0m\u001b[1;33m\u001b[0m\u001b[1;33m\u001b[0m\u001b[0m\n\u001b[0m",
      "\u001b[1;31mNameError\u001b[0m: name 'false' is not defined"
     ]
    }
   ],
   "source": [
    "type(false)   #함수(꼭 False)가 아니라 변수로 읽음"
   ]
  },
  {
   "cell_type": "code",
   "execution_count": 130,
   "id": "10db5de3-a885-47d6-9e2e-7e51fabaec8c",
   "metadata": {},
   "outputs": [
    {
     "ename": "SyntaxError",
     "evalue": "invalid syntax (3085465575.py, line 1)",
     "output_type": "error",
     "traceback": [
      "\u001b[1;36m  File \u001b[1;32m\"C:\\Users\\user\\AppData\\Local\\Temp\\ipykernel_11624\\3085465575.py\"\u001b[1;36m, line \u001b[1;32m1\u001b[0m\n\u001b[1;33m    print('\"안녕?\"이라는 그 인사를 듣고 나는 $'누구지?$'라고 생각했다.')\u001b[0m\n\u001b[1;37m                                  ^\u001b[0m\n\u001b[1;31mSyntaxError\u001b[0m\u001b[1;31m:\u001b[0m invalid syntax\n"
     ]
    }
   ],
   "source": [
    "print('\"안녕?\"이라는 그 인사를 듣고 나는 $'누구지?$'라고 생각했다.')"
   ]
  },
  {
   "cell_type": "code",
   "execution_count": null,
   "id": "a0970efd-bbe9-4eb5-9885-66886d768426",
   "metadata": {},
   "outputs": [],
   "source": []
  },
  {
   "cell_type": "code",
   "execution_count": null,
   "id": "dbbaf99a-58a4-4df4-a5e5-639877ede3d1",
   "metadata": {},
   "outputs": [],
   "source": []
  },
  {
   "cell_type": "code",
   "execution_count": null,
   "id": "40d8e1e3-1a4f-4b0b-a793-4dbec61c9dcc",
   "metadata": {},
   "outputs": [],
   "source": []
  },
  {
   "cell_type": "code",
   "execution_count": null,
   "id": "d631ee9b-147f-4e5f-a005-a9984e74eaf8",
   "metadata": {},
   "outputs": [],
   "source": []
  },
  {
   "cell_type": "code",
   "execution_count": null,
   "id": "d57dee16-9a40-4fcd-86ab-30ce7c86442e",
   "metadata": {},
   "outputs": [],
   "source": []
  },
  {
   "cell_type": "code",
   "execution_count": null,
   "id": "05633f2b-cbe8-4de5-9199-16da5ea64dae",
   "metadata": {},
   "outputs": [],
   "source": []
  },
  {
   "cell_type": "code",
   "execution_count": null,
   "id": "3a74664b-6879-4d48-81c5-e6f059a368a9",
   "metadata": {},
   "outputs": [],
   "source": []
  },
  {
   "cell_type": "code",
   "execution_count": null,
   "id": "a844b598-bc32-49a3-852c-7896affaf40d",
   "metadata": {},
   "outputs": [],
   "source": []
  }
 ],
 "metadata": {
  "kernelspec": {
   "display_name": "Python 3 (ipykernel)",
   "language": "python",
   "name": "python3"
  },
  "language_info": {
   "codemirror_mode": {
    "name": "ipython",
    "version": 3
   },
   "file_extension": ".py",
   "mimetype": "text/x-python",
   "name": "python",
   "nbconvert_exporter": "python",
   "pygments_lexer": "ipython3",
   "version": "3.9.13"
  }
 },
 "nbformat": 4,
 "nbformat_minor": 5
}
