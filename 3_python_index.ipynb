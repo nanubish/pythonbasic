{
 "cells": [
  {
   "cell_type": "code",
   "execution_count": null,
   "id": "c92cd25e-5831-4e67-94bc-b8d4b0f9de2c",
   "metadata": {},
   "outputs": [],
   "source": [
    "# 문자열 슬라이싱   [시작숫자(이상):끝숫자(미만):증감크기(생략가능)]"
   ]
  },
  {
   "cell_type": "code",
   "execution_count": 3,
   "id": "569023ce-1189-4739-90a2-56c61c6ca868",
   "metadata": {},
   "outputs": [
    {
     "name": "stdout",
     "output_type": "stream",
     "text": [
      "py\n"
     ]
    }
   ],
   "source": [
    "word='python'\n",
    "print(word[0:2])   # 범위표현 [시작인덱스:끝인덱스]"
   ]
  },
  {
   "cell_type": "code",
   "execution_count": 5,
   "id": "01f27a05-d60b-467d-8398-3459c3365d0c",
   "metadata": {},
   "outputs": [
    {
     "name": "stdout",
     "output_type": "stream",
     "text": [
      "pytho\n"
     ]
    }
   ],
   "source": [
    "word='python'\n",
    "print(word[0:-1])"
   ]
  },
  {
   "cell_type": "code",
   "execution_count": 6,
   "id": "27100335-bcbd-4634-af9d-037b82af2048",
   "metadata": {},
   "outputs": [
    {
     "name": "stdout",
     "output_type": "stream",
     "text": [
      "ytho\n"
     ]
    }
   ],
   "source": [
    "word='python'\n",
    "print(word[-5:-1])"
   ]
  },
  {
   "cell_type": "code",
   "execution_count": 7,
   "id": "ad4304c1-c8ff-4686-8e03-d1a2e20f7226",
   "metadata": {},
   "outputs": [
    {
     "name": "stdout",
     "output_type": "stream",
     "text": [
      "on\n"
     ]
    }
   ],
   "source": [
    "word='python'\n",
    "print(word[4:6])  # 6이 인덱싱 범위를 넘어가나 슬라이싱에서는 허용"
   ]
  },
  {
   "cell_type": "code",
   "execution_count": 8,
   "id": "05311134-c170-4b11-9566-577d5ed97bb1",
   "metadata": {},
   "outputs": [
    {
     "name": "stdout",
     "output_type": "stream",
     "text": [
      "pto\n"
     ]
    }
   ],
   "source": [
    "word='python'\n",
    "print(word[::2])   # :: 처음부터 끝까지, 2씩증가"
   ]
  },
  {
   "cell_type": "code",
   "execution_count": 9,
   "id": "bdb1c8f5-7a4d-48ee-99c2-281b2e9ceb87",
   "metadata": {},
   "outputs": [
    {
     "name": "stdout",
     "output_type": "stream",
     "text": [
      "pto\n"
     ]
    }
   ],
   "source": [
    "word='python'\n",
    "print(word[0:-1:2])"
   ]
  },
  {
   "cell_type": "code",
   "execution_count": 10,
   "id": "0d316db9-2cf3-4ea3-896b-d163cf3a047b",
   "metadata": {},
   "outputs": [
    {
     "name": "stdout",
     "output_type": "stream",
     "text": [
      "\n"
     ]
    }
   ],
   "source": [
    "word='python'\n",
    "print(word[42:2])    #슬라이싱은 범위를 벗어나도 표현 가능"
   ]
  },
  {
   "cell_type": "code",
   "execution_count": 12,
   "id": "75432437-0e40-49a6-818c-202c0931c797",
   "metadata": {},
   "outputs": [
    {
     "name": "stdout",
     "output_type": "stream",
     "text": [
      "한것 이 는마\n"
     ]
    }
   ],
   "source": [
    "sentence='중요한 것은 꺽이지 않는 마음'\n",
    "print(sentence[2:42:2])"
   ]
  },
  {
   "cell_type": "code",
   "execution_count": 19,
   "id": "a1fec4d0-c386-4c34-b4d4-0542206b0ef9",
   "metadata": {},
   "outputs": [
    {
     "name": "stdout",
     "output_type": "stream",
     "text": [
      "꺾이지 않는 마음\n"
     ]
    }
   ],
   "source": [
    "sentence='중요한 것은 꺾이지 않는 마음'\n",
    "print(sentence[7:])"
   ]
  },
  {
   "cell_type": "code",
   "execution_count": 18,
   "id": "72b5354e-6f06-4bcc-acc5-daf87f08febc",
   "metadata": {},
   "outputs": [
    {
     "name": "stdout",
     "output_type": "stream",
     "text": [
      "중  지는음\n"
     ]
    }
   ],
   "source": [
    "sentence='중요한 것은 꺾이지 않는 마음'\n",
    "print(sentence[::3])"
   ]
  },
  {
   "cell_type": "code",
   "execution_count": 20,
   "id": "700c2f20-0918-4e0d-9c98-0e54491b2192",
   "metadata": {},
   "outputs": [
    {
     "name": "stdout",
     "output_type": "stream",
     "text": [
      "꺾이지 않는 마음\n"
     ]
    }
   ],
   "source": [
    "sentence='중요한 것은 꺾이지 않는 마음'\n",
    "print(sentence[7:22])"
   ]
  },
  {
   "cell_type": "code",
   "execution_count": 73,
   "id": "ef5715d5-787b-484f-a57f-22908892319e",
   "metadata": {},
   "outputs": [
    {
     "name": "stdout",
     "output_type": "stream",
     "text": [
      "pytho\n"
     ]
    }
   ],
   "source": [
    "word='python'\n",
    "print(word[0:-1])   "
   ]
  },
  {
   "cell_type": "code",
   "execution_count": 52,
   "id": "19be5f64-d140-4450-8548-f9f8ccd678f5",
   "metadata": {},
   "outputs": [
    {
     "name": "stdout",
     "output_type": "stream",
     "text": [
      "한\n"
     ]
    }
   ],
   "source": [
    "sentence='중요한 것은 꺾이지 않는 마음'\n",
    "print(sentence[2:3:2])   #실행결과: 한요중 "
   ]
  },
  {
   "cell_type": "code",
   "execution_count": 66,
   "id": "70835490-6699-47b2-8eae-b574c11c5527",
   "metadata": {},
   "outputs": [
    {
     "name": "stdout",
     "output_type": "stream",
     "text": [
      "한요중\n"
     ]
    }
   ],
   "source": [
    "sentence='중요한 것은 꺾이지 않는 마음'\n",
    "print(sentence[2::-1])  #시작점[2]을 먼저잡고 풀이"
   ]
  },
  {
   "cell_type": "code",
   "execution_count": 68,
   "id": "1dcf1e7e-0380-4e0b-922c-d3e719be884d",
   "metadata": {},
   "outputs": [
    {
     "name": "stdout",
     "output_type": "stream",
     "text": [
      "한요중\n"
     ]
    }
   ],
   "source": [
    "sentence='중요한 것은 꺾이지 않는 마음'\n",
    "print(sentence[-14::-1])"
   ]
  },
  {
   "cell_type": "code",
   "execution_count": 71,
   "id": "56d942ab-4563-4392-8821-12bc611e5d91",
   "metadata": {},
   "outputs": [
    {
     "name": "stdout",
     "output_type": "stream",
     "text": [
      "한요중\n"
     ]
    }
   ],
   "source": [
    "s='중요한'\n",
    "print(s[::-1])"
   ]
  },
  {
   "cell_type": "code",
   "execution_count": 72,
   "id": "ecc4414a-b389-42bd-84ed-7057d57b9a06",
   "metadata": {},
   "outputs": [
    {
     "name": "stdout",
     "output_type": "stream",
     "text": [
      "한요중\n"
     ]
    }
   ],
   "source": [
    "s='중요한'\n",
    "print(s[::][::-1])"
   ]
  },
  {
   "cell_type": "code",
   "execution_count": 76,
   "id": "cb50ebc8-93c9-4915-8e2c-7c65b43c34d2",
   "metadata": {},
   "outputs": [
    {
     "name": "stdout",
     "output_type": "stream",
     "text": [
      "한요중\n"
     ]
    }
   ],
   "source": [
    "sentence='중요한 것은 꺾이지 않는 마음'\n",
    "print(sentence[-14::-1])"
   ]
  },
  {
   "cell_type": "code",
   "execution_count": 77,
   "id": "becbb643-8396-4981-801b-0a0893fd367b",
   "metadata": {},
   "outputs": [
    {
     "name": "stdout",
     "output_type": "stream",
     "text": [
      "한요중\n"
     ]
    }
   ],
   "source": [
    "sentence='중요한 것은 꺾이지 않는 마음'\n",
    "print(sentence[0:3][::-1])"
   ]
  },
  {
   "cell_type": "code",
   "execution_count": null,
   "id": "dde453b2-bea3-44db-a894-8cd894c96c17",
   "metadata": {},
   "outputs": [],
   "source": [
    "#문자열 변경 불가"
   ]
  },
  {
   "cell_type": "code",
   "execution_count": 78,
   "id": "b526739e-f670-402d-a78d-272061450c2e",
   "metadata": {},
   "outputs": [
    {
     "ename": "TypeError",
     "evalue": "'str' object does not support item assignment",
     "output_type": "error",
     "traceback": [
      "\u001b[1;31m---------------------------------------------------------------------------\u001b[0m",
      "\u001b[1;31mTypeError\u001b[0m                                 Traceback (most recent call last)",
      "\u001b[1;32m~\\AppData\\Local\\Temp\\ipykernel_11996\\269027436.py\u001b[0m in \u001b[0;36m<module>\u001b[1;34m\u001b[0m\n\u001b[1;32m----> 1\u001b[1;33m \u001b[0msentence\u001b[0m\u001b[1;33m[\u001b[0m\u001b[1;36m0\u001b[0m\u001b[1;33m]\u001b[0m\u001b[1;33m=\u001b[0m\u001b[1;34m'한'\u001b[0m\u001b[1;33m\u001b[0m\u001b[1;33m\u001b[0m\u001b[0m\n\u001b[0m",
      "\u001b[1;31mTypeError\u001b[0m: 'str' object does not support item assignment"
     ]
    }
   ],
   "source": [
    "sentence='중요한 것은 꺾이지 않는 마음'\n",
    "sentence[0]='한'   #문자열을 인덱스로 접근해 값 변경 불"
   ]
  },
  {
   "cell_type": "code",
   "execution_count": 79,
   "id": "5c1a26e1-0426-4a94-8715-3886d0970cae",
   "metadata": {},
   "outputs": [
    {
     "ename": "TypeError",
     "evalue": "'str' object does not support item assignment",
     "output_type": "error",
     "traceback": [
      "\u001b[1;31m---------------------------------------------------------------------------\u001b[0m",
      "\u001b[1;31mTypeError\u001b[0m                                 Traceback (most recent call last)",
      "\u001b[1;32m~\\AppData\\Local\\Temp\\ipykernel_11996\\521856177.py\u001b[0m in \u001b[0;36m<module>\u001b[1;34m\u001b[0m\n\u001b[0;32m      1\u001b[0m \u001b[0msentence\u001b[0m\u001b[1;33m=\u001b[0m\u001b[1;34m'중요한 것은 꺾이지 않는 마음'\u001b[0m\u001b[1;33m\u001b[0m\u001b[1;33m\u001b[0m\u001b[0m\n\u001b[1;32m----> 2\u001b[1;33m \u001b[0msentence\u001b[0m\u001b[1;33m[\u001b[0m\u001b[1;36m0\u001b[0m\u001b[1;33m:\u001b[0m\u001b[1;36m3\u001b[0m\u001b[1;33m]\u001b[0m\u001b[1;33m=\u001b[0m\u001b[1;34m'대단한'\u001b[0m\u001b[1;33m\u001b[0m\u001b[1;33m\u001b[0m\u001b[0m\n\u001b[0m",
      "\u001b[1;31mTypeError\u001b[0m: 'str' object does not support item assignment"
     ]
    }
   ],
   "source": [
    "sentence='중요한 것은 꺾이지 않는 마음'\n",
    "sentence[0:3]='대단한'    #슬라이싱으로 접근해도 값 변경 불가"
   ]
  },
  {
   "cell_type": "code",
   "execution_count": null,
   "id": "e9c4637f-1b84-4cd9-a3d6-d763b3166a34",
   "metadata": {},
   "outputs": [],
   "source": [
    "#문자열 변경"
   ]
  },
  {
   "cell_type": "code",
   "execution_count": 83,
   "id": "87a1ff50-5fdf-4e46-8077-d52e812b1d1d",
   "metadata": {},
   "outputs": [
    {
     "name": "stdout",
     "output_type": "stream",
     "text": [
      "대단한 것은 꺾이지 않는 마음\n"
     ]
    }
   ],
   "source": [
    "sentence='중요한 것은 꺾이지 않는 마음'\n",
    "sentence='대단한'+sentence[3:]\n",
    "print(sentence)"
   ]
  },
  {
   "cell_type": "code",
   "execution_count": null,
   "id": "6a2d8587-9aa2-424a-a5cc-df30474b9f72",
   "metadata": {},
   "outputs": [],
   "source": [
    "#리스트 (가변 MUTABLE)"
   ]
  },
  {
   "cell_type": "code",
   "execution_count": 86,
   "id": "a555a4d4-12c9-43d8-bd95-f9ef62a099ac",
   "metadata": {},
   "outputs": [
    {
     "name": "stdout",
     "output_type": "stream",
     "text": [
      "[1, 8, 9, 16, 25]\n"
     ]
    },
    {
     "data": {
      "text/plain": [
       "list"
      ]
     },
     "execution_count": 86,
     "metadata": {},
     "output_type": "execute_result"
    }
   ],
   "source": [
    "squares=[1**2,2**3,3**2,4**2,5**2]\n",
    "print(squares)\n",
    "type(squares)    # type 확인"
   ]
  },
  {
   "cell_type": "code",
   "execution_count": 95,
   "id": "cb247a79-d20c-49a0-91aa-378441945752",
   "metadata": {},
   "outputs": [
    {
     "name": "stdout",
     "output_type": "stream",
     "text": [
      "1\n",
      "25\n",
      "[1, 8, 9, 16, 25]\n",
      "[1, 9, 25]\n",
      "[25, 16, 9, 8, 1]\n",
      "[9, 8, 1]\n",
      "[]\n",
      "[16, 25]\n"
     ]
    }
   ],
   "source": [
    "print(squares[0])\n",
    "print(squares[-1])\n",
    "print(squares[::])\n",
    "print(squares[::2])\n",
    "print(squares[::-1])\n",
    "print(squares[-3::-1])\n",
    "print(squares[3:12:-1])\n",
    "print(squares[3:12:1])"
   ]
  },
  {
   "cell_type": "code",
   "execution_count": 102,
   "id": "1664e479-5e01-4cfc-ada1-1328d9fb1df9",
   "metadata": {},
   "outputs": [
    {
     "name": "stdout",
     "output_type": "stream",
     "text": [
      "[1, 8, 9, 16, 25, 36, 49, 43, 234, 345]\n"
     ]
    }
   ],
   "source": [
    "squares=[1**2,2**3,3**2,4**2,5**2]\n",
    "print(squares+[36,49,43,234,345])"
   ]
  },
  {
   "cell_type": "code",
   "execution_count": 104,
   "id": "4b055411-e6bd-4689-8b5e-87a95dd21297",
   "metadata": {},
   "outputs": [
    {
     "name": "stdout",
     "output_type": "stream",
     "text": [
      "('a', 'b', 'c', 'a', 'b', 'c', 'a', 'b', 'c', 'a', 'b', 'c', 'a', 'b', 'c', 'a', 'b', 'c', 'a', 'b', 'c', 'a', 'b', 'c', 'a', 'b', 'c', 'a', 'b', 'c')\n"
     ]
    }
   ],
   "source": [
    "letters='a','b','c'\n",
    "print(letters*10) "
   ]
  },
  {
   "cell_type": "code",
   "execution_count": 111,
   "id": "e71d8ace-b031-457c-9424-f0db38ef60a0",
   "metadata": {},
   "outputs": [
    {
     "name": "stdout",
     "output_type": "stream",
     "text": [
      "[1, 8, 27, 64, 125]\n",
      "5\n"
     ]
    }
   ],
   "source": [
    "cubes=[1,8,27,65,125]\n",
    "cubes[3]=4**3\n",
    "print(cubes)\n",
    "print(len(cubes))"
   ]
  },
  {
   "cell_type": "code",
   "execution_count": 110,
   "id": "a6b9a080-695e-4a6b-96cb-db26d7fbe9ab",
   "metadata": {},
   "outputs": [
    {
     "name": "stdout",
     "output_type": "stream",
     "text": [
      "['a', 'x', 'c', 'd', 'e']\n",
      "['a', 'x', 'c', 'd', 'o']\n",
      "5\n"
     ]
    }
   ],
   "source": [
    "letters=['a','b','c','d','e']\n",
    "letters[1]='x'\n",
    "print(letters)\n",
    "\n",
    "letters[-1]='o'\n",
    "print(letters)\n",
    "\n",
    "print(len(letters))  #리스트 총 요소갯수 : len함수"
   ]
  },
  {
   "cell_type": "code",
   "execution_count": 115,
   "id": "aae9690a-1a56-462a-b4b3-93146b09a225",
   "metadata": {},
   "outputs": [
    {
     "name": "stdout",
     "output_type": "stream",
     "text": [
      "[['a', 'b', 'c'], ['d', 'e']]\n",
      "['a', 'b', 'c']\n"
     ]
    }
   ],
   "source": [
    "a=['a','b','c']    #인덱스 0\n",
    "n=['d','e']        #인덱스 1\n",
    "x=[a,n]\n",
    "print(x)\n",
    "print(x[0])"
   ]
  },
  {
   "cell_type": "code",
   "execution_count": null,
   "id": "9dafbf2a-a7bd-4ba7-90bb-d7ade304bf07",
   "metadata": {},
   "outputs": [],
   "source": [
    "#리스트에 특정요소 있는지 확인"
   ]
  },
  {
   "cell_type": "code",
   "execution_count": 117,
   "id": "b23742af-834e-4394-b5be-04f7b41c880a",
   "metadata": {},
   "outputs": [
    {
     "name": "stdout",
     "output_type": "stream",
     "text": [
      "True\n",
      "False\n"
     ]
    }
   ],
   "source": [
    "numbers=[1,2,3,4,5,6,7]     # in 활용\n",
    "print(5 in numbers)\n",
    "print(10 in numbers)"
   ]
  },
  {
   "cell_type": "code",
   "execution_count": 135,
   "id": "29c8ae80-11b2-4c37-afa8-1d59d5fa62a7",
   "metadata": {},
   "outputs": [
    {
     "name": "stdout",
     "output_type": "stream",
     "text": [
      "False\n",
      "False\n"
     ]
    },
    {
     "ename": "TypeError",
     "evalue": "'>=' not supported between instances of 'list' and 'int'",
     "output_type": "error",
     "traceback": [
      "\u001b[1;31m---------------------------------------------------------------------------\u001b[0m",
      "\u001b[1;31mTypeError\u001b[0m                                 Traceback (most recent call last)",
      "\u001b[1;32m~\\AppData\\Local\\Temp\\ipykernel_11996\\1822994167.py\u001b[0m in \u001b[0;36m<module>\u001b[1;34m\u001b[0m\n\u001b[0;32m      3\u001b[0m \u001b[0mprint\u001b[0m\u001b[1;33m(\u001b[0m\u001b[0mscores\u001b[0m\u001b[1;33m[\u001b[0m\u001b[1;36m0\u001b[0m\u001b[1;33m]\u001b[0m\u001b[1;33m>=\u001b[0m\u001b[1;36m60\u001b[0m \u001b[1;32min\u001b[0m \u001b[0mscores\u001b[0m\u001b[1;33m)\u001b[0m\u001b[1;33m\u001b[0m\u001b[1;33m\u001b[0m\u001b[0m\n\u001b[0;32m      4\u001b[0m \u001b[0mprint\u001b[0m\u001b[1;33m(\u001b[0m\u001b[0mscores\u001b[0m\u001b[1;33m[\u001b[0m\u001b[1;36m1\u001b[0m\u001b[1;33m]\u001b[0m\u001b[1;33m>=\u001b[0m\u001b[1;36m60\u001b[0m \u001b[1;32min\u001b[0m \u001b[0mscores\u001b[0m\u001b[1;33m)\u001b[0m\u001b[1;33m\u001b[0m\u001b[1;33m\u001b[0m\u001b[0m\n\u001b[1;32m----> 5\u001b[1;33m \u001b[0mprint\u001b[0m\u001b[1;33m(\u001b[0m\u001b[0mscores\u001b[0m\u001b[1;33m[\u001b[0m\u001b[1;36m0\u001b[0m\u001b[1;33m:\u001b[0m\u001b[1;36m5\u001b[0m\u001b[1;33m]\u001b[0m\u001b[1;33m>=\u001b[0m\u001b[1;36m60\u001b[0m \u001b[1;32min\u001b[0m \u001b[0mscores\u001b[0m\u001b[1;33m)\u001b[0m\u001b[1;33m\u001b[0m\u001b[1;33m\u001b[0m\u001b[0m\n\u001b[0m",
      "\u001b[1;31mTypeError\u001b[0m: '>=' not supported between instances of 'list' and 'int'"
     ]
    }
   ],
   "source": [
    "#'국어','영어','한국사','선택교과1','선택교과2\n",
    "scores=[88,73,89,59,77]\n",
    "print(scores[0]>=60 in scores)\n",
    "print(scores[1]>=60 in scores)\n",
    "print(scores[0:5]>=60 in scores)"
   ]
  },
  {
   "cell_type": "code",
   "execution_count": 138,
   "id": "d140c070-3c0b-4359-8ed7-ac1162c909c7",
   "metadata": {},
   "outputs": [
    {
     "name": "stdout",
     "output_type": "stream",
     "text": [
      "False\n",
      "True\n"
     ]
    }
   ],
   "source": [
    "#'국어','영어','한국사','선택교과1','선택교과2 중 한과목이라도 60미만이면 False 출력\n",
    "scores=[88,73,89,59,77] \n",
    "print(scores[0]>=60 and scores[1]>=60 and scores[2]>=60 and scores[3]>=60 and scores[4]>=60)\n",
    "# or 활용\n",
    "print(scores[0]>=60 or scores[1]>=60 or scores[2]>=60 or scores[3]>=60 or scores[4]>=60)"
   ]
  },
  {
   "cell_type": "code",
   "execution_count": null,
   "id": "125e4cbf-442d-4eb8-9c56-5d19d09b1840",
   "metadata": {},
   "outputs": [],
   "source": [
    "# function : 반복적 코드양 줄여 유지보수성 높임"
   ]
  },
  {
   "cell_type": "code",
   "execution_count": 139,
   "id": "f66ff2e8-a481-4ecd-9256-43e6abde7fba",
   "metadata": {},
   "outputs": [
    {
     "name": "stdout",
     "output_type": "stream",
     "text": [
      "[1, 2, 3, 4, 5, 6, 7, 8]\n"
     ]
    }
   ],
   "source": [
    "numbers=[1,2,3,4,5,6,7]\n",
    "numbers.append(8)\n",
    "print(numbers)  # 리스트(object, 객체).append(요소) -> 리스트에 요소 추가(맨뒤로)"
   ]
  },
  {
   "cell_type": "code",
   "execution_count": 142,
   "id": "216d9bee-64a2-4fe1-8c0c-b9a688f795d9",
   "metadata": {},
   "outputs": [
    {
     "name": "stdout",
     "output_type": "stream",
     "text": [
      "['추가', '추가', 1, 1, 2, 3, 4, 5, 6, 7, 8]\n",
      "['추가', '추가', 1, 1, 2, 3, 4, 5, 6, 7, 8, 0]\n"
     ]
    }
   ],
   "source": [
    "#리스트에 요소를 운하는 인덱스에 추가\n",
    "numbers.insert(0,'추가')\n",
    "print(numbers)\n",
    "numbers.insert(len(numbers),0)  #마지막에 추가\n",
    "print(numbers)"
   ]
  },
  {
   "cell_type": "code",
   "execution_count": 143,
   "id": "9e5514d4-705f-4f83-93af-c374b00c0aa9",
   "metadata": {},
   "outputs": [
    {
     "name": "stdout",
     "output_type": "stream",
     "text": [
      "['추가', '추가', 1, 1, 2, 3, 4, 5, 6, 7, 8, 0, 9, 10, 11]\n"
     ]
    }
   ],
   "source": [
    "numbers.extend([9,10,11])   #리스트(한 덩엉리)로 추가됨 (append는 요소추가)\n",
    "print(numbers)"
   ]
  },
  {
   "cell_type": "code",
   "execution_count": 145,
   "id": "7b39a46f-7d56-4bc2-b2d2-83c06a868ab1",
   "metadata": {},
   "outputs": [
    {
     "name": "stdout",
     "output_type": "stream",
     "text": [
      "[1, 1, 2, 3, 4, 5, 6, 7, 8, 0, 9, 10, 11]\n"
     ]
    }
   ],
   "source": [
    "numbers.remove('추가')  #여럿인경우 제일 먼저 발견된 요소 삭제\n",
    "print(numbers)"
   ]
  },
  {
   "cell_type": "code",
   "execution_count": 151,
   "id": "a8c5492d-1e8f-4504-abab-35f0af389d1a",
   "metadata": {},
   "outputs": [
    {
     "name": "stdout",
     "output_type": "stream",
     "text": [
      "0\n",
      "[1, 1, 2, 3, 4, 5, 6, 7, 8]\n"
     ]
    }
   ],
   "source": [
    "#리스트.pop(인자) :리스트 제일 마지막 요소를 리스트에서 제거, 제거한 요소는 반환됨\n",
    "print(numbers.pop())   #마지막 값 제거해서 반환  (반환값 있음)\n",
    "print(numbers)         #제거한 나머지 출력"
   ]
  },
  {
   "cell_type": "code",
   "execution_count": 155,
   "id": "0417f576-c001-482f-a711-1968e772ce42",
   "metadata": {},
   "outputs": [
    {
     "name": "stdout",
     "output_type": "stream",
     "text": [
      "7\n"
     ]
    }
   ],
   "source": [
    "print(numbers.index(7))  #7이 위치한 자리의 인덱스 표시"
   ]
  },
  {
   "cell_type": "code",
   "execution_count": 159,
   "id": "e9118b00-1d2c-4567-85bd-896aa35691ab",
   "metadata": {},
   "outputs": [
    {
     "name": "stdout",
     "output_type": "stream",
     "text": [
      "1\n"
     ]
    }
   ],
   "source": [
    "print(numbers.count(7))  #의 총갯수 (인자갯수 카운트)"
   ]
  },
  {
   "cell_type": "code",
   "execution_count": 160,
   "id": "53b7147f-3dd5-4b21-9a6f-a7b40e2dfd2b",
   "metadata": {},
   "outputs": [
    {
     "name": "stdout",
     "output_type": "stream",
     "text": [
      "[1, 1, 2, 3, 4, 5, 6, 7, 8]\n"
     ]
    }
   ],
   "source": [
    "numbers.sort()    #sort등은 앞의 숫자를 바꾸고있음, 반환값은 없음\n",
    "print(numbers)   #오름차순으로 정리"
   ]
  },
  {
   "cell_type": "code",
   "execution_count": 161,
   "id": "599bea39-1edd-4233-a514-000f10108d3b",
   "metadata": {},
   "outputs": [
    {
     "data": {
      "text/plain": [
       "[1, 1, 2, 3, 4, 5, 6, 7, 8]"
      ]
     },
     "execution_count": 161,
     "metadata": {},
     "output_type": "execute_result"
    }
   ],
   "source": [
    "sorted(numbers)"
   ]
  },
  {
   "cell_type": "code",
   "execution_count": 163,
   "id": "01522a83-117b-4ec2-bfee-eab0034e9c75",
   "metadata": {},
   "outputs": [],
   "source": [
    "numbers.reverse()\n",
    "print(numbers) \n",
    "  #리스트 요소를 반대방향으로 재정렬"
   ]
  },
  {
   "cell_type": "code",
   "execution_count": 182,
   "id": "6eebbf60-8efe-4a74-8a84-8c2c1c60d013",
   "metadata": {},
   "outputs": [
    {
     "name": "stdout",
     "output_type": "stream",
     "text": [
      "[1, 2, 3, 4, 6]\n"
     ]
    },
    {
     "ename": "AttributeError",
     "evalue": "'list' object has no attribute 'stack'",
     "output_type": "error",
     "traceback": [
      "\u001b[1;31m---------------------------------------------------------------------------\u001b[0m",
      "\u001b[1;31mAttributeError\u001b[0m                            Traceback (most recent call last)",
      "\u001b[1;32m~\\AppData\\Local\\Temp\\ipykernel_11996\\1082942462.py\u001b[0m in \u001b[0;36m<module>\u001b[1;34m\u001b[0m\n\u001b[0;32m      3\u001b[0m \u001b[0mnumbers\u001b[0m\u001b[1;33m.\u001b[0m\u001b[0mappend\u001b[0m\u001b[1;33m(\u001b[0m\u001b[1;36m6\u001b[0m\u001b[1;33m)\u001b[0m\u001b[1;33m\u001b[0m\u001b[1;33m\u001b[0m\u001b[0m\n\u001b[0;32m      4\u001b[0m \u001b[0mprint\u001b[0m\u001b[1;33m(\u001b[0m\u001b[0mnumbers\u001b[0m\u001b[1;33m)\u001b[0m\u001b[1;33m\u001b[0m\u001b[1;33m\u001b[0m\u001b[0m\n\u001b[1;32m----> 5\u001b[1;33m \u001b[0mnumbers\u001b[0m\u001b[1;33m.\u001b[0m\u001b[0mstack\u001b[0m\u001b[1;33m(\u001b[0m\u001b[1;36m6\u001b[0m\u001b[1;33m)\u001b[0m  \u001b[1;31m#need recheck\u001b[0m\u001b[1;33m\u001b[0m\u001b[1;33m\u001b[0m\u001b[0m\n\u001b[0m\u001b[0;32m      6\u001b[0m \u001b[0mprint\u001b[0m\u001b[1;33m(\u001b[0m\u001b[0mnumbers\u001b[0m\u001b[1;33m)\u001b[0m\u001b[1;33m\u001b[0m\u001b[1;33m\u001b[0m\u001b[0m\n",
      "\u001b[1;31mAttributeError\u001b[0m: 'list' object has no attribute 'stack'"
     ]
    }
   ],
   "source": [
    "#리스트를 stack(last in first out) 처럼 활용\n",
    "numbers=[1,2,3,4]\n",
    "numbers.append(6)\n",
    "print(numbers)\n",
    "numbers.stack(6)  #need recheck\n",
    "print(numbers)"
   ]
  },
  {
   "cell_type": "code",
   "execution_count": 164,
   "id": "f11dd2a9-d6c2-4973-b446-c71fcf4fbe6b",
   "metadata": {},
   "outputs": [
    {
     "name": "stdout",
     "output_type": "stream",
     "text": [
      "[]\n"
     ]
    }
   ],
   "source": [
    "numbers.clear()   #요소삭제\n",
    "print(numbers)"
   ]
  },
  {
   "cell_type": "code",
   "execution_count": 185,
   "id": "e51908e6-d2aa-48df-ae2f-bb7c285cec5e",
   "metadata": {},
   "outputs": [
    {
     "ename": "TypeError",
     "evalue": "'tuple' object does not support item assignment",
     "output_type": "error",
     "traceback": [
      "\u001b[1;31m---------------------------------------------------------------------------\u001b[0m",
      "\u001b[1;31mTypeError\u001b[0m                                 Traceback (most recent call last)",
      "\u001b[1;32m~\\AppData\\Local\\Temp\\ipykernel_11996\\2583211137.py\u001b[0m in \u001b[0;36m<module>\u001b[1;34m\u001b[0m\n\u001b[0;32m      2\u001b[0m \u001b[1;33m\u001b[0m\u001b[0m\n\u001b[0;32m      3\u001b[0m \u001b[0mtuple_variable\u001b[0m\u001b[1;33m=\u001b[0m\u001b[1;33m(\u001b[0m\u001b[1;36m1\u001b[0m\u001b[1;33m,\u001b[0m\u001b[1;36m2\u001b[0m\u001b[1;33m,\u001b[0m\u001b[1;36m3\u001b[0m\u001b[1;33m,\u001b[0m\u001b[1;36m4\u001b[0m\u001b[1;33m,\u001b[0m\u001b[1;36m5\u001b[0m\u001b[1;33m,\u001b[0m\u001b[1;34m\"hello\"\u001b[0m\u001b[1;33m)\u001b[0m\u001b[1;33m\u001b[0m\u001b[1;33m\u001b[0m\u001b[0m\n\u001b[1;32m----> 4\u001b[1;33m \u001b[0mtuple_variable\u001b[0m\u001b[1;33m[\u001b[0m\u001b[1;36m0\u001b[0m\u001b[1;33m]\u001b[0m\u001b[1;33m=\u001b[0m\u001b[1;36m1\u001b[0m   \u001b[1;31m#인덱싱 변경불가\u001b[0m\u001b[1;33m\u001b[0m\u001b[1;33m\u001b[0m\u001b[0m\n\u001b[0m\u001b[0;32m      5\u001b[0m \u001b[1;32mdel\u001b[0m \u001b[0mtuple_variable\u001b[0m\u001b[1;33m[\u001b[0m\u001b[1;36m1\u001b[0m\u001b[1;33m]\u001b[0m  \u001b[1;31m#삭제불가능\u001b[0m\u001b[1;33m\u001b[0m\u001b[1;33m\u001b[0m\u001b[0m\n\u001b[0;32m      6\u001b[0m \u001b[1;33m\u001b[0m\u001b[0m\n",
      "\u001b[1;31mTypeError\u001b[0m: 'tuple' object does not support item assignment"
     ]
    }
   ],
   "source": [
    "# 튜플 : 불변    *튜플변수명=(항목1,항목2,항목3...)\n",
    "\n",
    "tuple_variable=(1,2,3,4,5,\"hello\")\n",
    "tuple_variable[0]=1   #인덱싱 변경불가\n",
    "del tuple_variable[1]  #삭제불가능\n",
    "\n",
    "\n",
    "t_v2=\"음\",\"아\",\"오\",\"예\" #튜플은 소괄호 생략가능 (비추)\n",
    "print(type(t_v2))\n",
    "print(t_v2)"
   ]
  },
  {
   "cell_type": "code",
   "execution_count": 187,
   "id": "025ae047-7318-49c4-b8eb-0a7340080338",
   "metadata": {},
   "outputs": [
    {
     "name": "stdout",
     "output_type": "stream",
     "text": [
      "0.22616171836853027\n"
     ]
    }
   ],
   "source": [
    "import time\n",
    "\n",
    "start_time=time.time()  #시작하는 시간\n",
    "test=[]\n",
    "for _ in range(1_000_000):  #1,000,000번을 반복해서 tuple만듦\n",
    "    tp=(_,_)  #tuple\n",
    "    test.append(tp)\n",
    "    #끝나는 시간-시작하는 시간\n",
    "print(time.time()-start_time)\n",
    "#동작한 시간"
   ]
  },
  {
   "cell_type": "code",
   "execution_count": 188,
   "id": "8631e1af-37e5-45e2-9a78-895711378d7e",
   "metadata": {},
   "outputs": [
    {
     "name": "stdout",
     "output_type": "stream",
     "text": [
      "0.6227672100067139\n"
     ]
    }
   ],
   "source": [
    "import time\n",
    "\n",
    "start_time=time.time()\n",
    "test=[]\n",
    "for _ in range(1_000_000):\n",
    "    tp=[_,_]  #list\n",
    "    test.append(tp)\n",
    "    \n",
    "print(time.time()-start_time)"
   ]
  },
  {
   "cell_type": "code",
   "execution_count": null,
   "id": "d78f90c7-87dd-4379-a63f-328242185151",
   "metadata": {},
   "outputs": [],
   "source": [
    "# 튜플 vs 리스트 (리스트로 사용해도 괜찮으나 기준을 갖고 사용하면 좋음)\n",
    "\n",
    "1.처음 20번째까지 소수: 튜플(소수는 변동성없음)\n",
    "2.프로그래밍 언어의 종류:리스트(업데이트됨)\n",
    "3.사람의 나이, 몸무게, 키: 리스트(변경가능) \n",
    "4.사람의 생일과 출생지: 튜플(고정) \n",
    "5.롤 게임의 결과: 튜플(결과값 확정) \n",
    "6.잇단 룰 게임의 결과: 리스트(게임진행되면서 결과변경)"
   ]
  },
  {
   "cell_type": "code",
   "execution_count": 189,
   "id": "7593501a-c020-489f-8848-3af0b492403d",
   "metadata": {},
   "outputs": [
    {
     "name": "stdout",
     "output_type": "stream",
     "text": [
      "text1\n",
      "text2\n"
     ]
    }
   ],
   "source": [
    "#unpacking 변수 여럿에 동시 할당하기 (튜플형)\n",
    "\n",
    "s1,s2=(\"text1\",\"text2\")\n",
    "print(s1)\n",
    "print(s2)"
   ]
  },
  {
   "cell_type": "code",
   "execution_count": 190,
   "id": "d062e03a-f002-4e49-a005-e82bf39238c4",
   "metadata": {},
   "outputs": [
    {
     "name": "stdout",
     "output_type": "stream",
     "text": [
      "문 자 열 도\n"
     ]
    }
   ],
   "source": [
    "#튜플제외 자료형에도 unpacking 가능\n",
    "\n",
    "s1,s2,s3,s4=\"문자열도\"\n",
    "print(s1,s2,s3,s4)"
   ]
  },
  {
   "cell_type": "code",
   "execution_count": 191,
   "id": "54801cba-bccc-4c85-b3ba-3eb744d9e1ee",
   "metadata": {},
   "outputs": [
    {
     "name": "stdin",
     "output_type": "stream",
     "text": [
      "message 11113\n"
     ]
    }
   ],
   "source": [
    "input_value=input(\"Message\")  \n",
    "\n",
    "#text창으로 나타남, 입력값은 포괄적인 값인 str(문자열)이 기본임\n",
    " 실수값일때는 기본값인str을 float로 바꿔주고, 다시 int로 바꿔주는 작업 필요"
   ]
  },
  {
   "cell_type": "code",
   "execution_count": 192,
   "id": "116d117f-49ac-4e35-88d1-66db7987a674",
   "metadata": {},
   "outputs": [
    {
     "name": "stdout",
     "output_type": "stream",
     "text": [
      "input_value: 11113 \n",
      "type: <class 'str'>\n"
     ]
    }
   ],
   "source": [
    "print(\"input_value:\",input_value,\"\\ntype:\",type(input_value))"
   ]
  },
  {
   "cell_type": "code",
   "execution_count": 193,
   "id": "26c7b51b-0528-44d8-9e57-ea1a45bdd984",
   "metadata": {},
   "outputs": [
    {
     "name": "stdout",
     "output_type": "stream",
     "text": [
      "input_value: 11113 \n",
      "type: <class 'int'>\n"
     ]
    }
   ],
   "source": [
    "input_value=int(input_value)\n",
    "print(\"input_value:\",input_value,\"\\ntype:\",type(input_value))"
   ]
  },
  {
   "cell_type": "code",
   "execution_count": 9,
   "id": "eb621fb8-411a-47c6-b6d8-b0514d38853e",
   "metadata": {},
   "outputs": [
    {
     "name": "stdin",
     "output_type": "stream",
     "text": [
      "이름을 입력하시오 엔코아\n"
     ]
    },
    {
     "name": "stdout",
     "output_type": "stream",
     "text": [
      "엔코아 씨, 안녕하세요? \n",
      "파이썬에 오신 것을 환영합니다.\n"
     ]
    },
    {
     "name": "stdin",
     "output_type": "stream",
     "text": [
      "첫 번째 정수를 입력하세요: 300\n",
      "두 번째 정수를 입력하세요: 400\n"
     ]
    },
    {
     "name": "stdout",
     "output_type": "stream",
     "text": [
      "300 과 400 의 합은 700 입니다.\n"
     ]
    }
   ],
   "source": [
    "input0=input(\"이름을 입력하시오\")\n",
    "print(input0,\"씨, 안녕하세요?\",\"\\n파이썬에 오신 것을 환영합니다.\")\n",
    "input1=int(input(\"첫 번째 정수를 입력하세요:\"))\n",
    "input2=int(input(\"두 번째 정수를 입력하세요:\"))\n",
    "print(input1,\"과\",input2,\"의 합은\",input1+input2,\"입니다.\")\n",
    "\n",
    "#input으로 입력받은값은 str값이 디폴트임, 받은값의 합을위해서는 int형태로 바꿔줘야 함, ()의 값을 먼저 실행함"
   ]
  },
  {
   "cell_type": "code",
   "execution_count": null,
   "id": "69f41b5e-d7d2-4b50-b6fa-ab89c8561c63",
   "metadata": {},
   "outputs": [],
   "source": []
  },
  {
   "cell_type": "code",
   "execution_count": 16,
   "id": "cd4148b1-d439-4d74-bc23-3da36aa22f5b",
   "metadata": {},
   "outputs": [
    {
     "name": "stdin",
     "output_type": "stream",
     "text": [
      "경기장이 어디입니까? 고척\n",
      "이긴 팀은 어디입니까? KT\n",
      "진팀은 어디입니까? LG\n",
      "우수 선수는 누구입니까? 강백호\n",
      "스코어는 몇대몇 입니까? 10:9\n"
     ]
    },
    {
     "name": "stdout",
     "output_type": "stream",
     "text": [
      "[속보] KT 가 10:9 로 승리...\n",
      "오늘 고척 에서 야구 경기가 있었습니다.\n",
      "KT와 LG는 치열한 공방전을 펼쳤습니다.\n",
      "이 경기에서 강백호 가 맹활약을 했습니다.\n",
      "그 끝내 KT가 LG를 10:9 로 승리했습니다. \n",
      "기사 끝.\n"
     ]
    }
   ],
   "source": [
    "location=input(\"경기장이 어디입니까?\") \n",
    "winner=input(\"이긴 팀은 어디입니까?\")\n",
    "team=input(\"진팀은 어디입니까?\")\n",
    "name=input(\"우수 선수는 누구입니까?\")\n",
    "score=input(\"스코어는 몇대몇 입니까?\")\n",
    "\n",
    "print(\"\\n[속보]\",winner,\"가\",score,\"로 승리...\")\n",
    "print('오늘',location,'에서 야구 경기가 있었습니다.')\n",
    "print('KT와 LG는 치열한 공방전을 펼쳤습니다.')\n",
    "print('이 경기에서',name,'가 맹활약을 했습니다.')\n",
    "print('그 끝내 KT가 LG를',score,'로 승리했습니다. \\n기사 끝.')\n"
   ]
  },
  {
   "cell_type": "code",
   "execution_count": null,
   "id": "1f40f91d-1c24-4485-aba8-b989de697c8b",
   "metadata": {},
   "outputs": [],
   "source": [
    "location=input(\"경기장이 어디입니까?\")\n",
    "winner=input(\"이긴 팀은 어디입니까?\")\n",
    "team=input(\"진팀은 어디입니까?\")\n",
    "name=input(\"우수 선수는 누구입니까?\")\n",
    "score=input(\"스코어는 몇대몇 입니까?\")\n",
    "\n",
    "    \n",
    "print('[속보]',winner,'가',score,'로 승리... \\n오늘',location,'에서 야구 경기가 있었습니다.\\n',winner,'와',team,'는 치열한 공방전을 펼쳤습니다.\\n이 경기에서',name,'가 맹활약을 했습니다.\\n그 끝내',winner, '가',team,'를',score,'로 승리했습니다. \\n기사 끝.')"
   ]
  },
  {
   "cell_type": "code",
   "execution_count": 17,
   "id": "331fc0b8-c7c3-4743-9f39-50ad1e3b3427",
   "metadata": {},
   "outputs": [
    {
     "name": "stdout",
     "output_type": "stream",
     "text": [
      "<class 'list'>\n",
      "['1', '2', '3']\n"
     ]
    }
   ],
   "source": [
    "#split  (문자열을 쪼개서 리스트 형태로 반환)\n",
    "\n",
    "result='1,2,3'.split(',')    # 항상 문자열이여야함 / (',')공백을 기준으로 쪼갬\n",
    "print(type(result))\n",
    "print(result)"
   ]
  },
  {
   "cell_type": "code",
   "execution_count": 25,
   "id": "2ba008a5-6b9b-4f57-a56f-25c3cb31f11a",
   "metadata": {},
   "outputs": [
    {
     "name": "stdin",
     "output_type": "stream",
     "text": [
      "hh:mm:ss의 형태로 시간을 입력해 주세요 12:33:23\n"
     ]
    },
    {
     "name": "stdout",
     "output_type": "stream",
     "text": [
      "\n",
      "시 : 12 \n",
      "분 : 33 \n",
      "초 : 23\n"
     ]
    }
   ],
   "source": [
    "time=input('hh:mm:ss의 형태로 시간을 입력해 주세요')\n",
    "result=time.split(':')\n",
    "print('\\n시 :',result[0],'\\n분 :',result[1],'\\n초 :',result[2])"
   ]
  },
  {
   "cell_type": "code",
   "execution_count": 31,
   "id": "4f7e7aec-5f90-4a32-bbc7-4f1bb49a2b11",
   "metadata": {},
   "outputs": [
    {
     "name": "stdin",
     "output_type": "stream",
     "text": [
      "hh:mm:ss의 형태로 시간을 입력해주세요 11:22:33\n"
     ]
    }
   ],
   "source": [
    "h,m,s=input(\"hh:mm:ss의 형태로 시간을 입력해주세요\").split(\":\")   "
   ]
  },
  {
   "cell_type": "code",
   "execution_count": 33,
   "id": "563c6030-0101-4ac0-89c6-b36da9aba548",
   "metadata": {},
   "outputs": [
    {
     "name": "stdout",
     "output_type": "stream",
     "text": [
      "[1, 2, 3, 4]\n"
     ]
    }
   ],
   "source": [
    "# map()내장함수 이용하기 :map(function.iterable)-> <class 'map>(iterable)\n",
    "# 입력값은 str -> 리스트 전체 int로 변경 불가 -> map함수로 처리\n",
    "\n",
    "a=[1.2,2.5,3.7,4.6]   # map은 괄호안의 결과에 다 적용시킴 -> 리스트로 변경\n",
    "a=list(map(int,a))\n",
    "print(a)"
   ]
  },
  {
   "cell_type": "code",
   "execution_count": null,
   "id": "4f9e9560-b447-4e6b-be04-b32147dedb71",
   "metadata": {},
   "outputs": [
    {
     "name": "stdin",
     "output_type": "stream",
     "text": [
      "국어, 영어, 수학, 과학 점수를입력해주세요 98,100,96,100\n"
     ]
    }
   ],
   "source": [
    "F  #값이 리스트 형태로 나옴 [98,100,96,100] / 평균점수 산출11\n"
   ]
  },
  {
   "cell_type": "code",
   "execution_count": 3,
   "id": "153a2023-9ea4-4ca7-b40d-890b4ad155e6",
   "metadata": {},
   "outputs": [
    {
     "name": "stdin",
     "output_type": "stream",
     "text": [
      "국어, 영어, 수학, 과학 점수를입력해주세요 98,100,96,100\n"
     ]
    },
    {
     "name": "stdout",
     "output_type": "stream",
     "text": [
      "평균 점수는 98.5 점 입니다.\n"
     ]
    }
   ],
   "source": [
    "kor,eng,mth,sci=map(int,input('국어, 영어, 수학, 과학 점수를입력해주세요').split(\",\"))\n",
    "print('평균 점수는',(kor+eng+mth+sci)/4,'점 입니다.')\n"
   ]
  },
  {
   "cell_type": "code",
   "execution_count": 8,
   "id": "ce9d1f25-04cd-4846-a00c-4c1022cab36c",
   "metadata": {},
   "outputs": [
    {
     "name": "stdin",
     "output_type": "stream",
     "text": [
      "국어, 영어, 수학, 과학 점수를입력해주세요 98,100,96,100\n"
     ]
    }
   ],
   "source": [
    "kor,eng,mth,sci=map(float,input('국어, 영어, 수학, 과학 점수를입력해주세요').split(\",\"))"
   ]
  },
  {
   "cell_type": "code",
   "execution_count": null,
   "id": "63a7cae7-c458-4430-accd-ff214b422a4b",
   "metadata": {},
   "outputs": [
    {
     "name": "stdin",
     "output_type": "stream",
     "text": [
      "국어, 영어, 수학, 과학 점수를입력해주세요 1,2,3,4\n"
     ]
    }
   ],
   "source": [
    "kor,eng,mth,sci=input('국어, 영어, 수학, 과학 점수를입력해주세요')"
   ]
  },
  {
   "cell_type": "code",
   "execution_count": 3,
   "id": "d67d8fb0-fabb-4a95-afc6-05c0be70b16d",
   "metadata": {},
   "outputs": [
    {
     "name": "stdin",
     "output_type": "stream",
     "text": [
      "input scores 2,2,2,2\n"
     ]
    }
   ],
   "source": [
    "score=input('input scores')\n",
    "        "
   ]
  },
  {
   "cell_type": "code",
   "execution_count": 5,
   "id": "52bcf3b2-c393-4110-9ca2-a0fafad96266",
   "metadata": {},
   "outputs": [
    {
     "data": {
      "text/plain": [
       "'2,2,2,2'"
      ]
     },
     "execution_count": 5,
     "metadata": {},
     "output_type": "execute_result"
    }
   ],
   "source": [
    "score  #입력값확인"
   ]
  },
  {
   "cell_type": "code",
   "execution_count": 8,
   "id": "3604a5dc-edbe-497a-8a6b-940d7e4f20c2",
   "metadata": {},
   "outputs": [
    {
     "data": {
      "text/plain": [
       "str"
      ]
     },
     "execution_count": 8,
     "metadata": {},
     "output_type": "execute_result"
    }
   ],
   "source": [
    "type(score)"
   ]
  },
  {
   "cell_type": "code",
   "execution_count": 20,
   "id": "d9a8237c-bdc2-4bfc-accf-7833c56a7ad0",
   "metadata": {},
   "outputs": [
    {
     "ename": "AttributeError",
     "evalue": "'list' object has no attribute 'split'",
     "output_type": "error",
     "traceback": [
      "\u001b[1;31m---------------------------------------------------------------------------\u001b[0m",
      "\u001b[1;31mAttributeError\u001b[0m                            Traceback (most recent call last)",
      "\u001b[1;32m~\\AppData\\Local\\Temp\\ipykernel_11048\\576226380.py\u001b[0m in \u001b[0;36m<module>\u001b[1;34m\u001b[0m\n\u001b[1;32m----> 1\u001b[1;33m \u001b[0mlist\u001b[0m\u001b[1;33m=\u001b[0m\u001b[0mscore\u001b[0m\u001b[1;33m.\u001b[0m\u001b[0msplit\u001b[0m\u001b[1;33m(\u001b[0m\u001b[1;34m','\u001b[0m\u001b[1;33m)\u001b[0m\u001b[1;33m\u001b[0m\u001b[1;33m\u001b[0m\u001b[0m\n\u001b[0m",
      "\u001b[1;31mAttributeError\u001b[0m: 'list' object has no attribute 'split'"
     ]
    }
   ],
   "source": [
    "list=score.split(',')"
   ]
  },
  {
   "cell_type": "code",
   "execution_count": 23,
   "id": "18e00e48-e988-4552-b230-c1360a36e478",
   "metadata": {},
   "outputs": [
    {
     "data": {
      "text/plain": [
       "type"
      ]
     },
     "execution_count": 23,
     "metadata": {},
     "output_type": "execute_result"
    }
   ],
   "source": [
    "type(list)"
   ]
  },
  {
   "cell_type": "code",
   "execution_count": 24,
   "id": "2cf616b5-a2ee-406b-b1df-1c9402290673",
   "metadata": {},
   "outputs": [
    {
     "data": {
      "text/plain": [
       "list"
      ]
     },
     "execution_count": 24,
     "metadata": {},
     "output_type": "execute_result"
    }
   ],
   "source": [
    "list"
   ]
  },
  {
   "cell_type": "code",
   "execution_count": null,
   "id": "94499628-57ea-48bf-8c47-20962cb9b1fa",
   "metadata": {},
   "outputs": [],
   "source": []
  }
 ],
 "metadata": {
  "kernelspec": {
   "display_name": "Python 3 (ipykernel)",
   "language": "python",
   "name": "python3"
  },
  "language_info": {
   "codemirror_mode": {
    "name": "ipython",
    "version": 3
   },
   "file_extension": ".py",
   "mimetype": "text/x-python",
   "name": "python",
   "nbconvert_exporter": "python",
   "pygments_lexer": "ipython3",
   "version": "3.9.13"
  }
 },
 "nbformat": 4,
 "nbformat_minor": 5
}
