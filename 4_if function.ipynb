{
 "cells": [
  {
   "cell_type": "code",
   "execution_count": null,
   "id": "a9fac2b9-b892-4042-9820-a3fe969331ed",
   "metadata": {},
   "outputs": [],
   "source": [
    "f# print 함수 : callable(변환)\n",
    "\n",
    "# Print 값 출력시 값과 값사이는 공백으로 나타남. 이때 함수 값과 값사이의 값을 변경 \n",
    "# 맨마지막에 sep(\",\")를 넣어 ,로 구분.   *sep등 키워드와 값은 맨 뒤에 써야함\n",
    "# print 함수마다 줄바꿈이 됨 -> 맨뒤에 end=\"\" 넣으면 줄바꿈 없어짐"
   ]
  },
  {
   "cell_type": "code",
   "execution_count": 6,
   "id": "bbe9e442-bf3d-4c4d-b64a-c17d0175f1fb",
   "metadata": {},
   "outputs": [
    {
     "name": "stdout",
     "output_type": "stream",
     "text": [
      "줄이 바뀌지 않습니다.\n",
      "그 이유는 end=\"\\n\"과 같이 기본 설정된 값을 빈 스트링으로 변경했기 때문이다.\n",
      "'sep' 'end'는 맨 뒤에 써야하며 둘 간 순서는 상관없다."
     ]
    }
   ],
   "source": [
    "print(\"줄이 바뀌지 않습니다.\",end=\"\")\n",
    "print(\"\\n그 이유는 end=\\\"\\\\n\\\"과 같이 기본 설정된 값을 빈 스트링으로 변경했기 때문이다.\")\n",
    "print(\"\\'sep\\' \\'end\\'는 맨 뒤에 써야하며 둘 간 순서는 상관없다.\",sep=\",\",end=\"\")"
   ]
  },
  {
   "cell_type": "code",
   "execution_count": 49,
   "id": "cc4dfed1-1c9a-403f-b701-b5eafdd672d6",
   "metadata": {},
   "outputs": [
    {
     "name": "stdout",
     "output_type": "stream",
     "text": [
      "2021/02/03 18:33:23\n"
     ]
    }
   ],
   "source": [
    "year='2021'\n",
    "month='02'\n",
    "day='03'\n",
    "hour='18'\n",
    "minute='33'\n",
    "second='23'\n",
    "\n",
    "print(year,month,day,end=\" \",sep=\"/\")  \n",
    "print(hour,minute,second,sep=\":\")"
   ]
  },
  {
   "cell_type": "code",
   "execution_count": 26,
   "id": "43a3de6e-d20c-4df3-88e4-e17af6bb983c",
   "metadata": {},
   "outputs": [
    {
     "name": "stdin",
     "output_type": "stream",
     "text": [
      "사과와 귤은 몇개 드릴까요? 10,20\n"
     ]
    }
   ],
   "source": [
    "apple,orange=list(map(int,input('사과와 귤은 몇개 드릴까요?').split(\",\")))"
   ]
  },
  {
   "cell_type": "code",
   "execution_count": 34,
   "id": "a74ecad3-cc94-40ed-84a1-9d7c2f425727",
   "metadata": {},
   "outputs": [
    {
     "name": "stdout",
     "output_type": "stream",
     "text": [
      "총 가격은14000원 입니다.\n"
     ]
    }
   ],
   "source": [
    "apple_price=apple*1000\n",
    "orange_price=orange*200\n",
    "print('총 가격은',apple_price+orange_price,'원 입니다.',sep=\"\")   #sep :출력값과 문장 공백없앰"
   ]
  },
  {
   "cell_type": "code",
   "execution_count": 28,
   "id": "ca1d5a1f-c590-4a8c-aed4-5e5d4079f464",
   "metadata": {},
   "outputs": [
    {
     "name": "stdin",
     "output_type": "stream",
     "text": [
      "price 10,20\n"
     ]
    }
   ],
   "source": [
    "apple,orange=map(int,input('price').split(\",\"))"
   ]
  },
  {
   "cell_type": "code",
   "execution_count": 36,
   "id": "d1acbb04-700d-4416-b9bd-758683e833d7",
   "metadata": {},
   "outputs": [
    {
     "name": "stdout",
     "output_type": "stream",
     "text": [
      "10\n",
      "10  20  30\n"
     ]
    }
   ],
   "source": [
    "# format() 메서드 : 문자열 \n",
    "\n",
    "print(\"{}\".format(10))\n",
    "print(\"{}  {}  {}\".format(10,20,30))  #{}사이 공백 살아있음"
   ]
  },
  {
   "cell_type": "code",
   "execution_count": 62,
   "id": "fb282ad4-c414-41e4-9de6-702568993e74",
   "metadata": {},
   "outputs": [
    {
     "name": "stdout",
     "output_type": "stream",
     "text": [
      "오늘의 날짜를 알려드립니다.\n",
      "2023년 2월 15입니다.\n",
      "오늘의 날짜를 알려드립니다.\n",
      "2023년 2월 15입니다.\n",
      "\n"
     ]
    }
   ],
   "source": [
    "# \"\"\" 활용한 문자열 적용 가능\n",
    "\n",
    "import time  #이미 찌여진 코드를 가지고옴    #time. tab누르면 관련 펑션나옴\n",
    "\n",
    "today=\"\"\"오늘의 날짜를 알려드립니다.\n",
    "{}년 {}월 {}입니다.\\\n",
    "\"\"\".format(time.localtime().tm_year,\n",
    "           time.localtime().tm_mon,\n",
    "           time.localtime().tm_mday)\n",
    "\n",
    "print(today)\n",
    "\n",
    "\n",
    "import time  #이미 찌여진 코드를 가지고옴    #time. 누르면 관련 펑션나옴\n",
    "\n",
    "today=f\"\"\"오늘의 날짜를 알려드립니다.\n",
    "{time.localtime().tm_year}년 {time.localtime().tm_mon}월 {time.localtime().tm_mday}입니다.\n",
    "\"\"\" \n",
    "\n",
    "print(today)\n"
   ]
  },
  {
   "cell_type": "code",
   "execution_count": 51,
   "id": "751d8722-1123-49ee-b943-0727897ce7ec",
   "metadata": {},
   "outputs": [
    {
     "name": "stdout",
     "output_type": "stream",
     "text": [
      "중괄호는 2개이고, 여기 인수는\n"
     ]
    }
   ],
   "source": [
    "#초과되는 인수는 버려진다.\n",
    "some_str=\"중괄호는 2개이고, {} {}\".format(\"여기\",\"인수는\",\"3개입니다.\")\n",
    "print(some_str)"
   ]
  },
  {
   "cell_type": "code",
   "execution_count": 45,
   "id": "4a7de098-32b6-4ff6-bbc8-0861bf2f4fd7",
   "metadata": {},
   "outputs": [
    {
     "ename": "IndexError",
     "evalue": "Replacement index 3 out of range for positional args tuple",
     "output_type": "error",
     "traceback": [
      "\u001b[1;31m---------------------------------------------------------------------------\u001b[0m",
      "\u001b[1;31mIndexError\u001b[0m                                Traceback (most recent call last)",
      "\u001b[1;32m~\\AppData\\Local\\Temp\\ipykernel_7808\\2652828349.py\u001b[0m in \u001b[0;36m<module>\u001b[1;34m\u001b[0m\n\u001b[1;32m----> 1\u001b[1;33m \u001b[0msome_str\u001b[0m\u001b[1;33m=\u001b[0m\u001b[1;34m\"중과호는 4개이고, {}  {} {} {}\"\u001b[0m\u001b[1;33m.\u001b[0m\u001b[0mformat\u001b[0m\u001b[1;33m(\u001b[0m\u001b[1;34m\"여기\"\u001b[0m\u001b[1;33m,\u001b[0m\u001b[1;34m\"인수는\"\u001b[0m\u001b[1;33m,\u001b[0m\u001b[1;34m\"3개입니다.\"\u001b[0m\u001b[1;33m)\u001b[0m\u001b[1;33m\u001b[0m\u001b[1;33m\u001b[0m\u001b[0m\n\u001b[0m\u001b[0;32m      2\u001b[0m \u001b[0mprint\u001b[0m\u001b[1;33m(\u001b[0m\u001b[0msome_str\u001b[0m\u001b[1;33m)\u001b[0m\u001b[1;33m\u001b[0m\u001b[1;33m\u001b[0m\u001b[0m\n",
      "\u001b[1;31mIndexError\u001b[0m: Replacement index 3 out of range for positional args tuple"
     ]
    }
   ],
   "source": [
    "some_str=\"중과호는 4개이고, {}  {} {} {}\".format(\"여기\",\"인수는\",\"3개입니다.\")\n",
    "print(some_str)    #중괄호가 더 많으면 에러 발생"
   ]
  },
  {
   "cell_type": "code",
   "execution_count": 61,
   "id": "ac5a8905-7969-4723-9d5a-7808a83cc45c",
   "metadata": {},
   "outputs": [
    {
     "name": "stdout",
     "output_type": "stream",
     "text": [
      "10\n",
      "10 20 30\n",
      "10 20 30 40 50\n"
     ]
    }
   ],
   "source": [
    "# f-string\n",
    "\n",
    "print(f\"{10}\")           #변수도 가능\n",
    "print(f\"{10} {20} {30}\")\n",
    "print(f\"{10} {20} {30} {40} {50}\")"
   ]
  },
  {
   "cell_type": "code",
   "execution_count": 63,
   "id": "48609083-7aea-4e76-989a-bc560a4e7a22",
   "metadata": {},
   "outputs": [
    {
     "name": "stdout",
     "output_type": "stream",
     "text": [
      "hi\n"
     ]
    }
   ],
   "source": [
    "# if 문\n",
    "\n",
    "\n",
    "is_greet=True   \n",
    "if is_greet:    #조건이 true이면 : 뒤에 오는것을 실행해라\n",
    "    print(\"hi\")"
   ]
  },
  {
   "cell_type": "code",
   "execution_count": 72,
   "id": "bc684841-c038-4c5c-a5fd-fc18fa3aba25",
   "metadata": {},
   "outputs": [
    {
     "name": "stdout",
     "output_type": "stream",
     "text": [
      "correct\n"
     ]
    }
   ],
   "source": [
    "# type() 내장함수는 객체(메모리상에 존재, 같은값을 가진 중복이 있을수있음)의 타입을 반환한다. \n",
    "\n",
    "# 객체타입 확인 = is문\n",
    "\n",
    "\n",
    "a=100   #a라는 변수의 타입이 int라면 true, int가 아니라면 False\n",
    "if type(a) is int:\n",
    "    print('correct')\n",
    "    \n",
    "a=\"100\"  \n",
    "if type(a) is int:\n",
    "    print('correct')\n",
    "    "
   ]
  },
  {
   "cell_type": "code",
   "execution_count": 77,
   "id": "555b1bf4-ddd1-4e43-997a-a1886099b200",
   "metadata": {},
   "outputs": [
    {
     "name": "stdout",
     "output_type": "stream",
     "text": [
      "<class 'str'>\n",
      "other than int\n"
     ]
    }
   ],
   "source": [
    "b=\"10.5\"\n",
    "print(type(b))\n",
    "if type(b) is int:\n",
    "    print('int')\n",
    "#앞의 조건이 전부 false일때만 실행되는 부분\n",
    "elif type(b) is not int:\n",
    "    print(\"other than int\")\n",
    "    "
   ]
  },
  {
   "cell_type": "code",
   "execution_count": null,
   "id": "c885f06a-050d-4530-af92-f07d7e7809ec",
   "metadata": {},
   "outputs": [
    {
     "name": "stdout",
     "output_type": "stream",
     "text": [
      "<class 'int'>\n",
      "int\n"
     ]
    }
   ],
   "source": [
    "b=10\n",
    "print(type(b))\n",
    "if type(b) is int:\n",
    "    print('int')\n",
    "    \n",
    "#앞의 조건이 전부 false일때만 실행되는 부분\n",
    "\n",
    "elif type(b) is not int:\n",
    "    print(\"other than int\")\n",
    "    "
   ]
  },
  {
   "cell_type": "code",
   "execution_count": null,
   "id": "fc89fb8b-58e5-44c8-bd4a-56169a611813",
   "metadata": {},
   "outputs": [],
   "source": [
    "b=10\n",
    "print(type(b))   #if문이 틀려야 elif가 출력이 되는데, 모든값이 true이면 if문의 값만 출력\n",
    "if type(b) is int:\n",
    "    print('int')\n",
    "    \n",
    "#앞의 조건이 전부 false일때만 실행되는 부분\n",
    "elif True:\n",
    "    print(\"other than int\")"
   ]
  },
  {
   "cell_type": "code",
   "execution_count": 83,
   "id": "01864603-d6f1-4bc2-86ca-f04fa9766626",
   "metadata": {},
   "outputs": [
    {
     "name": "stdout",
     "output_type": "stream",
     "text": [
      "10보다 작고, 5보다도 작습니다.\n",
      "끝.\n"
     ]
    }
   ],
   "source": [
    "\n",
    "c=4\n",
    "\n",
    "if c>10:\n",
    "    print(\"10보다 큽니다.\")                #false\n",
    "elif c<5:\n",
    "    print(\"10보다 작고, 5보다도 작습니다.\")  #false  \n",
    "    \n",
    "print('끝.')  #true, false 여부와 상관없이 작성되는 문구"
   ]
  },
  {
   "cell_type": "code",
   "execution_count": 92,
   "id": "5561607f-e9d0-442a-8366-15d4055e4fc8",
   "metadata": {},
   "outputs": [
    {
     "name": "stdout",
     "output_type": "stream",
     "text": [
      "start\n",
      "미\n",
      "끝.\n"
     ]
    }
   ],
   "source": [
    "c=75\n",
    "\n",
    "print(\"start\")\n",
    "if c>90:\n",
    "    print(\"수\")  #false\n",
    "elif 90>c and c>80:\n",
    "    print(\"우\")  #false  \n",
    "elif 80>c and c>70:\n",
    "    print(\"미\")\n",
    "    \n",
    "print('끝.')  #true, false건 작성되는 문구"
   ]
  },
  {
   "cell_type": "code",
   "execution_count": 93,
   "id": "3fd48366-3375-4ce5-93e6-e26fdabf19ee",
   "metadata": {},
   "outputs": [
    {
     "name": "stdout",
     "output_type": "stream",
     "text": [
      "start\n",
      "미\n",
      "끝.\n"
     ]
    }
   ],
   "source": [
    "c=75\n",
    "\n",
    "print(\"start\")   #순차적으로 위의 조건이 틀리면 그 다음으로 내려감\n",
    "if c>90:\n",
    "    print(\"수\")  \n",
    "elif c>=80:\n",
    "    print(\"우\") \n",
    "elif c>=70:\n",
    "    print(\"미\")\n",
    "    \n",
    "print('끝.')  #true, false건 작성되는 문구"
   ]
  },
  {
   "cell_type": "code",
   "execution_count": 120,
   "id": "1f0f1ab7-dbe8-43cb-813a-b61ed6148572",
   "metadata": {},
   "outputs": [
    {
     "name": "stdin",
     "output_type": "stream",
     "text": [
      "아이디를 입력하세요: dd\n",
      "회원 등급을 입력해주세요: \n"
     ]
    }
   ],
   "source": [
    "# 내 풀이\n",
    "value=input(\"아이디를 입력하세요:\")\n",
    "if value=='admin':\n",
    "    print(\"모든 권한을 갖습니다.\")\n",
    "    \n",
    "value2=input(\"회원 등급을 입력해주세요:\")"
   ]
  },
  {
   "cell_type": "code",
   "execution_count": 7,
   "id": "44c97871-f373-4fc9-a87f-8ceeaf65921c",
   "metadata": {},
   "outputs": [
    {
     "name": "stdin",
     "output_type": "stream",
     "text": [
      "아이디를 입력하세요: ㅇ\n",
      "회원 등급을 입력해주세요: 2\n"
     ]
    },
    {
     "name": "stdout",
     "output_type": "stream",
     "text": [
      "제한적인 권한을 갖습니다.\n"
     ]
    }
   ],
   "source": [
    "# 풀이\n",
    "\n",
    "value=input(\"아이디를 입력하세요:\") \n",
    "\n",
    "if value=='admin':                             # == : 같다   / != 다르다\n",
    "    print(\"모든 권한을 갖습니다.\")\n",
    "elif value!='admin':\n",
    "    if 1<=int(input(\"회원 등급을 입력해주세요:\"))<=3:\n",
    "        print(\"제한적인 권한을 갖습니다.\")\n",
    "    else :\n",
    "        print(\"권한이 없습니다.\")\n",
    "        \n"
   ]
  },
  {
   "cell_type": "code",
   "execution_count": 144,
   "id": "acf7b778-7f12-4a8d-a803-83f7e35fbd86",
   "metadata": {},
   "outputs": [
    {
     "name": "stdin",
     "output_type": "stream",
     "text": [
      "자연수를 입력해주세요. 21\n"
     ]
    },
    {
     "name": "stdout",
     "output_type": "stream",
     "text": [
      "0\n"
     ]
    }
   ],
   "source": [
    "# 풀이\n",
    "\n",
    "memo=int(input(\"자연수를 입력해주세요.\"))\n",
    "\n",
    "if (memo-50)>=0 :\n",
    "    print(memo-50)\n",
    "    \n",
    "else :\n",
    "    print(0)"
   ]
  },
  {
   "cell_type": "code",
   "execution_count": 163,
   "id": "fc159a6d-ef7a-4c47-8f51-474f0012169c",
   "metadata": {},
   "outputs": [
    {
     "name": "stdin",
     "output_type": "stream",
     "text": [
      "자연수 하나를 입력해 주세요 5\n"
     ]
    },
    {
     "name": "stdout",
     "output_type": "stream",
     "text": [
      "홀수입니다\n"
     ]
    }
   ],
   "source": [
    "value=int(input(\"자연수 하나를 입력해 주세요\"))\n",
    "value2=value%2\n",
    "\n",
    "if value!=0:\n",
    "    print(\"홀수입니다\")\n",
    "\n",
    "else:\n",
    "    print(\"짝수입니다.\")"
   ]
  },
  {
   "cell_type": "code",
   "execution_count": 173,
   "id": "30d148a2-4075-437b-b810-31747f39fd96",
   "metadata": {},
   "outputs": [
    {
     "name": "stdin",
     "output_type": "stream",
     "text": [
      "소프트웨어 설계 점수를 입력하세요 -20\n",
      "소프트웨어 개발 점수를 입력하세요 -50\n",
      "데이터베이스 구축 점수를 입력하세요 -50\n",
      "프로그래밍 언어 활용 점수를 입력하세요 -50\n",
      "정보시스템 구축관리 점수를 입력하세요. -50\n"
     ]
    },
    {
     "name": "stdout",
     "output_type": "stream",
     "text": [
      "잘못된 점수입니다.\n"
     ]
    }
   ],
   "source": [
    "# 내 풀이 : 각각 입력된 값이 0-100사이인지에 대한 내용이 없음\n",
    "\n",
    "a=int(input(\"소프트웨어 설계 점수를 입력하세요\"))\n",
    "b=int(input(\"소프트웨어 개발 점수를 입력하세요\"))\n",
    "c=int(input(\"데이터베이스 구축 점수를 입력하세요\"))\n",
    "d=int(input(\"프로그래밍 언어 활용 점수를 입력하세요\"))\n",
    "e=int(input(\"정보시스템 구축관리 점수를 입력하세요.\"))\n",
    "      \n",
    "score=(a+b+c+d+e)/5\n",
    "      \n",
    "if 100>=score>=60:\n",
    "    print(\"합격\")\n",
    "    \n",
    "elif 60>score>=0:\n",
    "    print(\"불합격\")\n",
    "    \n",
    "else:\n",
    "    print(\"잘못된 점수입니다.\")\n",
    "      "
   ]
  },
  {
   "cell_type": "code",
   "execution_count": 186,
   "id": "58a3b4c5-790f-418a-a1b6-103f0b44aa33",
   "metadata": {},
   "outputs": [
    {
     "name": "stdin",
     "output_type": "stream",
     "text": [
      "소프트웨어 설계 점수를 입력하세요 -7\n",
      "소프트웨어 개발 점수를 입력하세요 5\n",
      "데이터베이스 구축 점수를 입력하세요 20\n",
      "프로그래밍 언어 활용 점수를 입력하세요 1\n",
      "정보시스템 구축관리 점수를 입력하세요. 1\n"
     ]
    },
    {
     "name": "stdout",
     "output_type": "stream",
     "text": [
      "잘못된 점수입니다.\n"
     ]
    }
   ],
   "source": [
    "# 풀이\n",
    "\n",
    "a=int(input(\"소프트웨어 설계 점수를 입력하세요\"))\n",
    "b=int(input(\"소프트웨어 개발 점수를 입력하세요\"))\n",
    "c=int(input(\"데이터베이스 구축 점수를 입력하세요\"))\n",
    "d=int(input(\"프로그래밍 언어 활용 점수를 입력하세요\"))\n",
    "e=int(input(\"정보시스템 구축관리 점수를 입력하세요.\"))\n",
    "      \n",
    "if 0<=a<=100 and 0<=b<=100 and 0<=c<=100 and 0<=d<=100 and 0<=e<=100:\n",
    "    \n",
    "    if 100>=((a+b+c+d+e)/5)>=60:\n",
    "         print(\"합격\")\n",
    "    elif 60>((a+b+c+d+e)/5)>=0:\n",
    "        print(\"불합격\")\n",
    "\n",
    "else:\n",
    "    print(\"잘못된 점수입니다.\")"
   ]
  },
  {
   "cell_type": "code",
   "execution_count": 184,
   "id": "69f30f08-3bac-4a6e-ab5e-82a30592ae9b",
   "metadata": {},
   "outputs": [
    {
     "name": "stdin",
     "output_type": "stream",
     "text": [
      "현재 물의 온도를 입력해주세요 -0.12\n"
     ]
    },
    {
     "name": "stdout",
     "output_type": "stream",
     "text": [
      "고체로 예상됩니다.\n"
     ]
    }
   ],
   "source": [
    "tem=float(input(\"현재 물의 온도를 입력해주세요\"))   # float \n",
    "\n",
    "if tem>=100:\n",
    "    print(\"기체로 예상됩니다.\")\n",
    "        \n",
    "elif 100>=tem>=0:                 # 위에서 tem>=100를 걸렀기때문에 생략가능\n",
    "    print(\"액체로 예상됩니다.\")\n",
    "\n",
    "elif tem<=0:                                # else도 가능 (elif는 더 명확함)\n",
    "    print(\"고체로 예상됩니다.\")\n",
    "    \n",
    "        "
   ]
  },
  {
   "cell_type": "code",
   "execution_count": 193,
   "id": "e2f2431c-c689-4224-8865-11605f6f2593",
   "metadata": {},
   "outputs": [
    {
     "name": "stdin",
     "output_type": "stream",
     "text": [
      "자신의 나이를 입력하세요: 5\n"
     ]
    },
    {
     "name": "stdout",
     "output_type": "stream",
     "text": [
      "무료입니다.\n"
     ]
    }
   ],
   "source": [
    "age=int(input(\"자신의 나이를 입력하세요:\"))\n",
    "\n",
    "if age>=19:\n",
    "    print(\"1500원\")\n",
    "elif 18>=age>=12:     # 18>= 생략가능\n",
    "    print(\"1100원\")\n",
    "elif 11>=age>=6:\n",
    "    print(\"800원\")\n",
    "else:\n",
    "    print(\"무료입니다.\")\n",
    "          "
   ]
  },
  {
   "cell_type": "code",
   "execution_count": null,
   "id": "3ce68840-df9e-4544-8e5b-1e98a7fde269",
   "metadata": {},
   "outputs": [],
   "source": [
    "# 상위조건이 맡으면 그 아래는 무시됨 (하나의 조건만 맞으면 빠져나가게됨)\n",
    "if\n",
    "elif\n",
    "elif\n",
    "elif\n",
    "\n",
    "# 모든 조건을 다 확인하고 값냄\n",
    "if\n",
    "if\n",
    "if\n",
    "if"
   ]
  },
  {
   "cell_type": "code",
   "execution_count": 233,
   "id": "b535860c-bb7b-4518-8a27-3b97f5ad6263",
   "metadata": {},
   "outputs": [
    {
     "ename": "SyntaxError",
     "evalue": "invalid syntax (4162521138.py, line 6)",
     "output_type": "error",
     "traceback": [
      "\u001b[1;36m  File \u001b[1;32m\"C:\\Users\\user\\AppData\\Local\\Temp\\ipykernel_7808\\4162521138.py\"\u001b[1;36m, line \u001b[1;32m6\u001b[0m\n\u001b[1;33m    elif order>1500:\u001b[0m\n\u001b[1;37m    ^\u001b[0m\n\u001b[1;31mSyntaxError\u001b[0m\u001b[1;31m:\u001b[0m invalid syntax\n"
     ]
    }
   ],
   "source": [
    "order=int(input(\"발주 수량을 입력하세요:\"))\n",
    "\n",
    "if order>2000:\n",
    "    print(order,'개를 주문하셨습니다. \\n적용 할인율은 20%입니다. \\n총 발주금액은',int(order*10*(1+(20/100)),'입니다.')\n",
    "\n",
    "elif order>1500:\n",
    "    print(order,'개를 주문하셨습니다. \\n적용 할인율은 10%입니다. \\n총 발주금액은',int(order*10*(1+(10/100)),'입니다.')\n",
    "          \n",
    "elif order>1000:\n",
    "    print(order,'개를 주문하셨습니다. \\n적용 할인율은 5%입니다. \\n총 발주금액은',int(order*10*(1+(5/100)),'입니다.')\n",
    "    \n",
    "else:\n",
    "    print(order,'개를 주문하셨습니다. \\n할인율이 적용되지 않습니다. \\n총 발주금액은',int(order*10),'입니다.')\n",
    "    \n"
   ]
  },
  {
   "cell_type": "code",
   "execution_count": 232,
   "id": "9b32b740-9083-44f8-ab8d-be2bc5d69fe8",
   "metadata": {},
   "outputs": [
    {
     "ename": "SyntaxError",
     "evalue": "unexpected EOF while parsing (3556424882.py, line 3)",
     "output_type": "error",
     "traceback": [
      "\u001b[1;36m  File \u001b[1;32m\"C:\\Users\\user\\AppData\\Local\\Temp\\ipykernel_7808\\3556424882.py\"\u001b[1;36m, line \u001b[1;32m3\u001b[0m\n\u001b[1;33m    print(order,'개를 주문하셨습니다. \\n적용 할인율은 20%입니다. \\n총 발주금액은',order*10*(1+(20/100),'입니다.')\u001b[0m\n\u001b[1;37m                                                                                      ^\u001b[0m\n\u001b[1;31mSyntaxError\u001b[0m\u001b[1;31m:\u001b[0m unexpected EOF while parsing\n"
     ]
    }
   ],
   "source": [
    "order=int(input(\"발주 수량을 입력하세요:\"))\n",
    "if order>2000:\n",
    "    print(order,'개를 주문하셨습니다. \\n적용 할인율은 20%입니다. \\n총 발주금액은',order*10*(1+(20/100),'입니다.')\n"
   ]
  },
  {
   "cell_type": "code",
   "execution_count": 12,
   "id": "bf994330-ad69-49f8-9ce6-927583ebe103",
   "metadata": {},
   "outputs": [
    {
     "name": "stdin",
     "output_type": "stream",
     "text": [
      "발주 수량을 입력하세요: 2000\n"
     ]
    },
    {
     "name": "stdout",
     "output_type": "stream",
     "text": [
      "2000개를 주문하셨습니다.\n",
      "적용 할인율은 10 %입니다\n",
      "총 발주 금액은 $ 18000 입니다\n"
     ]
    }
   ],
   "source": [
    "#풀이\n",
    "\n",
    "\n",
    "order=int(input(\"발주 수량을 입력하세요:\"))\n",
    "print(order,\"개를 주문하셨습니다.\",sep=\"\")\n",
    "\n",
    "price=10\n",
    "rate=0\n",
    "orderamt=0\n",
    "\n",
    "if order>3000:\n",
    "    rate=20\n",
    "elif 2000>=order>1500:\n",
    "    rate=10\n",
    "elif 1500>=order>=1000:\n",
    "    rate=5\n",
    "\n",
    "orderamt=int(price*order*((100-rate)/100))\n",
    "print(\"적용 할인율은\",rate,\"%입니다\",sep=\" \")\n",
    "print(\"총 발주 금액은 $\", orderamt,\"입니다\")\n"
   ]
  },
  {
   "cell_type": "code",
   "execution_count": 19,
   "id": "2f86f0df-131b-4bb2-9f67-313fc4b04b45",
   "metadata": {},
   "outputs": [
    {
     "name": "stdin",
     "output_type": "stream",
     "text": [
      "주민번호 뒷자리를 입력하세요: 12\n"
     ]
    },
    {
     "name": "stdout",
     "output_type": "stream",
     "text": [
      "자리수를 잘못 입력했습니다.\n"
     ]
    }
   ],
   "source": [
    "id=input(\"주민번호 뒷자리를 입력하세요:\")\n",
    "       \n",
    "if len(id)!=7: \n",
    "    print(\"자리수를 잘못 입력했습니다.\")\n",
    "    \n",
    "else:\n",
    "    first=int(id)\n",
    "    if first[0]==1 or first[0]==3:   \n",
    "        print(\"남자\")\n",
    "    elif first[0]==2 or first[0]==4:\n",
    "        print(\"여자\")\n",
    "    else:\n",
    "        print(\"잘못된 입력입니다.\")\n",
    "       "
   ]
  },
  {
   "cell_type": "code",
   "execution_count": 13,
   "id": "bf9acf90-5b32-4f42-9e46-cbef70e03d9c",
   "metadata": {},
   "outputs": [
    {
     "name": "stdin",
     "output_type": "stream",
     "text": [
      "주민번호 뒷자리를 입력하세요: 1234567\n"
     ]
    },
    {
     "name": "stdout",
     "output_type": "stream",
     "text": [
      "남자\n"
     ]
    }
   ],
   "source": [
    "# 풀이\n",
    "\n",
    "id=input(\"주민번호 뒷자리를 입력하세요:\") \n",
    "       \n",
    "if len(id)!=7:                                   # len()함수는 srt만 인식\n",
    "    print(\"자리수를 잘못 입력했습니다.\")\n",
    "    \n",
    "else:\n",
    "    first=int(id[0])\n",
    "    if first in [1,3]:\n",
    "        print(\"남자\")\n",
    "    if first in [2,4]:\n",
    "        print(\"여자\")        "
   ]
  },
  {
   "cell_type": "code",
   "execution_count": 260,
   "id": "6e76f6ef-7901-448a-a6fa-a0ef78e66bb9",
   "metadata": {},
   "outputs": [
    {
     "name": "stdin",
     "output_type": "stream",
     "text": [
      "주민번호 뒷자리를 입력하세요: 123456\n"
     ]
    }
   ],
   "source": [
    "id=input(\"주민번호 뒷자리를 입력하세요:\")\n",
    "if len(id)==7:\n",
    "    if id[0]==1 or id[0]==3:\n",
    "        print(\"남자\")"
   ]
  },
  {
   "cell_type": "code",
   "execution_count": 258,
   "id": "c6467e30-451f-4919-8ea2-513b1ec5be54",
   "metadata": {},
   "outputs": [],
   "source": [
    "if len(id)==7:\n",
    "    if id[0]==1 or id[0]==3:\n",
    "        print(\"남자\")"
   ]
  },
  {
   "cell_type": "code",
   "execution_count": null,
   "id": "9f9d48b8-52fa-4f47-abc1-db540962aab2",
   "metadata": {},
   "outputs": [],
   "source": []
  },
  {
   "cell_type": "code",
   "execution_count": 10,
   "id": "4754d8a2-bec3-4ad0-bd3d-01875e6bd633",
   "metadata": {},
   "outputs": [
    {
     "name": "stdin",
     "output_type": "stream",
     "text": [
      "확인할 연도를 입력하세요: 2023\n"
     ]
    },
    {
     "name": "stdout",
     "output_type": "stream",
     "text": [
      "평년입니다.\n"
     ]
    }
   ],
   "source": [
    "year=int(input(\"확인할 연도를 입력하세요:\"))\n",
    "\n",
    "if year%4!=0 or (year%100==0 and year%400!=0):    #예외사항 먼저 제시\n",
    "    print(\"평년입니다.\")\n",
    "elif year%4==0:\n",
    "    print(\"윤년입니다.\")"
   ]
  },
  {
   "cell_type": "code",
   "execution_count": 7,
   "id": "162388ee-1910-4ea4-bb83-f978b14cd7bb",
   "metadata": {},
   "outputs": [
    {
     "name": "stdin",
     "output_type": "stream",
     "text": [
      "확인할 연도를 입력하세요: 1900\n"
     ]
    },
    {
     "name": "stdout",
     "output_type": "stream",
     "text": [
      "평년입니다.\n"
     ]
    }
   ],
   "source": [
    "year=int(input(\"확인할 연도를 입력하세요:\"))\n",
    "\n",
    "if year%100==0 and year%400!=0:\n",
    "    print(\"평년입니다.\")\n",
    "elif year%4!=0:\n",
    "    print(\"평년입니다.\")\n",
    "elif year%4==0:\n",
    "    print(\"윤년입니다.\")"
   ]
  },
  {
   "cell_type": "code",
   "execution_count": null,
   "id": "35ac3c90-a1d9-4af5-87f7-a8cac26040a5",
   "metadata": {},
   "outputs": [],
   "source": [
    "# 풀이 : 연도가 4로 떨어지는 경우 윤년 그밖의해 평년/ 예외규칙 100으로 나누어 떨어지되 400으로 나누어 떨어지지 않는 해\n",
    "year=int(input(\"확인할 연도를 입력하세요:\"))\n",
    "\n",
    "if year%4!=0 and (year%100==0 or year%400!=0):    #예외사항 먼저 제시\n",
    "    print(\"윤년입니다.\")\n",
    "else:\n",
    "    print(\"평년입니다.\")"
   ]
  },
  {
   "cell_type": "code",
   "execution_count": null,
   "id": "00a58a5f-fd46-4485-88fd-1be0c427c782",
   "metadata": {},
   "outputs": [],
   "source": []
  },
  {
   "cell_type": "code",
   "execution_count": null,
   "id": "20410d46-3f04-4bfc-947a-f3e62547e22d",
   "metadata": {},
   "outputs": [],
   "source": []
  },
  {
   "cell_type": "code",
   "execution_count": null,
   "id": "1572944b-7e66-49ec-b47e-356d2d794b0f",
   "metadata": {},
   "outputs": [],
   "source": []
  },
  {
   "cell_type": "code",
   "execution_count": null,
   "id": "60e6f17d-4ac5-4626-b327-8993a9c97a29",
   "metadata": {},
   "outputs": [],
   "source": []
  }
 ],
 "metadata": {
  "kernelspec": {
   "display_name": "Python 3 (ipykernel)",
   "language": "python",
   "name": "python3"
  },
  "language_info": {
   "codemirror_mode": {
    "name": "ipython",
    "version": 3
   },
   "file_extension": ".py",
   "mimetype": "text/x-python",
   "name": "python",
   "nbconvert_exporter": "python",
   "pygments_lexer": "ipython3",
   "version": "3.9.13"
  }
 },
 "nbformat": 4,
 "nbformat_minor": 5
}
