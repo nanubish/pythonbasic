{
 "cells": [
  {
   "cell_type": "code",
   "execution_count": null,
   "id": "a844371b-6d41-4ee9-a7f1-c823ec49e926",
   "metadata": {},
   "outputs": [],
   "source": [
    "# variable scope - 전역변수 global variable\n",
    "\n",
    "global_variable='This is global world'  # -> 스크립트 전체에서 접근 가능\n",
    "\n",
    "\n",
    "# variable scope - 지역변수 local variable\n",
    "\n",
    "def my_little_world():\n",
    "    my_variable='this is my little world'  # -> 로컬스코프 내에서만 사용가능\n",
    "print(my_variable)  # 에러발생, "
   ]
  },
  {
   "cell_type": "code",
   "execution_count": 10,
   "id": "eae99ac6-9c48-4de2-9f4f-baf97431c588",
   "metadata": {},
   "outputs": [
    {
     "ename": "SyntaxError",
     "evalue": "no binding for nonlocal 'messsage' found (3331408373.py, line 6)",
     "output_type": "error",
     "traceback": [
      "\u001b[1;36m  File \u001b[1;32m\"C:\\Users\\user\\AppData\\Local\\Temp\\ipykernel_16664\\3331408373.py\"\u001b[1;36m, line \u001b[1;32m6\u001b[0m\n\u001b[1;33m    nonlocal messsage\u001b[0m\n\u001b[1;37m    ^\u001b[0m\n\u001b[1;31mSyntaxError\u001b[0m\u001b[1;31m:\u001b[0m no binding for nonlocal 'messsage' found\n"
     ]
    }
   ],
   "source": [
    "# 안쪽 함수에서 바깥쪽 함수의 변수 변경\n",
    "\n",
    "def level11():\n",
    "    message='This is level 1'\n",
    "    def level2():\n",
    "        nonlocal messsage\n",
    "        message='Level2 is better than lever1.'\n",
    "    level2()\n",
    "    print(message)\n",
    "        "
   ]
  },
  {
   "cell_type": "code",
   "execution_count": 11,
   "id": "e7b0e160-b7a0-41a6-99ce-d1d0e7d8871b",
   "metadata": {},
   "outputs": [
    {
     "ename": "NameError",
     "evalue": "name 'level1' is not defined",
     "output_type": "error",
     "traceback": [
      "\u001b[1;31m---------------------------------------------------------------------------\u001b[0m",
      "\u001b[1;31mNameError\u001b[0m                                 Traceback (most recent call last)",
      "\u001b[1;32m~\\AppData\\Local\\Temp\\ipykernel_16664\\3596395717.py\u001b[0m in \u001b[0;36m<module>\u001b[1;34m\u001b[0m\n\u001b[1;32m----> 1\u001b[1;33m \u001b[0mlevel1\u001b[0m\u001b[1;33m(\u001b[0m\u001b[1;33m)\u001b[0m\u001b[1;33m\u001b[0m\u001b[1;33m\u001b[0m\u001b[0m\n\u001b[0m",
      "\u001b[1;31mNameError\u001b[0m: name 'level1' is not defined"
     ]
    }
   ],
   "source": [
    "level1()"
   ]
  },
  {
   "cell_type": "code",
   "execution_count": null,
   "id": "caf7d758-f6ac-4dd2-bdac-e0918aacddc3",
   "metadata": {},
   "outputs": [],
   "source": []
  },
  {
   "cell_type": "code",
   "execution_count": null,
   "id": "f915b4d9-c6a3-46d6-85e2-c9b06f873921",
   "metadata": {},
   "outputs": [],
   "source": [
    "# 람다 : 이름없는 함수\n",
    "\n",
    "lambda[parameters]:expression   #parameters 생략가능"
   ]
  },
  {
   "cell_type": "code",
   "execution_count": 12,
   "id": "d35912a8-bbec-4eda-9811-5ab10d95822f",
   "metadata": {},
   "outputs": [
    {
     "data": {
      "text/plain": [
       "20"
      ]
     },
     "execution_count": 12,
     "metadata": {},
     "output_type": "execute_result"
    }
   ],
   "source": [
    "(lambda x: x+10)(10)"
   ]
  },
  {
   "cell_type": "code",
   "execution_count": 14,
   "id": "14f559d3-4f4d-40e7-b376-cbc60ae77050",
   "metadata": {},
   "outputs": [
    {
     "name": "stdout",
     "output_type": "stream",
     "text": [
      "20\n"
     ]
    }
   ],
   "source": [
    "twice=lambda x: x*2\n",
    "print(twice(10))"
   ]
  },
  {
   "cell_type": "code",
   "execution_count": 15,
   "id": "ccd8b01e-9744-4b2a-94e8-dc6ae4fe9d78",
   "metadata": {},
   "outputs": [
    {
     "ename": "SyntaxError",
     "evalue": "invalid syntax (1727540298.py, line 1)",
     "output_type": "error",
     "traceback": [
      "\u001b[1;36m  File \u001b[1;32m\"C:\\Users\\user\\AppData\\Local\\Temp\\ipykernel_16664\\1727540298.py\"\u001b[1;36m, line \u001b[1;32m1\u001b[0m\n\u001b[1;33m    (lambda x: y=10; x+y)(1)\u001b[0m\n\u001b[1;37m                ^\u001b[0m\n\u001b[1;31mSyntaxError\u001b[0m\u001b[1;31m:\u001b[0m invalid syntax\n"
     ]
    }
   ],
   "source": [
    "(lambda x: y=10; x+y)(1)   # 새 변수 만들수 없음"
   ]
  },
  {
   "cell_type": "code",
   "execution_count": null,
   "id": "46d22d69-4014-4260-a976-ffeca677f890",
   "metadata": {},
   "outputs": [],
   "source": [
    "# if else 한줄로 : 반드시 else와같이 써야함\n",
    "# 쓰기 불편하나 람다식과 같이 사용가능\n",
    "\n",
    "True일때 값 if 조건식 else False일때 값"
   ]
  },
  {
   "cell_type": "code",
   "execution_count": 17,
   "id": "705b00e2-76b7-4a2f-a28c-fd96f7dd7eeb",
   "metadata": {},
   "outputs": [
    {
     "data": {
      "text/plain": [
       "'B'"
      ]
     },
     "execution_count": 17,
     "metadata": {},
     "output_type": "execute_result"
    }
   ],
   "source": [
    "score=90\n",
    "'A' if 90<score<=100 else 'B' if 80<score else 'C'"
   ]
  },
  {
   "cell_type": "code",
   "execution_count": null,
   "id": "ab3778a4-e3b8-4704-9fb6-e7000adfadcf",
   "metadata": {},
   "outputs": [],
   "source": [
    "# 람다와 map()\n",
    "map(lalmbda parameter1, parameter2, ...:expression, iterable1, iterable2,,,)"
   ]
  },
  {
   "cell_type": "code",
   "execution_count": 19,
   "id": "4fd26df8-6dc7-4837-9ebe-ba1d89b22b24",
   "metadata": {},
   "outputs": [
    {
     "ename": "SyntaxError",
     "evalue": "invalid syntax (599376650.py, line 2)",
     "output_type": "error",
     "traceback": [
      "\u001b[1;36m  File \u001b[1;32m\"C:\\Users\\user\\AppData\\Local\\Temp\\ipykernel_16664\\599376650.py\"\u001b[1;36m, line \u001b[1;32m2\u001b[0m\n\u001b[1;33m    b=[_for_in range(2,11,2)]\u001b[0m\n\u001b[1;37m               ^\u001b[0m\n\u001b[1;31mSyntaxError\u001b[0m\u001b[1;31m:\u001b[0m invalid syntax\n"
     ]
    }
   ],
   "source": [
    "a=[_for_ in range(1,6)]    #1,2,3,4,5\n",
    "b=[_for_in range(2,11,2)]  #2,4,6,8,10\n",
    "print(list(map(lambda x,y:x*y,a,b)))"
   ]
  },
  {
   "cell_type": "code",
   "execution_count": null,
   "id": "6c0008d5-9a1d-43ec-8bb3-32bd8fa7548d",
   "metadata": {},
   "outputs": [],
   "source": [
    "# 람다와 filter()"
   ]
  },
  {
   "cell_type": "code",
   "execution_count": null,
   "id": "2e8d1284-bf7e-4046-811d-2523296a363a",
   "metadata": {},
   "outputs": [],
   "source": [
    "class Person:\n",
    "    def"
   ]
  },
  {
   "cell_type": "code",
   "execution_count": null,
   "id": "33b7ff77-8681-4cbd-8285-bf5df1eba3ed",
   "metadata": {},
   "outputs": [],
   "source": []
  },
  {
   "cell_type": "code",
   "execution_count": null,
   "id": "94604207-f05f-4f23-aa6e-0216bc65fa44",
   "metadata": {},
   "outputs": [],
   "source": [
    "# class\n",
    "\n",
    "instance_variable=ClassName(attribute1, attribute2, ...method, methond)"
   ]
  },
  {
   "cell_type": "code",
   "execution_count": null,
   "id": "10c67cca-db23-4161-a929-cda07b0da44f",
   "metadata": {},
   "outputs": [],
   "source": [
    "\n",
    "# method\n",
    "\n",
    "var=ClassName()\n",
    "var.method_name()  # self구조 클래스안에오는 첫번째 인자는 self(다른이름 부여가능)로 넣어 인스턴스에 접근\n",
    "\n",
    "# __init__  : __ 가 오면 파이썬 내부에서 어떻게 쓰일지에대해 정의가 되어있음\n",
    "\n",
    "\n"
   ]
  },
  {
   "cell_type": "code",
   "execution_count": null,
   "id": "0544cd0d-a269-4833-9a64-6c790263b7b6",
   "metadata": {},
   "outputs": [],
   "source": [
    "class Student:   #Pascal case\n",
    "    pass\n",
    "    "
   ]
  },
  {
   "cell_type": "code",
   "execution_count": 5,
   "id": "eab02547-ab9d-4796-882e-abe9b0fbf2ef",
   "metadata": {},
   "outputs": [
    {
     "ename": "NameError",
     "evalue": "name 'Student' is not defined",
     "output_type": "error",
     "traceback": [
      "\u001b[1;31m---------------------------------------------------------------------------\u001b[0m",
      "\u001b[1;31mNameError\u001b[0m                                 Traceback (most recent call last)",
      "\u001b[1;32m~\\AppData\\Local\\Temp\\ipykernel_16392\\1410181325.py\u001b[0m in \u001b[0;36m<module>\u001b[1;34m\u001b[0m\n\u001b[1;32m----> 1\u001b[1;33m \u001b[0ms1\u001b[0m\u001b[1;33m=\u001b[0m\u001b[0mStudent\u001b[0m\u001b[1;33m(\u001b[0m\u001b[1;33m)\u001b[0m\u001b[1;33m\u001b[0m\u001b[1;33m\u001b[0m\u001b[0m\n\u001b[0m",
      "\u001b[1;31mNameError\u001b[0m: name 'Student' is not defined"
     ]
    }
   ],
   "source": [
    "s1=Student()   # ()공괄호지만 인스턴스의 속성을 지정해서 가능하기때문"
   ]
  },
  {
   "cell_type": "code",
   "execution_count": 4,
   "id": "488607b3-f9a8-44c1-aeae-981e93ea70ce",
   "metadata": {},
   "outputs": [
    {
     "ename": "NameError",
     "evalue": "name 's1' is not defined",
     "output_type": "error",
     "traceback": [
      "\u001b[1;31m---------------------------------------------------------------------------\u001b[0m",
      "\u001b[1;31mNameError\u001b[0m                                 Traceback (most recent call last)",
      "\u001b[1;32m~\\AppData\\Local\\Temp\\ipykernel_16392\\1687393614.py\u001b[0m in \u001b[0;36m<module>\u001b[1;34m\u001b[0m\n\u001b[1;32m----> 1\u001b[1;33m \u001b[0mtype\u001b[0m\u001b[1;33m(\u001b[0m\u001b[0ms1\u001b[0m\u001b[1;33m)\u001b[0m\u001b[1;33m\u001b[0m\u001b[1;33m\u001b[0m\u001b[0m\n\u001b[0m",
      "\u001b[1;31mNameError\u001b[0m: name 's1' is not defined"
     ]
    }
   ],
   "source": [
    "type(s1)"
   ]
  },
  {
   "cell_type": "code",
   "execution_count": null,
   "id": "73731ae0-a942-4dab-843a-f1cb7c06c2f5",
   "metadata": {},
   "outputs": [],
   "source": [
    "s1.name='홍길동'"
   ]
  },
  {
   "cell_type": "code",
   "execution_count": 6,
   "id": "19d1aaeb-4a71-4259-945e-c032f72f8b46",
   "metadata": {},
   "outputs": [
    {
     "ename": "NameError",
     "evalue": "name 's1' is not defined",
     "output_type": "error",
     "traceback": [
      "\u001b[1;31m---------------------------------------------------------------------------\u001b[0m",
      "\u001b[1;31mNameError\u001b[0m                                 Traceback (most recent call last)",
      "\u001b[1;32m~\\AppData\\Local\\Temp\\ipykernel_16392\\2416388422.py\u001b[0m in \u001b[0;36m<module>\u001b[1;34m\u001b[0m\n\u001b[1;32m----> 1\u001b[1;33m \u001b[0mprint\u001b[0m\u001b[1;33m(\u001b[0m\u001b[0ms1\u001b[0m\u001b[1;33m.\u001b[0m\u001b[0mname\u001b[0m\u001b[1;33m)\u001b[0m\u001b[1;33m\u001b[0m\u001b[1;33m\u001b[0m\u001b[0m\n\u001b[0m",
      "\u001b[1;31mNameError\u001b[0m: name 's1' is not defined"
     ]
    }
   ],
   "source": [
    "print(s1.name)"
   ]
  },
  {
   "cell_type": "code",
   "execution_count": 7,
   "id": "2d8d5043-a89f-494e-863b-b972a14e280e",
   "metadata": {},
   "outputs": [
    {
     "ename": "NameError",
     "evalue": "name 's1' is not defined",
     "output_type": "error",
     "traceback": [
      "\u001b[1;31m---------------------------------------------------------------------------\u001b[0m",
      "\u001b[1;31mNameError\u001b[0m                                 Traceback (most recent call last)",
      "\u001b[1;32m~\\AppData\\Local\\Temp\\ipykernel_16392\\2416388422.py\u001b[0m in \u001b[0;36m<module>\u001b[1;34m\u001b[0m\n\u001b[1;32m----> 1\u001b[1;33m \u001b[0mprint\u001b[0m\u001b[1;33m(\u001b[0m\u001b[0ms1\u001b[0m\u001b[1;33m.\u001b[0m\u001b[0mname\u001b[0m\u001b[1;33m)\u001b[0m\u001b[1;33m\u001b[0m\u001b[1;33m\u001b[0m\u001b[0m\n\u001b[0m",
      "\u001b[1;31mNameError\u001b[0m: name 's1' is not defined"
     ]
    }
   ],
   "source": [
    "print(s1.name)  # name=속성"
   ]
  },
  {
   "cell_type": "code",
   "execution_count": 16,
   "id": "1a7941ff-8af2-4231-94a7-d52d5773d117",
   "metadata": {},
   "outputs": [],
   "source": [
    "# class"
   ]
  },
  {
   "cell_type": "code",
   "execution_count": 18,
   "id": "8d82b277-2c67-4c4c-ac77-754b207c73ef",
   "metadata": {},
   "outputs": [],
   "source": [
    "class Student:   #Pascal case\n",
    "    #생성자\n",
    "    # 단한번 실행되는 매서드\n",
    "    def __init__(self):   # self=내 자신의 인스턴스로 아래 인스턴스를 만들어줌\n",
    "        self.name=\"홍길동\""
   ]
  },
  {
   "cell_type": "code",
   "execution_count": null,
   "id": "01701dfb-1428-4443-b320-fdfe6e3a8925",
   "metadata": {},
   "outputs": [],
   "source": [
    "#student  클래스로부터 객체를 하나 생성"
   ]
  },
  {
   "cell_type": "code",
   "execution_count": 19,
   "id": "7c4882d6-b661-4690-a54d-4ea8e9256e81",
   "metadata": {},
   "outputs": [
    {
     "ename": "SyntaxError",
     "evalue": "invalid syntax (472461503.py, line 7)",
     "output_type": "error",
     "traceback": [
      "\u001b[1;36m  File \u001b[1;32m\"C:\\Users\\user\\AppData\\Local\\Temp\\ipykernel_16392\\472461503.py\"\u001b[1;36m, line \u001b[1;32m7\u001b[0m\n\u001b[1;33m    s3 = s1 도 생성가능\u001b[0m\n\u001b[1;37m            ^\u001b[0m\n\u001b[1;31mSyntaxError\u001b[0m\u001b[1;31m:\u001b[0m invalid syntax\n"
     ]
    }
   ],
   "source": [
    "s1 = Student()  \n",
    "\n",
    "# 클래스로부터 객체가 생성되는 시점, 생성되자마자 __init__(self)가 실행됨\n",
    "# self.name이 처리됨, student에 name이라는 속성이 들어가게됨\n",
    "\n",
    "s2 = Student()\n",
    "# s3 = s1 도 생성가능"
   ]
  },
  {
   "cell_type": "code",
   "execution_count": 17,
   "id": "8796a4b1-603a-4b0a-846a-0e1365f5adf3",
   "metadata": {},
   "outputs": [
    {
     "ename": "NameError",
     "evalue": "name 's1' is not defined",
     "output_type": "error",
     "traceback": [
      "\u001b[1;31m---------------------------------------------------------------------------\u001b[0m",
      "\u001b[1;31mNameError\u001b[0m                                 Traceback (most recent call last)",
      "\u001b[1;32m~\\AppData\\Local\\Temp\\ipykernel_16392\\1885568411.py\u001b[0m in \u001b[0;36m<module>\u001b[1;34m\u001b[0m\n\u001b[1;32m----> 1\u001b[1;33m \u001b[0ms1\u001b[0m\u001b[1;33m.\u001b[0m\u001b[0mage\u001b[0m\u001b[1;33m=\u001b[0m\u001b[1;36m32\u001b[0m\u001b[1;33m\u001b[0m\u001b[1;33m\u001b[0m\u001b[0m\n\u001b[0m",
      "\u001b[1;31mNameError\u001b[0m: name 's1' is not defined"
     ]
    }
   ],
   "source": [
    "s1.age=32"
   ]
  },
  {
   "cell_type": "code",
   "execution_count": 14,
   "id": "42e72de5-32eb-44b4-9b70-98c022734cb5",
   "metadata": {},
   "outputs": [
    {
     "ename": "NameError",
     "evalue": "name 's1' is not defined",
     "output_type": "error",
     "traceback": [
      "\u001b[1;31m---------------------------------------------------------------------------\u001b[0m",
      "\u001b[1;31mNameError\u001b[0m                                 Traceback (most recent call last)",
      "\u001b[1;32m~\\AppData\\Local\\Temp\\ipykernel_16392\\2416388422.py\u001b[0m in \u001b[0;36m<module>\u001b[1;34m\u001b[0m\n\u001b[1;32m----> 1\u001b[1;33m \u001b[0mprint\u001b[0m\u001b[1;33m(\u001b[0m\u001b[0ms1\u001b[0m\u001b[1;33m.\u001b[0m\u001b[0mname\u001b[0m\u001b[1;33m)\u001b[0m\u001b[1;33m\u001b[0m\u001b[1;33m\u001b[0m\u001b[0m\n\u001b[0m",
      "\u001b[1;31mNameError\u001b[0m: name 's1' is not defined"
     ]
    }
   ],
   "source": [
    "print(s1.name)"
   ]
  },
  {
   "cell_type": "code",
   "execution_count": null,
   "id": "af66b767-d0c5-40a9-b8f7-2903bc87337c",
   "metadata": {},
   "outputs": [],
   "source": []
  },
  {
   "cell_type": "code",
   "execution_count": 31,
   "id": "39548b09-667b-4796-bb38-dcc8053237f0",
   "metadata": {},
   "outputs": [],
   "source": [
    "class Person:\n",
    "    def __init__(self, name, age):\n",
    "        self.name = name\n",
    "        self.age = age"
   ]
  },
  {
   "cell_type": "code",
   "execution_count": 33,
   "id": "31f6a219-2e02-4c39-90b5-4655f0a351f4",
   "metadata": {},
   "outputs": [],
   "source": [
    "p1=Person('홍길동',22)"
   ]
  },
  {
   "cell_type": "code",
   "execution_count": 34,
   "id": "c1ecf663-0b24-4044-955a-6c95402002c9",
   "metadata": {},
   "outputs": [
    {
     "name": "stdout",
     "output_type": "stream",
     "text": [
      "홍길동\n"
     ]
    }
   ],
   "source": [
    "print(p1.name)"
   ]
  },
  {
   "cell_type": "code",
   "execution_count": 36,
   "id": "1991d2f5-2630-4fd0-9595-1d4b658ba893",
   "metadata": {},
   "outputs": [],
   "source": [
    "p2=Person(name='성춘향',age=18)"
   ]
  },
  {
   "cell_type": "code",
   "execution_count": 37,
   "id": "b09d9945-7a23-4fa7-b850-0314c154836e",
   "metadata": {},
   "outputs": [
    {
     "name": "stdout",
     "output_type": "stream",
     "text": [
      "성춘향\n"
     ]
    }
   ],
   "source": [
    "print(p2.name)"
   ]
  },
  {
   "cell_type": "code",
   "execution_count": 49,
   "id": "23417123-4ec9-4af8-949b-b2145f5ac0a1",
   "metadata": {},
   "outputs": [
    {
     "ename": "NameError",
     "evalue": "name 'greeting' is not defined",
     "output_type": "error",
     "traceback": [
      "\u001b[1;31m---------------------------------------------------------------------------\u001b[0m",
      "\u001b[1;31mNameError\u001b[0m                                 Traceback (most recent call last)",
      "\u001b[1;32m~\\AppData\\Local\\Temp\\ipykernel_16392\\2130520631.py\u001b[0m in \u001b[0;36m<module>\u001b[1;34m\u001b[0m\n\u001b[0;32m      9\u001b[0m \u001b[1;33m\u001b[0m\u001b[0m\n\u001b[0;32m     10\u001b[0m \u001b[0mmaria\u001b[0m\u001b[1;33m=\u001b[0m\u001b[0mPerson\u001b[0m\u001b[1;33m(\u001b[0m\u001b[1;34m\"마리아\"\u001b[0m\u001b[1;33m,\u001b[0m\u001b[1;36m20\u001b[0m\u001b[1;33m,\u001b[0m\u001b[1;34m\"서울시\"\u001b[0m\u001b[1;33m)\u001b[0m\u001b[1;33m\u001b[0m\u001b[1;33m\u001b[0m\u001b[0m\n\u001b[1;32m---> 11\u001b[1;33m \u001b[0mmaria\u001b[0m\u001b[1;33m=\u001b[0m\u001b[0mgreeting\u001b[0m\u001b[1;33m(\u001b[0m\u001b[1;33m)\u001b[0m\u001b[1;33m\u001b[0m\u001b[1;33m\u001b[0m\u001b[0m\n\u001b[0m\u001b[0;32m     12\u001b[0m \u001b[1;33m\u001b[0m\u001b[0m\n\u001b[0;32m     13\u001b[0m \u001b[0mprint\u001b[0m\u001b[1;33m(\u001b[0m\u001b[1;34m\"이름: \"\u001b[0m\u001b[1;33m,\u001b[0m\u001b[0mmaria\u001b[0m\u001b[1;33m.\u001b[0m\u001b[0mname\u001b[0m\u001b[1;33m)\u001b[0m\u001b[1;33m\u001b[0m\u001b[1;33m\u001b[0m\u001b[0m\n",
      "\u001b[1;31mNameError\u001b[0m: name 'greeting' is not defined"
     ]
    }
   ],
   "source": [
    "class Person:\n",
    "    def __init__(self,name,age,address):\n",
    "        self.hello=\"안녕하세요\"\n",
    "        self.name=name\n",
    "        self.age=age\n",
    "        self.address=address\n",
    "    def greeting(self):\n",
    "        print(f'{self.hello} 제 이름은 {self.name}입니다.')\n",
    "\n",
    "maria=Person(\"마리아\",20,\"서울시\")\n",
    "maria=greeting()\n",
    "              \n",
    "print(\"이름: \",maria.name)\n",
    "print(\"이름: \",maria.age)\n",
    "print(\"이름: \",maria.address)\n"
   ]
  },
  {
   "cell_type": "code",
   "execution_count": 41,
   "id": "3d874f64-d815-4cb5-9a3f-d50b7f2159ed",
   "metadata": {},
   "outputs": [
    {
     "name": "stdout",
     "output_type": "stream",
     "text": [
      "첫번째 이름은: 마리아\n",
      "첫번째 나이: 20\n",
      "첫번째 주소: 서울시 강남구\n",
      "두번째 이름: 제임스\n",
      "두번째 나이: 21\n",
      "두번째 주소: 서울시 구로구\n"
     ]
    }
   ],
   "source": [
    "class Person():\n",
    "    def __init__(self,name,age,address):\n",
    "        self.name=name\n",
    "        self.age=age\n",
    "        self.address=address\n",
    "\n",
    "maria=Person(\"마리아\",20,\"서울시 강남구\")\n",
    "james=Person(\"제임스\",21,\"서울시 구로구\")\n",
    "\n",
    "print(\"첫번째 이름은:\",maria.name)\n",
    "print(\"첫번째 나이:\",maria.age)\n",
    "print(\"첫번째 주소:\",maria.address)\n",
    "print(\"두번째 이름:\",james.name)\n",
    "print(\"두번째 나이:\",james.age)\n",
    "print(\"두번째 주소:\",james.address)\n"
   ]
  },
  {
   "cell_type": "code",
   "execution_count": 65,
   "id": "d3bba85b-3704-4810-b607-a10c9fa62284",
   "metadata": {},
   "outputs": [
    {
     "ename": "NameError",
     "evalue": "name 'name' is not defined",
     "output_type": "error",
     "traceback": [
      "\u001b[1;31m---------------------------------------------------------------------------\u001b[0m",
      "\u001b[1;31mNameError\u001b[0m                                 Traceback (most recent call last)",
      "\u001b[1;32m~\\AppData\\Local\\Temp\\ipykernel_16392\\1893032021.py\u001b[0m in \u001b[0;36m<module>\u001b[1;34m\u001b[0m\n\u001b[0;32m      5\u001b[0m         \u001b[0mself\u001b[0m\u001b[1;33m.\u001b[0m\u001b[0maddress\u001b[0m\u001b[1;33m=\u001b[0m\u001b[0maddress\u001b[0m\u001b[1;33m\u001b[0m\u001b[1;33m\u001b[0m\u001b[0m\n\u001b[0;32m      6\u001b[0m \u001b[1;33m\u001b[0m\u001b[0m\n\u001b[1;32m----> 7\u001b[1;33m \u001b[0mmaria\u001b[0m\u001b[1;33m=\u001b[0m\u001b[0mPerson\u001b[0m\u001b[1;33m(\u001b[0m\u001b[1;33m)\u001b[0m\u001b[1;33m\u001b[0m\u001b[1;33m\u001b[0m\u001b[0m\n\u001b[0m\u001b[0;32m      8\u001b[0m \u001b[0mjames\u001b[0m\u001b[1;33m=\u001b[0m\u001b[0mPerson\u001b[0m\u001b[1;33m(\u001b[0m\u001b[1;33m)\u001b[0m\u001b[1;33m\u001b[0m\u001b[1;33m\u001b[0m\u001b[0m\n\u001b[0;32m      9\u001b[0m \u001b[1;33m\u001b[0m\u001b[0m\n",
      "\u001b[1;32m~\\AppData\\Local\\Temp\\ipykernel_16392\\1893032021.py\u001b[0m in \u001b[0;36m__init__\u001b[1;34m(self)\u001b[0m\n\u001b[0;32m      1\u001b[0m \u001b[1;32mclass\u001b[0m \u001b[0mPerson\u001b[0m\u001b[1;33m(\u001b[0m\u001b[1;33m)\u001b[0m\u001b[1;33m:\u001b[0m\u001b[1;33m\u001b[0m\u001b[1;33m\u001b[0m\u001b[0m\n\u001b[0;32m      2\u001b[0m     \u001b[1;32mdef\u001b[0m \u001b[0m__init__\u001b[0m\u001b[1;33m(\u001b[0m\u001b[0mself\u001b[0m\u001b[1;33m)\u001b[0m\u001b[1;33m:\u001b[0m\u001b[1;33m\u001b[0m\u001b[1;33m\u001b[0m\u001b[0m\n\u001b[1;32m----> 3\u001b[1;33m         \u001b[0mself\u001b[0m\u001b[1;33m.\u001b[0m\u001b[0mname\u001b[0m\u001b[1;33m=\u001b[0m\u001b[0mname\u001b[0m\u001b[1;33m\u001b[0m\u001b[1;33m\u001b[0m\u001b[0m\n\u001b[0m\u001b[0;32m      4\u001b[0m         \u001b[0mself\u001b[0m\u001b[1;33m.\u001b[0m\u001b[0mage\u001b[0m\u001b[1;33m=\u001b[0m\u001b[0mage\u001b[0m\u001b[1;33m\u001b[0m\u001b[1;33m\u001b[0m\u001b[0m\n\u001b[0;32m      5\u001b[0m         \u001b[0mself\u001b[0m\u001b[1;33m.\u001b[0m\u001b[0maddress\u001b[0m\u001b[1;33m=\u001b[0m\u001b[0maddress\u001b[0m\u001b[1;33m\u001b[0m\u001b[1;33m\u001b[0m\u001b[0m\n",
      "\u001b[1;31mNameError\u001b[0m: name 'name' is not defined"
     ]
    }
   ],
   "source": [
    "#### 다른 풀이\n",
    "\n",
    "class Person():  #파라미터가 없으면 아래값을 직접받음\n",
    "    def __init__(self):\n",
    "        self.name=name\n",
    "        self.age=age\n",
    "        self.address=address\n",
    "\n",
    "maria=Person()\n",
    "james=Person()\n",
    "\n",
    "print(\"첫번째 이름은:\",name)\n",
    "print(\"첫번째 나이:\",age)\n",
    "print(\"첫번째 주소:\",address)\n",
    "print(\"두번째 이름:\",name)\n",
    "print(\"두번째 나이:\",age)\n",
    "print(\"두번째 주소:\",address)\n",
    "    "
   ]
  },
  {
   "cell_type": "code",
   "execution_count": 64,
   "id": "03ebd1ca-2498-4ba6-8985-7a0dedeaa925",
   "metadata": {},
   "outputs": [
    {
     "name": "stdin",
     "output_type": "stream",
     "text": [
      "이름은 무엇인가요? A\n",
      "이름은 무엇인가요? B\n",
      "이름은 무엇인가요? C\n"
     ]
    },
    {
     "name": "stdout",
     "output_type": "stream",
     "text": [
      "첫번째 이름은: 마리아\n",
      "첫번째 이름은: 제임스\n"
     ]
    },
    {
     "ename": "NameError",
     "evalue": "name 'name3' is not defined",
     "output_type": "error",
     "traceback": [
      "\u001b[1;31m---------------------------------------------------------------------------\u001b[0m",
      "\u001b[1;31mNameError\u001b[0m                                 Traceback (most recent call last)",
      "\u001b[1;32m~\\AppData\\Local\\Temp\\ipykernel_16392\\1300482437.py\u001b[0m in \u001b[0;36m<module>\u001b[1;34m\u001b[0m\n\u001b[0;32m      9\u001b[0m \u001b[0mprint\u001b[0m\u001b[1;33m(\u001b[0m\u001b[1;34m\"첫번째 이름은:\"\u001b[0m\u001b[1;33m,\u001b[0m\u001b[0mname1\u001b[0m\u001b[1;33m)\u001b[0m\u001b[1;33m\u001b[0m\u001b[1;33m\u001b[0m\u001b[0m\n\u001b[0;32m     10\u001b[0m \u001b[0mprint\u001b[0m\u001b[1;33m(\u001b[0m\u001b[1;34m\"첫번째 이름은:\"\u001b[0m\u001b[1;33m,\u001b[0m\u001b[0mname2\u001b[0m\u001b[1;33m)\u001b[0m\u001b[1;33m\u001b[0m\u001b[1;33m\u001b[0m\u001b[0m\n\u001b[1;32m---> 11\u001b[1;33m \u001b[0mprint\u001b[0m\u001b[1;33m(\u001b[0m\u001b[1;34m\"첫번째 이름은:\"\u001b[0m\u001b[1;33m,\u001b[0m\u001b[0mname3\u001b[0m\u001b[1;33m)\u001b[0m\u001b[1;33m\u001b[0m\u001b[1;33m\u001b[0m\u001b[0m\n\u001b[0m",
      "\u001b[1;31mNameError\u001b[0m: name 'name3' is not defined"
     ]
    }
   ],
   "source": [
    "\n",
    "class Person():\n",
    "    def __init__(self,name):\n",
    "        self.name=input('이름은 무엇인가요?')\n",
    "\n",
    "p1=Person(\"name1\")\n",
    "p2=Person(\"name2\")\n",
    "p3=Person(\"name3\")\n",
    "\n",
    "print(\"첫번째 이름은:\",name1)\n",
    "print(\"첫번째 이름은:\",name2)\n",
    "print(\"첫번째 이름은:\",name3)"
   ]
  },
  {
   "cell_type": "code",
   "execution_count": null,
   "id": "1d4e0ffb-d426-48c8-87bc-9bd9029cb4d4",
   "metadata": {},
   "outputs": [],
   "source": []
  },
  {
   "cell_type": "code",
   "execution_count": null,
   "id": "723aa7da-5824-4e88-9e1e-c2d4034452db",
   "metadata": {},
   "outputs": [],
   "source": [
    "# 비공개 속성 : 속성앞에 double under __"
   ]
  },
  {
   "cell_type": "code",
   "execution_count": null,
   "id": "119dc503-1736-4bb1-9ea6-8315a375992a",
   "metadata": {},
   "outputs": [],
   "source": [
    "class ClassExam:\n",
    "    def __init__(self):\n",
    "        self.__secret=\"비밀입니다.\""
   ]
  },
  {
   "cell_type": "code",
   "execution_count": 57,
   "id": "5e9c8eea-8f5a-47a4-8d6c-17297ac6130b",
   "metadata": {},
   "outputs": [
    {
     "ename": "NameError",
     "evalue": "name 'ClassExam' is not defined",
     "output_type": "error",
     "traceback": [
      "\u001b[1;31m---------------------------------------------------------------------------\u001b[0m",
      "\u001b[1;31mNameError\u001b[0m                                 Traceback (most recent call last)",
      "\u001b[1;32m~\\AppData\\Local\\Temp\\ipykernel_16392\\1518325705.py\u001b[0m in \u001b[0;36m<module>\u001b[1;34m\u001b[0m\n\u001b[1;32m----> 1\u001b[1;33m \u001b[0mc1\u001b[0m\u001b[1;33m=\u001b[0m\u001b[0mClassExam\u001b[0m\u001b[1;33m(\u001b[0m\u001b[1;33m)\u001b[0m\u001b[1;33m\u001b[0m\u001b[1;33m\u001b[0m\u001b[0m\n\u001b[0m\u001b[0;32m      2\u001b[0m \u001b[0mprint\u001b[0m\u001b[1;33m(\u001b[0m\u001b[0mc1\u001b[0m\u001b[1;33m.\u001b[0m\u001b[0m__secret\u001b[0m\u001b[1;33m)\u001b[0m\u001b[1;33m\u001b[0m\u001b[1;33m\u001b[0m\u001b[0m\n",
      "\u001b[1;31mNameError\u001b[0m: name 'ClassExam' is not defined"
     ]
    }
   ],
   "source": [
    "c1=ClassExam()\n",
    "print(c1.__secret)   # 비공개속성"
   ]
  },
  {
   "cell_type": "code",
   "execution_count": null,
   "id": "97070bfb-970d-4840-b44a-4e9f78ec0d8b",
   "metadata": {},
   "outputs": [],
   "source": []
  },
  {
   "cell_type": "code",
   "execution_count": 67,
   "id": "8743687a-7ed6-44cd-8ca3-8398961840a8",
   "metadata": {},
   "outputs": [
    {
     "ename": "AttributeError",
     "evalue": "'Person' object has no attribute '_Person__wallet'",
     "output_type": "error",
     "traceback": [
      "\u001b[1;31m---------------------------------------------------------------------------\u001b[0m",
      "\u001b[1;31mAttributeError\u001b[0m                            Traceback (most recent call last)",
      "\u001b[1;32m~\\AppData\\Local\\Temp\\ipykernel_16392\\1553334197.py\u001b[0m in \u001b[0;36m<module>\u001b[1;34m\u001b[0m\n\u001b[0;32m     13\u001b[0m \u001b[1;33m\u001b[0m\u001b[0m\n\u001b[0;32m     14\u001b[0m \u001b[0mmaria\u001b[0m\u001b[1;33m=\u001b[0m\u001b[0mPerson\u001b[0m\u001b[1;33m(\u001b[0m\u001b[1;34m'마리아'\u001b[0m\u001b[1;33m,\u001b[0m\u001b[1;36m20\u001b[0m\u001b[1;33m,\u001b[0m\u001b[1;34m'서울시 서초구'\u001b[0m\u001b[1;33m,\u001b[0m\u001b[1;36m10000\u001b[0m\u001b[1;33m)\u001b[0m\u001b[1;33m\u001b[0m\u001b[1;33m\u001b[0m\u001b[0m\n\u001b[1;32m---> 15\u001b[1;33m \u001b[0mmaria\u001b[0m\u001b[1;33m.\u001b[0m\u001b[0mpay\u001b[0m\u001b[1;33m(\u001b[0m\u001b[1;36m3000\u001b[0m\u001b[1;33m)\u001b[0m\u001b[1;33m\u001b[0m\u001b[1;33m\u001b[0m\u001b[0m\n\u001b[0m",
      "\u001b[1;32m~\\AppData\\Local\\Temp\\ipykernel_16392\\1553334197.py\u001b[0m in \u001b[0;36mpay\u001b[1;34m(self, amount)\u001b[0m\n\u001b[0;32m      6\u001b[0m         \u001b[0mself\u001b[0m\u001b[1;33m.\u001b[0m\u001b[0m_wallet\u001b[0m\u001b[1;33m=\u001b[0m\u001b[0mwallet\u001b[0m \u001b[1;31m# 변수 앞에 _를 붙여서 비공개 속성으로 만듦\u001b[0m\u001b[1;33m\u001b[0m\u001b[1;33m\u001b[0m\u001b[0m\n\u001b[0;32m      7\u001b[0m     \u001b[1;32mdef\u001b[0m \u001b[0mpay\u001b[0m\u001b[1;33m(\u001b[0m\u001b[0mself\u001b[0m\u001b[1;33m,\u001b[0m \u001b[0mamount\u001b[0m\u001b[1;33m)\u001b[0m\u001b[1;33m:\u001b[0m\u001b[1;33m\u001b[0m\u001b[1;33m\u001b[0m\u001b[0m\n\u001b[1;32m----> 8\u001b[1;33m         \u001b[1;32mif\u001b[0m \u001b[0mself\u001b[0m\u001b[1;33m.\u001b[0m\u001b[0m__wallet\u001b[0m\u001b[1;33m<\u001b[0m\u001b[0mamount\u001b[0m\u001b[1;33m:\u001b[0m\u001b[1;33m\u001b[0m\u001b[1;33m\u001b[0m\u001b[0m\n\u001b[0m\u001b[0;32m      9\u001b[0m             \u001b[0mprint\u001b[0m\u001b[1;33m(\u001b[0m\u001b[1;34m'돈이 모자랍니다'\u001b[0m\u001b[1;33m)\u001b[0m\u001b[1;33m\u001b[0m\u001b[1;33m\u001b[0m\u001b[0m\n\u001b[0;32m     10\u001b[0m             \u001b[1;32mreturn\u001b[0m\u001b[1;33m\u001b[0m\u001b[1;33m\u001b[0m\u001b[0m\n",
      "\u001b[1;31mAttributeError\u001b[0m: 'Person' object has no attribute '_Person__wallet'"
     ]
    }
   ],
   "source": [
    "class Person():\n",
    "    def __init__(self,name,age,address,wallet):\n",
    "        self.name=name\n",
    "        self.age=age\n",
    "        self.address=address\n",
    "        self._wallet=wallet     # 변수 앞에 _를 붙여서 비공개 속성으로 만듦\n",
    "    def pay(self, amount):\n",
    "        if self.__wallet<amount:\n",
    "            print('돈이 모자랍니다')\n",
    "            return\n",
    "        self.__wallet-=amount # 비공개 속성은 클래스 안의 메서드에서만 접근할 수 있음\n",
    "        print('이제 {0}원 남앗네요.'.format(self.__wallet))\n",
    "\n",
    "maria=Person('마리아',20,'서울시 서초구',10000)\n",
    "maria.pay(3000)"
   ]
  },
  {
   "cell_type": "code",
   "execution_count": null,
   "id": "900efddb-3d61-4e8d-8cf1-217d21c93627",
   "metadata": {},
   "outputs": [],
   "source": []
  },
  {
   "cell_type": "code",
   "execution_count": 82,
   "id": "d50843f1-d4f7-4fc2-9747-d738427fa9c3",
   "metadata": {},
   "outputs": [
    {
     "name": "stdin",
     "output_type": "stream",
     "text": [
      "체력,마나,AP를 입력하세요 511.68 334.0 298\n"
     ]
    },
    {
     "ename": "NameError",
     "evalue": "name 'damage' is not defined",
     "output_type": "error",
     "traceback": [
      "\u001b[1;31m---------------------------------------------------------------------------\u001b[0m",
      "\u001b[1;31mNameError\u001b[0m                                 Traceback (most recent call last)",
      "\u001b[1;32m~\\AppData\\Local\\Temp\\ipykernel_16392\\3535139006.py\u001b[0m in \u001b[0;36m<module>\u001b[1;34m\u001b[0m\n\u001b[0;32m      9\u001b[0m         \u001b[1;32mreturn\u001b[0m \u001b[0map\u001b[0m\u001b[1;33m*\u001b[0m\u001b[1;36m0.65\u001b[0m\u001b[1;33m+\u001b[0m\u001b[1;36m400\u001b[0m\u001b[1;33m\u001b[0m\u001b[1;33m\u001b[0m\u001b[0m\n\u001b[0;32m     10\u001b[0m \u001b[1;33m\u001b[0m\u001b[0m\n\u001b[1;32m---> 11\u001b[1;33m \u001b[0mprint\u001b[0m\u001b[1;33m(\u001b[0m\u001b[0mdamage\u001b[0m\u001b[1;33m)\u001b[0m\u001b[1;33m\u001b[0m\u001b[1;33m\u001b[0m\u001b[0m\n\u001b[0m",
      "\u001b[1;31mNameError\u001b[0m: name 'damage' is not defined"
     ]
    }
   ],
   "source": [
    "a,b,c=map(float,input(\"체력,마나,AP를 입력하세요\").split())\n",
    "                      \n",
    "class Annie:\n",
    "    def __init__(self,a,b,ap):\n",
    "        self.a=a\n",
    "        self.b=b\n",
    "        self.c=ap\n",
    "    def damage(ap):\n",
    "        return ap*0.65+400\n",
    "\n",
    "print(damage)\n"
   ]
  },
  {
   "cell_type": "code",
   "execution_count": 90,
   "id": "1a470bdf-3022-4726-9399-a9babd1c7782",
   "metadata": {},
   "outputs": [],
   "source": [
    "# ans\n",
    "                      \n",
    "class Annies:\n",
    "    def __init__(self,a,b,ap):\n",
    "        self.a=a\n",
    "        self.b=b\n",
    "        self.ap=ap\n",
    "    def tibbers(self):   \n",
    "        return selp.ap*0.65+400\n"
   ]
  },
  {
   "cell_type": "code",
   "execution_count": 91,
   "id": "37647790-319f-4c7c-94af-48eb1071267d",
   "metadata": {},
   "outputs": [
    {
     "ename": "TypeError",
     "evalue": "__init__() missing 3 required positional arguments: 'a', 'b', and 'ap'",
     "output_type": "error",
     "traceback": [
      "\u001b[1;31m---------------------------------------------------------------------------\u001b[0m",
      "\u001b[1;31mTypeError\u001b[0m                                 Traceback (most recent call last)",
      "\u001b[1;32m~\\AppData\\Local\\Temp\\ipykernel_16392\\3194460679.py\u001b[0m in \u001b[0;36m<module>\u001b[1;34m\u001b[0m\n\u001b[1;32m----> 1\u001b[1;33m \u001b[0ma1\u001b[0m\u001b[1;33m=\u001b[0m\u001b[0mAnnies\u001b[0m\u001b[1;33m(\u001b[0m\u001b[1;33m)\u001b[0m\u001b[1;33m\u001b[0m\u001b[1;33m\u001b[0m\u001b[0m\n\u001b[0m\u001b[0;32m      2\u001b[0m \u001b[0mprint\u001b[0m\u001b[1;33m(\u001b[0m\u001b[0ma1\u001b[0m\u001b[1;33m.\u001b[0m\u001b[0ma\u001b[0m\u001b[1;33m,\u001b[0m\u001b[0ma1\u001b[0m\u001b[1;33m.\u001b[0m\u001b[0mb\u001b[0m\u001b[1;33m,\u001b[0m\u001b[0ma1\u001b[0m\u001b[1;33m.\u001b[0m\u001b[0map\u001b[0m\u001b[1;33m)\u001b[0m\u001b[1;33m\u001b[0m\u001b[1;33m\u001b[0m\u001b[0m\n",
      "\u001b[1;31mTypeError\u001b[0m: __init__() missing 3 required positional arguments: 'a', 'b', and 'ap'"
     ]
    }
   ],
   "source": [
    "a1=Annies()\n",
    "print(a1.a,a1.b,a1.ap)"
   ]
  },
  {
   "cell_type": "code",
   "execution_count": 88,
   "id": "6bd3354a-eb84-4575-8373-be8fd8fee85c",
   "metadata": {},
   "outputs": [
    {
     "name": "stdin",
     "output_type": "stream",
     "text": [
      "애니 511.68 344.0 298\n"
     ]
    }
   ],
   "source": [
    "# 511.68 344.1 298\n",
    "a,b,ap=map(float,input(\"애니\").split())"
   ]
  },
  {
   "cell_type": "code",
   "execution_count": null,
   "id": "eb9b5462-8082-4bd3-99cb-2b3d55062d98",
   "metadata": {},
   "outputs": [],
   "source": [
    "a2=Annies(a,b,ap)"
   ]
  },
  {
   "cell_type": "code",
   "execution_count": null,
   "id": "6d032f87-90c2-44e8-a8e6-462587db99fd",
   "metadata": {},
   "outputs": [],
   "source": [
    "print(a2.a,a2.b,a2.c)"
   ]
  },
  {
   "cell_type": "code",
   "execution_count": 89,
   "id": "dbf9912b-09e7-4810-a8e9-31640eac7ba9",
   "metadata": {},
   "outputs": [
    {
     "ename": "NameError",
     "evalue": "name 'a2' is not defined",
     "output_type": "error",
     "traceback": [
      "\u001b[1;31m---------------------------------------------------------------------------\u001b[0m",
      "\u001b[1;31mNameError\u001b[0m                                 Traceback (most recent call last)",
      "\u001b[1;32m~\\AppData\\Local\\Temp\\ipykernel_16392\\473265214.py\u001b[0m in \u001b[0;36m<module>\u001b[1;34m\u001b[0m\n\u001b[1;32m----> 1\u001b[1;33m \u001b[0ma2\u001b[0m\u001b[1;33m.\u001b[0m\u001b[0mtibbers\u001b[0m\u001b[1;33m(\u001b[0m\u001b[1;33m)\u001b[0m\u001b[1;33m\u001b[0m\u001b[1;33m\u001b[0m\u001b[0m\n\u001b[0m",
      "\u001b[1;31mNameError\u001b[0m: name 'a2' is not defined"
     ]
    }
   ],
   "source": [
    "a2.tibbers()"
   ]
  },
  {
   "cell_type": "code",
   "execution_count": null,
   "id": "88b29586-85f4-4109-b5fe-bcbf3cfa0f2a",
   "metadata": {},
   "outputs": [],
   "source": []
  }
 ],
 "metadata": {
  "kernelspec": {
   "display_name": "Python 3 (ipykernel)",
   "language": "python",
   "name": "python3"
  },
  "language_info": {
   "codemirror_mode": {
    "name": "ipython",
    "version": 3
   },
   "file_extension": ".py",
   "mimetype": "text/x-python",
   "name": "python",
   "nbconvert_exporter": "python",
   "pygments_lexer": "ipython3",
   "version": "3.9.13"
  }
 },
 "nbformat": 4,
 "nbformat_minor": 5
}
