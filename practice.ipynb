{
 "cells": [
  {
   "cell_type": "code",
   "execution_count": 80,
   "id": "e4b2c344-eb7f-4607-b8b1-65503574303a",
   "metadata": {},
   "outputs": [
    {
     "name": "stdout",
     "output_type": "stream",
     "text": [
      "Hello world 0\n",
      "Hello world 1\n",
      "Hello world 2\n",
      "Hello world 3\n",
      "Hello world 4\n",
      "Hello world 5\n",
      "Hello world 6\n",
      "Hello world 7\n",
      "Hello world 8\n",
      "Hello world 9\n",
      "Hello world 10\n"
     ]
    }
   ],
   "source": [
    "for i in range(10+1):\n",
    "    print('Hello world',i)\n"
   ]
  },
  {
   "cell_type": "code",
   "execution_count": 85,
   "id": "37540d4e-82ce-48d8-be87-907ead6659fe",
   "metadata": {},
   "outputs": [
    {
     "name": "stdin",
     "output_type": "stream",
     "text": [
      "input frequency 5\n"
     ]
    },
    {
     "name": "stdout",
     "output_type": "stream",
     "text": [
      "hello world 1\n",
      "hello world 2\n",
      "hello world 3\n",
      "hello world 4\n",
      "hello world 5\n"
     ]
    }
   ],
   "source": [
    "inc=int(input('input frequency'))\n",
    "\n",
    "for i in range(1,inc+1):\n",
    "    print('hello world',i)"
   ]
  },
  {
   "cell_type": "code",
   "execution_count": 94,
   "id": "0fed726f-0986-4e57-b6a6-0b7301f5309c",
   "metadata": {},
   "outputs": [
    {
     "data": {
      "text/plain": [
       "[-10, -40, -70]"
      ]
     },
     "execution_count": 94,
     "metadata": {},
     "output_type": "execute_result"
    }
   ],
   "source": [
    "list[5:10:1]\n",
    "list(range(5,10))\n",
    "\n",
    "list(range(0,10,3))\n",
    "list(range(-10,-100,-30))"
   ]
  },
  {
   "cell_type": "code",
   "execution_count": 120,
   "id": "49266573-980c-40fa-b282-2afe2c2da356",
   "metadata": {},
   "outputs": [
    {
     "name": "stdin",
     "output_type": "stream",
     "text": [
      "input nbr 7\n"
     ]
    },
    {
     "name": "stdout",
     "output_type": "stream",
     "text": [
      "7\t7\t7\t7\t7\t7\t7\t\n",
      "6\t6\t6\t6\t6\t6\t\n",
      "5\t5\t5\t5\t5\t\n",
      "4\t4\t4\t4\t\n",
      "3\t3\t3\t\n",
      "2\t2\t\n",
      "1\t\n"
     ]
    }
   ],
   "source": [
    "nb=int(input('input nbr'))\n",
    "\n",
    "for i in range(nb,0,-1):\n",
    "    for j in range(i):\n",
    "        print(i,end=\"\\t\")\n",
    "    print()"
   ]
  },
  {
   "cell_type": "code",
   "execution_count": 110,
   "id": "7b6e3264-bc1b-4f60-ac71-59c41a536c1d",
   "metadata": {},
   "outputs": [
    {
     "name": "stdin",
     "output_type": "stream",
     "text": [
      "input nbr 6\n"
     ]
    },
    {
     "name": "stdout",
     "output_type": "stream",
     "text": [
      "6\n",
      "5\n",
      "4\n",
      "3\n",
      "2\n",
      "1\n"
     ]
    }
   ],
   "source": [
    "nb=int(input('input nbr'))\n",
    "\n",
    "for i in range(nb,0,-1):\n",
    "    print(i)"
   ]
  },
  {
   "cell_type": "code",
   "execution_count": 128,
   "id": "6501115c-aaa7-4313-80b3-478b123d8824",
   "metadata": {},
   "outputs": [
    {
     "name": "stdout",
     "output_type": "stream",
     "text": [
      "* * * * * * * * * *\n",
      "*                 *\n",
      "*                 *\n",
      "*                 *\n",
      "*                 *\n",
      "*                 *\n",
      "*                 *\n",
      "*                 *\n",
      "*                 *\n",
      "*                 *\n",
      "* * * * * * * * * *\n"
     ]
    }
   ],
   "source": [
    "a='* * * * * * * * * *'\n",
    "b='*                 *'\n",
    "\n",
    "for i in range(11):\n",
    "    if i==0:\n",
    "        print(a)\n",
    "    elif i==10:\n",
    "        print(a)\n",
    "    else:\n",
    "        print(b)"
   ]
  },
  {
   "cell_type": "code",
   "execution_count": 124,
   "id": "24510cf0-ffe4-4515-a8f7-5a9fa13c1302",
   "metadata": {},
   "outputs": [
    {
     "name": "stdout",
     "output_type": "stream",
     "text": [
      "**********\n"
     ]
    }
   ],
   "source": [
    "a='**********'\n",
    "b='*        *'\n",
    "for i in range(11):\n",
    "    if i==0: \n",
    "        print(a)"
   ]
  },
  {
   "cell_type": "code",
   "execution_count": 129,
   "id": "4b8bdcd3-c5fe-43cf-aae5-80fe92c70993",
   "metadata": {},
   "outputs": [
    {
     "name": "stdin",
     "output_type": "stream",
     "text": [
      "input  nbr 100\n"
     ]
    }
   ],
   "source": [
    "ans=int(input('input  nbr'))"
   ]
  },
  {
   "cell_type": "code",
   "execution_count": 134,
   "id": "9d36435b-12ec-45a3-8a9c-1876d5c410e0",
   "metadata": {},
   "outputs": [
    {
     "name": "stdout",
     "output_type": "stream",
     "text": [
      "1 + 3 + 5 + 7 + 9 + 11 + 13 + 15 + 17 + 19 + 21 + 23 + 25 + 27 + 29 + 31 + 33 + 35 + 37 + 39 + 41 + 43 + 45 + 47 + 49 + 51 + 53 + 55 + 57 + 59 + 61 + 63 + 65 + 67 + 69 + 71 + 73 + 75 + 77 + 79 + 81 + 83 + 85 + 87 + 89 + 91 + 93 + 95 + 97 + 99 + = 2500\n"
     ]
    }
   ],
   "source": [
    "total=0\n",
    "\n",
    "for i in range(1,ans+1,2):\n",
    "    print(i,'+',end=' ')\n",
    "    total+=i\n",
    "print(f'=',total)"
   ]
  },
  {
   "cell_type": "code",
   "execution_count": 139,
   "id": "cd0bb953-a7d8-40b3-a16c-bf0badad12e6",
   "metadata": {},
   "outputs": [
    {
     "name": "stdin",
     "output_type": "stream",
     "text": [
      "input  nbr 4\n"
     ]
    },
    {
     "name": "stdout",
     "output_type": "stream",
     "text": [
      "24\n"
     ]
    }
   ],
   "source": [
    "a=int(input('input  nbr'))\n",
    "total=1\n",
    "\n",
    "for i in range(1,a+1):\n",
    "    total*=i\n",
    "print(total)"
   ]
  },
  {
   "cell_type": "code",
   "execution_count": 143,
   "id": "e39c3dc0-a706-41f0-9740-97f3eed556ae",
   "metadata": {},
   "outputs": [
    {
     "name": "stdout",
     "output_type": "stream",
     "text": [
      "100 -420 250 1030 210 770 240 "
     ]
    }
   ],
   "source": [
    "x=[10,-42,25,103,21,77,24]\n",
    "\n",
    "for _ in [10,-42,25,103,21,77,24]:\n",
    "    print(_*10,end=\" \")"
   ]
  },
  {
   "cell_type": "code",
   "execution_count": 144,
   "id": "b04bdc8a-ba4c-4a95-b354-eb935d7cfaa4",
   "metadata": {},
   "outputs": [
    {
     "name": "stdin",
     "output_type": "stream",
     "text": [
      "input  nbr 9\n"
     ]
    }
   ],
   "source": [
    "a=int(input('input  nbr'))"
   ]
  },
  {
   "cell_type": "code",
   "execution_count": 151,
   "id": "15325581-d6d2-48d0-9200-817d945937d3",
   "metadata": {},
   "outputs": [
    {
     "name": "stdin",
     "output_type": "stream",
     "text": [
      "input  nbr 8\n"
     ]
    },
    {
     "name": "stdout",
     "output_type": "stream",
     "text": [
      "8 * 1 = 8\n",
      "8 * 2 = 16\n",
      "8 * 3 = 24\n",
      "8 * 4 = 32\n",
      "8 * 5 = 40\n",
      "8 * 6 = 48\n",
      "8 * 7 = 56\n",
      "8 * 8 = 64\n"
     ]
    }
   ],
   "source": [
    "a=int(input('input  nbr'))\n",
    "total=1\n",
    "\n",
    "for i in range(1,a+1):\n",
    "    print(a, '*',i ,'=',a*i)"
   ]
  },
  {
   "cell_type": "code",
   "execution_count": 152,
   "id": "5207aa18-09ad-43fb-8e51-514d6f2ae7ca",
   "metadata": {},
   "outputs": [
    {
     "name": "stdin",
     "output_type": "stream",
     "text": [
      "input  nbr 100\n"
     ]
    },
    {
     "name": "stdout",
     "output_type": "stream",
     "text": [
      "5050\n"
     ]
    }
   ],
   "source": [
    "b=int(input('input  nbr'))\n",
    "total=0\n",
    "\n",
    "for i in range(1,b+1):\n",
    "    total+=i\n",
    "\n",
    "print(total)"
   ]
  },
  {
   "cell_type": "code",
   "execution_count": 154,
   "id": "4f6534af-f491-4a11-9fe9-f9797349063a",
   "metadata": {},
   "outputs": [
    {
     "name": "stdout",
     "output_type": "stream",
     "text": [
      "*****\n",
      "*****\n",
      "*****\n",
      "*****\n",
      "*****\n"
     ]
    }
   ],
   "source": [
    "for i in range(5):\n",
    "    print('*****')"
   ]
  },
  {
   "cell_type": "code",
   "execution_count": 162,
   "id": "7be87da6-c0bd-4281-92ae-6755bc799ec6",
   "metadata": {},
   "outputs": [
    {
     "name": "stdout",
     "output_type": "stream",
     "text": [
      "*****\n",
      "*****\n",
      "*****\n",
      "*****\n",
      "*****\n"
     ]
    }
   ],
   "source": [
    "for i in range(5):\n",
    "    for j in range(5):\n",
    "        print('*',end=\"\")\n",
    "    print()"
   ]
  },
  {
   "cell_type": "code",
   "execution_count": 181,
   "id": "d6e03f72-58f8-4860-92bf-a0c5010c5669",
   "metadata": {},
   "outputs": [
    {
     "name": "stdout",
     "output_type": "stream",
     "text": [
      "4 \t6 \t8 \t10 \t12 \t14 \t16 \t18 \t20 \t22 \t24 \t26 \t28 \t30 \t32 \t34 \t36 \t38 \t40 \t42 \t44 \t46 \t48 \t50 \t52 \t54 \t56 \t58 \t60 \t62 \t64 \t66 \t68 \t70 \t72 \t74 \t76 \t78 \t80 \t82 \t84 \t86 \t88 \t90 \t92 \t94 \t96 \t98 \t100 \t"
     ]
    }
   ],
   "source": [
    "i=2\n",
    "\n",
    "while 1<=i<=100-2:\n",
    "    i+=2\n",
    "    print(i,end=\" \\t\")\n",
    " "
   ]
  },
  {
   "cell_type": "code",
   "execution_count": 198,
   "id": "09b59a0c-bdd3-453b-a703-12c370667240",
   "metadata": {},
   "outputs": [
    {
     "name": "stdin",
     "output_type": "stream",
     "text": [
      "nbr 9\n"
     ]
    },
    {
     "name": "stdout",
     "output_type": "stream",
     "text": [
      "9 * 1 = 9\n",
      "9 * 2 = 18\n",
      "9 * 3 = 27\n",
      "9 * 4 = 36\n",
      "9 * 5 = 45\n",
      "9 * 6 = 54\n",
      "9 * 7 = 63\n",
      "9 * 8 = 72\n"
     ]
    }
   ],
   "source": [
    "gu=int(input('nbr'))\n",
    "\n",
    "i=1\n",
    "\n",
    "while i<9:\n",
    "        print(gu,'*',i,'=',i*gu)\n",
    "        i+=1\n"
   ]
  },
  {
   "cell_type": "code",
   "execution_count": 205,
   "id": "81e3df28-af20-4fef-9cf5-7cc4da5c1ade",
   "metadata": {},
   "outputs": [
    {
     "name": "stdin",
     "output_type": "stream",
     "text": [
      "no of stu 3 \n",
      "no of stu 77\n",
      "no of stu 88\n",
      "no of stu 99\n"
     ]
    },
    {
     "name": "stdout",
     "output_type": "stream",
     "text": [
      "평균: 88.0점\n"
     ]
    }
   ],
   "source": [
    "stu=int(input('no of stu'))\n",
    "a=int(input('no of stu'))\n",
    "b=int(input('no of stu'))\n",
    "c=int(input('no of stu'))\n",
    "\n",
    "i=1\n",
    "\n",
    "while i<=3:\n",
    "    total=a+b+c\n",
    "    i+=1\n",
    "print(f'평균: {total/3}점')"
   ]
  },
  {
   "cell_type": "code",
   "execution_count": 206,
   "id": "02ca2483-fee3-4508-86cd-137d0d9a08ad",
   "metadata": {},
   "outputs": [
    {
     "name": "stdout",
     "output_type": "stream",
     "text": [
      "1 2 3 4 5 6 7 8 9 10 "
     ]
    }
   ],
   "source": [
    "for i in range(1,11):\n",
    "    print(i, end=\" \")"
   ]
  },
  {
   "cell_type": "code",
   "execution_count": 209,
   "id": "bb64e57d-59dc-4938-af30-e618eb816d00",
   "metadata": {},
   "outputs": [
    {
     "name": "stdout",
     "output_type": "stream",
     "text": [
      "1 2 3 4 5 6 7 8 9 10 "
     ]
    }
   ],
   "source": [
    "i=1\n",
    "while i<=10:\n",
    "    print(i,end=\" \")\n",
    "    i+=1"
   ]
  },
  {
   "cell_type": "code",
   "execution_count": 210,
   "id": "b4a73afc-c096-4533-90b1-392a702f8fca",
   "metadata": {},
   "outputs": [
    {
     "name": "stdout",
     "output_type": "stream",
     "text": [
      "79.0\n"
     ]
    }
   ],
   "source": [
    "a=(70,60,55,75,95,90,80,80,85,100)\n",
    "total=0\n",
    "for i in a:\n",
    "    total+=i\n",
    "print(total/len(a))\n",
    "    "
   ]
  },
  {
   "cell_type": "code",
   "execution_count": 219,
   "id": "afbab734-9305-4e11-9a8a-8ac738ef0938",
   "metadata": {},
   "outputs": [
    {
     "name": "stdout",
     "output_type": "stream",
     "text": [
      "79.0\n"
     ]
    }
   ],
   "source": [
    "a=(70,60,55,75,95,90,80,80,85,100)\n",
    "i=0\n",
    "total=0\n",
    "while i<len(a):\n",
    "    total+=a[i]\n",
    "    i+=1\n",
    "print(total/len(a))"
   ]
  },
  {
   "cell_type": "code",
   "execution_count": 8,
   "id": "7cb29b89-4b17-405a-a9c3-21b11041d083",
   "metadata": {},
   "outputs": [
    {
     "name": "stdout",
     "output_type": "stream",
     "text": [
      "hi\n",
      "hi\n",
      "hi\n",
      "hi\n",
      "hi\n",
      "hi\n"
     ]
    }
   ],
   "source": [
    "for i in range(10):\n",
    "    print('hi')\n",
    "    if i==5:\n",
    "        break"
   ]
  },
  {
   "cell_type": "code",
   "execution_count": 6,
   "id": "fef4e331-05e2-445d-a34e-d2421b0c43e4",
   "metadata": {},
   "outputs": [
    {
     "name": "stdout",
     "output_type": "stream",
     "text": [
      "5050\n"
     ]
    }
   ],
   "source": [
    "i=0\n",
    "total=0\n",
    "while True:\n",
    "    total+=i\n",
    "    i+=1\n",
    "    if i==101:\n",
    "        break\n",
    "print(total)"
   ]
  },
  {
   "cell_type": "code",
   "execution_count": 229,
   "id": "b7fdd490-d410-423e-9eb9-70ad25aaf057",
   "metadata": {},
   "outputs": [
    {
     "name": "stdin",
     "output_type": "stream",
     "text": [
      "q를 입력하면 종료됩니다. q\n"
     ]
    },
    {
     "name": "stdout",
     "output_type": "stream",
     "text": [
      "exit2\n"
     ]
    }
   ],
   "source": [
    "while True:\n",
    "    val=input('q를 입력하면 종료됩니다.')\n",
    "    if val=='q':\n",
    "        break\n",
    "print('exit2')"
   ]
  },
  {
   "cell_type": "code",
   "execution_count": 236,
   "id": "009ca918-06f8-4087-9475-98df46a4c9f6",
   "metadata": {},
   "outputs": [
    {
     "ename": "IndentationError",
     "evalue": "expected an indented block (1297576884.py, line 4)",
     "output_type": "error",
     "traceback": [
      "\u001b[1;36m  File \u001b[1;32m\"C:\\Users\\user\\AppData\\Local\\Temp\\ipykernel_16956\\1297576884.py\"\u001b[1;36m, line \u001b[1;32m4\u001b[0m\n\u001b[1;33m    if i<100:\u001b[0m\n\u001b[1;37m    ^\u001b[0m\n\u001b[1;31mIndentationError\u001b[0m\u001b[1;31m:\u001b[0m expected an indented block\n"
     ]
    }
   ],
   "source": [
    "i=0\n",
    "while True:\n",
    "    if i[0]==3 and i[1]==3:\n",
    "    if i<100: \n",
    "        break\n",
    "    print(i, end=\" \")\n",
    "    i+=1"
   ]
  },
  {
   "cell_type": "code",
   "execution_count": null,
   "id": "7053c403-d327-4f9f-95c1-bbf3d1dc143f",
   "metadata": {},
   "outputs": [],
   "source": [
    "i=0\n",
    "while True:\n",
    "    if i%10!=3:\n",
    "        i+=1\n",
    "        continue\n",
    "    if i>100:\n",
    "        break\n",
    "    print(i,end=\"\")\n",
    "    i+=1"
   ]
  },
  {
   "cell_type": "code",
   "execution_count": 4,
   "id": "a7175cdb-c1ba-4a5b-8442-2aa2a4691d36",
   "metadata": {},
   "outputs": [
    {
     "name": "stdout",
     "output_type": "stream",
     "text": [
      "19\n"
     ]
    }
   ],
   "source": [
    "for i in range(20):\n",
    "    if i%2==0:\n",
    "        continue\n",
    "print(i)"
   ]
  },
  {
   "cell_type": "code",
   "execution_count": 17,
   "id": "cc7bb952-52cf-4248-af43-0edd1225bf45",
   "metadata": {},
   "outputs": [
    {
     "name": "stdin",
     "output_type": "stream",
     "text": [
      "name of fruit a\n"
     ]
    },
    {
     "name": "stdout",
     "output_type": "stream",
     "text": [
      "a의 가격은1000 입닙다.\n"
     ]
    }
   ],
   "source": [
    "fruit=input('name of fruit')\n",
    "memu={\"a\":1000,\n",
    "      \"b\":700,\n",
    "      \"c\":1500,\n",
    "      \"p\":2000}\n",
    "\n",
    "print(f'{fruit}의 가격은{memu[fruit]} 입닙다.')"
   ]
  },
  {
   "cell_type": "code",
   "execution_count": 22,
   "id": "fbae9f23-0e2a-4acc-80e1-f2230e64508e",
   "metadata": {},
   "outputs": [
    {
     "name": "stdin",
     "output_type": "stream",
     "text": [
      "name a b c d\n",
      "weight 20.3 3 4 5\n"
     ]
    },
    {
     "name": "stdout",
     "output_type": "stream",
     "text": [
      "{'a': 20.3, 'b': 3.0, 'c': 4.0, 'd': 5.0}\n",
      "<class 'dict'>\n"
     ]
    }
   ],
   "source": [
    "name=input('name').split()\n",
    "weight=map(float,input('weight').split())\n",
    "\n",
    "print(dict(zip(name,weight)))\n",
    "print(dict)"
   ]
  },
  {
   "cell_type": "code",
   "execution_count": 26,
   "id": "21f08b4c-3b1e-443d-917c-df7acc1e0607",
   "metadata": {},
   "outputs": [
    {
     "name": "stdout",
     "output_type": "stream",
     "text": [
      "{'a': 1, 'b': 2, 'c': 3, 'd': 4}\n"
     ]
    }
   ],
   "source": [
    "name=(\"a\",\"b\",\"c\",\"d\")\n",
    "val=(1,2,3,4)\n",
    "\n",
    "print(dict(zip(name,val)))"
   ]
  },
  {
   "cell_type": "code",
   "execution_count": 33,
   "id": "18ec383b-d208-4a85-b884-65e9ee257662",
   "metadata": {},
   "outputs": [
    {
     "name": "stdout",
     "output_type": "stream",
     "text": [
      "1\n",
      "dict_keys(['a', 'b', 'c', 'd', 'new'])\n",
      "dict_values([1, 2, 3, 4, 'ppp'])\n",
      "3\n"
     ]
    }
   ],
   "source": [
    "dic={'a': 1, 'b': 2, 'c': 3, 'd': 4}\n",
    "print(dic['a'])\n",
    "dic['new']='ppp'\n",
    "list(dic)\n",
    "print(dic.keys())\n",
    "print(dic.values())\n",
    "print(dic['c'])\n"
   ]
  },
  {
   "cell_type": "code",
   "execution_count": 36,
   "id": "8b62241d-5d68-492c-a6b8-4ef772216cd3",
   "metadata": {},
   "outputs": [
    {
     "name": "stdout",
     "output_type": "stream",
     "text": [
      "[0, 1, 4, 9, 16, 25, 36, 49, 64, 81]\n"
     ]
    }
   ],
   "source": [
    "prac_result=[i**2 for i in range(10)]\n",
    "print(prac_result)"
   ]
  },
  {
   "cell_type": "code",
   "execution_count": 37,
   "id": "3b586171-0f7f-4471-bd60-2348da8cf3d9",
   "metadata": {},
   "outputs": [
    {
     "name": "stdout",
     "output_type": "stream",
     "text": [
      "[1, 3, 5, 7, 9]\n"
     ]
    }
   ],
   "source": [
    "prac_result2=[i for i in range(1,10,2)]\n",
    "print(prac_result2)"
   ]
  },
  {
   "cell_type": "code",
   "execution_count": 38,
   "id": "9f6afdc5-4a70-4cee-8a41-81ff2930c922",
   "metadata": {},
   "outputs": [
    {
     "name": "stdout",
     "output_type": "stream",
     "text": [
      "['a', 'b', 'c', 'd', 'e']\n"
     ]
    }
   ],
   "source": [
    "prac_result3=[i for i in 'abcde']\n",
    "print(prac_result3)"
   ]
  },
  {
   "cell_type": "code",
   "execution_count": 42,
   "id": "110ded03-05cb-4043-90b9-ac635be9fe47",
   "metadata": {},
   "outputs": [
    {
     "name": "stdout",
     "output_type": "stream",
     "text": [
      "[2, 3, 4, 5, 6, 7, 8, 9, 10, 'j', 'q', 'k', 'a']\n"
     ]
    }
   ],
   "source": [
    "\n",
    "prac_result4=[i for i in range(2,11)]\n",
    "prac_result4.extend('jqka')\n",
    "print(prac_result4)"
   ]
  },
  {
   "cell_type": "code",
   "execution_count": 49,
   "id": "da7070db-012d-4e17-bf66-6e2a239ea508",
   "metadata": {},
   "outputs": [
    {
     "name": "stdout",
     "output_type": "stream",
     "text": [
      "[2, 3, 4, 5, 6, 7, 8, 9, 10, 'j', 'q', 'k', 'a', 2, 3, 4, 5, 6, 7, 8, 9, 10, 'j', 'q', 'k', 'a', 2, 3, 4, 5, 6, 7, 8, 9, 10, 'j', 'q', 'k', 'a', 2, 3, 4, 5, 6, 7, 8, 9, 10, 'j', 'q', 'k', 'a']\n"
     ]
    }
   ],
   "source": [
    "prac_result5=[i for i in prac_result4*4]\n",
    "print(prac_result5)"
   ]
  },
  {
   "cell_type": "code",
   "execution_count": 50,
   "id": "19b39c6c-334e-4d81-a7b9-3a6ce0d700b2",
   "metadata": {},
   "outputs": [],
   "source": [
    "prac_result4[0]='two'"
   ]
  },
  {
   "cell_type": "code",
   "execution_count": 51,
   "id": "dc288f73-a40e-48db-9bfd-465394840d65",
   "metadata": {},
   "outputs": [
    {
     "name": "stdout",
     "output_type": "stream",
     "text": [
      "['two', 3, 4, 5, 6, 7, 8, 9, 10, 'j', 'q', 'k', 'a']\n"
     ]
    }
   ],
   "source": [
    "print(prac_result4)"
   ]
  },
  {
   "cell_type": "code",
   "execution_count": 52,
   "id": "5fbddf36-a65e-4ff4-ae63-4d825dfa927f",
   "metadata": {},
   "outputs": [
    {
     "name": "stdout",
     "output_type": "stream",
     "text": [
      "[2, 3, 4, 5, 6, 7, 8, 9, 10, 'j', 'q', 'k', 'a', 2, 3, 4, 5, 6, 7, 8, 9, 10, 'j', 'q', 'k', 'a', 2, 3, 4, 5, 6, 7, 8, 9, 10, 'j', 'q', 'k', 'a', 2, 3, 4, 5, 6, 7, 8, 9, 10, 'j', 'q', 'k', 'a']\n"
     ]
    }
   ],
   "source": [
    "print(prac_result5)"
   ]
  },
  {
   "cell_type": "code",
   "execution_count": 54,
   "id": "aa858dbe-b9b0-444c-a362-57eeb766ea3d",
   "metadata": {},
   "outputs": [
    {
     "data": {
      "text/plain": [
       "2119368908608"
      ]
     },
     "execution_count": 54,
     "metadata": {},
     "output_type": "execute_result"
    }
   ],
   "source": [
    "id(prac_result4)\n",
    "id(prac_result5)\n",
    "id(prac_result3)\n",
    "id(prac_result2)\n"
   ]
  },
  {
   "cell_type": "code",
   "execution_count": 58,
   "id": "fa734dbc-ac80-4855-ad3a-0b55ec4f8279",
   "metadata": {},
   "outputs": [
    {
     "name": "stdout",
     "output_type": "stream",
     "text": [
      "0.0\n"
     ]
    }
   ],
   "source": [
    "import time\n",
    "\n",
    "curr=time.time()\n",
    "for _ in range(10):\n",
    "    [i for i in range(5)]\n",
    "\n",
    "last=time.time()\n",
    "print(last-curr)"
   ]
  },
  {
   "cell_type": "code",
   "execution_count": null,
   "id": "43b051fe-2fc9-415d-9b13-64bc2ede26b6",
   "metadata": {},
   "outputs": [],
   "source": []
  }
 ],
 "metadata": {
  "kernelspec": {
   "display_name": "Python 3 (ipykernel)",
   "language": "python",
   "name": "python3"
  },
  "language_info": {
   "codemirror_mode": {
    "name": "ipython",
    "version": 3
   },
   "file_extension": ".py",
   "mimetype": "text/x-python",
   "name": "python",
   "nbconvert_exporter": "python",
   "pygments_lexer": "ipython3",
   "version": "3.9.13"
  }
 },
 "nbformat": 4,
 "nbformat_minor": 5
}
