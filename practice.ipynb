{
 "cells": [
  {
   "cell_type": "code",
   "execution_count": 5,
   "id": "31e6cca3-087a-4d47-94c0-003462f1185f",
   "metadata": {},
   "outputs": [
    {
     "name": "stdout",
     "output_type": "stream",
     "text": [
      "1 2 3 4 5 6 7 8 9 10 "
     ]
    }
   ],
   "source": [
    "for i in range(1,11):\n",
    "    print(i,end=\" \")"
   ]
  },
  {
   "cell_type": "code",
   "execution_count": 9,
   "id": "8c6444ee-013f-423e-b2f6-14b874f48451",
   "metadata": {},
   "outputs": [
    {
     "name": "stdout",
     "output_type": "stream",
     "text": [
      "0 1 2 3 4 5 6 7 8 9 10 "
     ]
    }
   ],
   "source": [
    "i=0\n",
    "\n",
    "while i<11:\n",
    "    print(i,end=\" \")\n",
    "    i+=1"
   ]
  },
  {
   "cell_type": "code",
   "execution_count": null,
   "id": "ddd97dce-8303-48e8-93cf-bd63ae0b413d",
   "metadata": {},
   "outputs": [],
   "source": [
    "sc=(70,60,55,75,95,90,80,80,85,100)\n",
    "\n",
    "result=0\n",
    "i=0\n",
    "\n",
    "while i<len(sc):\n",
    "    result+=sc[i]      #\n",
    "    avg=result/len(sc)\n",
    "print(avg)\n",
    "    "
   ]
  },
  {
   "cell_type": "code",
   "execution_count": null,
   "id": "b642aab6-90db-4c9c-8eca-7530c586a36b",
   "metadata": {},
   "outputs": [],
   "source": [
    "sc=(70,60,55,75,95,90,80,80,85,100)\n",
    "print(len(sc))"
   ]
  },
  {
   "cell_type": "raw",
   "id": "f87f0648-4947-45c5-8317-9cf99d37da45",
   "metadata": {},
   "source": []
  },
  {
   "cell_type": "code",
   "execution_count": null,
   "id": "3e0d04bc-7c59-4c96-a8a7-e281762ccb5c",
   "metadata": {},
   "outputs": [],
   "source": [
    "for i in range(10):\n",
    "    print(i)\n",
    "    if i>5:\n",
    "        break"
   ]
  },
  {
   "cell_type": "code",
   "execution_count": 1,
   "id": "87a94fe1-aaad-4bc1-afc1-5f604b17cfd8",
   "metadata": {},
   "outputs": [
    {
     "name": "stdout",
     "output_type": "stream",
     "text": [
      "5050\n"
     ]
    }
   ],
   "source": [
    "i=0\n",
    "result=0\n",
    "\n",
    "while True:\n",
    "    result+=i\n",
    "    i+=1\n",
    "    if i>100:\n",
    "        break\n",
    "print(result)\n",
    "    "
   ]
  },
  {
   "cell_type": "code",
   "execution_count": 5,
   "id": "68ea176e-c05c-4a05-a7ef-5bfd944ff009",
   "metadata": {},
   "outputs": [
    {
     "name": "stdout",
     "output_type": "stream",
     "text": [
      "1 3 5 7 9 11 13 15 17 19 21 23 25 27 29 31 33 35 37 39 41 43 45 47 49 "
     ]
    }
   ],
   "source": [
    "for i in range(50):\n",
    "    if i%2==0:\n",
    "        continue\n",
    "    print(i, end=\" \")"
   ]
  },
  {
   "cell_type": "code",
   "execution_count": 35,
   "id": "3738246d-5cec-4870-9f9f-bdfe292543a3",
   "metadata": {},
   "outputs": [
    {
     "name": "stdin",
     "output_type": "stream",
     "text": [
      "input nbr1 2\n",
      "input nbr2 10\n"
     ]
    },
    {
     "name": "stdout",
     "output_type": "stream",
     "text": [
      "54\n"
     ]
    }
   ],
   "source": [
    "n=int(input('input nbr1'))\n",
    "m=int(input('input nbr2'))\n",
    "\n",
    "total=0\n",
    "i=n\n",
    "\n",
    "while i<m+1:\n",
    "    total+=i\n",
    "    i+=1\n",
    "print(total)\n",
    "    "
   ]
  },
  {
   "cell_type": "code",
   "execution_count": 37,
   "id": "c020b5f4-3013-4a61-8e73-2cef67f384d8",
   "metadata": {},
   "outputs": [
    {
     "name": "stdout",
     "output_type": "stream",
     "text": [
      "<class 'dict'>\n",
      "{'key': 'value'}\n"
     ]
    }
   ],
   "source": [
    "dic={\"key\":\"value\"}\n",
    "print(type(dic))\n",
    "print(dic)"
   ]
  },
  {
   "cell_type": "code",
   "execution_count": 4,
   "id": "bbd6f042-12b3-4d21-9941-4b4f0fe4def9",
   "metadata": {},
   "outputs": [
    {
     "name": "stdout",
     "output_type": "stream",
     "text": [
      "key1\n",
      "key2\n",
      "key3\n"
     ]
    }
   ],
   "source": [
    "keys=(\"key1\",\"key2\",\"key3\")  #튜플형자료\n",
    "value=(\"value1\",\"value2\",\"value3\")\n",
    "\n",
    "li=[]\n",
    "for keys in keys:\n",
    "    print(keys)"
   ]
  },
  {
   "cell_type": "code",
   "execution_count": 5,
   "id": "868d1c96-f4eb-43f5-855d-f1865b5e6ccb",
   "metadata": {},
   "outputs": [
    {
     "ename": "SyntaxError",
     "evalue": "invalid syntax (4054416386.py, line 5)",
     "output_type": "error",
     "traceback": [
      "\u001b[1;36m  File \u001b[1;32m\"C:\\Users\\user\\AppData\\Local\\Temp\\ipykernel_16632\\4054416386.py\"\u001b[1;36m, line \u001b[1;32m5\u001b[0m\n\u001b[1;33m    [_for _ in zip([\"key1\",\"key2\",\"key3\"],[\"key1\",\"key2\",\"key3\"])\u001b[0m\n\u001b[1;37m          ^\u001b[0m\n\u001b[1;31mSyntaxError\u001b[0m\u001b[1;31m:\u001b[0m invalid syntax\n"
     ]
    }
   ],
   "source": [
    "keys=(\"key1\",\"key2\",\"key3\")           #튜플형자료예\n",
    "value=(\"value1\",\"value2\",\"value3\")\n",
    "\n",
    "others=[]\n",
    "[_for _ in zip([\"key1\",\"key2\",\"key3\"],[\"key1\",\"key2\",\"key3\"]) \n",
    "    print(key,end=\" \")"
   ]
  },
  {
   "cell_type": "code",
   "execution_count": 21,
   "id": "d581d68a-1870-464f-adfe-edf2f471158e",
   "metadata": {},
   "outputs": [
    {
     "name": "stdout",
     "output_type": "stream",
     "text": [
      "{'key1': 'value1', 'key2': 'value2', 'key3': 'value3'}\n",
      "value1\n",
      "value3\n",
      "dict_keys(['key1', 'key2', 'key3'])\n",
      "dict_values(['value1', 'value2', 'value3'])\n"
     ]
    }
   ],
   "source": [
    "keys = (\"key1\", \"key2\", \"key3\")\n",
    "values = (\"value1\", \"value2\", \"value3\")\n",
    "\n",
    "a=dict(zip(keys,values))\n",
    "print(a)\n",
    "print(a[\"key1\"])\n",
    "print(a[\"key3\"])\n",
    "print(a.keys())\n",
    "print(a.values())"
   ]
  },
  {
   "cell_type": "code",
   "execution_count": null,
   "id": "309c61dd-cbec-45aa-845b-0d39557c530c",
   "metadata": {},
   "outputs": [],
   "source": [
    "# 딕셔너리로 만들기 : 자료를 리스트형으로 바꿔서 append 메소드 사용\n",
    "keys = (\"key1\", \"key2\", \"key3\")\n",
    "values = (\"value1\", \"value2\", \"value3\")\n",
    "\n",
    "sam_list = []\n",
    "for index in range(len(keys)):\n",
    "    sam_list.append((keys[index], values[index]))\n",
    "print(sam_list)"
   ]
  },
  {
   "cell_type": "code",
   "execution_count": 23,
   "id": "52d536dd-628b-4616-b478-78ecabb0edf4",
   "metadata": {},
   "outputs": [
    {
     "name": "stdout",
     "output_type": "stream",
     "text": [
      "[('key1', 'value1'), ('key2', 'value2'), ('key3', 'value3')]\n"
     ]
    },
    {
     "ename": "AttributeError",
     "evalue": "'list' object has no attribute 'keys'",
     "output_type": "error",
     "traceback": [
      "\u001b[1;31m---------------------------------------------------------------------------\u001b[0m",
      "\u001b[1;31mAttributeError\u001b[0m                            Traceback (most recent call last)",
      "\u001b[1;32m~\\AppData\\Local\\Temp\\ipykernel_16632\\1706990330.py\u001b[0m in \u001b[0;36m<module>\u001b[1;34m\u001b[0m\n\u001b[0;32m      5\u001b[0m \u001b[0mprint\u001b[0m\u001b[1;33m(\u001b[0m\u001b[0ma\u001b[0m\u001b[1;33m)\u001b[0m\u001b[1;33m\u001b[0m\u001b[1;33m\u001b[0m\u001b[0m\n\u001b[0;32m      6\u001b[0m \u001b[1;33m\u001b[0m\u001b[0m\n\u001b[1;32m----> 7\u001b[1;33m \u001b[0mprint\u001b[0m\u001b[1;33m(\u001b[0m\u001b[0ma\u001b[0m\u001b[1;33m.\u001b[0m\u001b[0mkeys\u001b[0m\u001b[1;33m(\u001b[0m\u001b[1;33m)\u001b[0m\u001b[1;33m)\u001b[0m\u001b[1;33m\u001b[0m\u001b[1;33m\u001b[0m\u001b[0m\n\u001b[0m",
      "\u001b[1;31mAttributeError\u001b[0m: 'list' object has no attribute 'keys'"
     ]
    }
   ],
   "source": [
    "a=[]\n",
    "\n",
    "for index in range(len(keys)):\n",
    "    a.append((keys[index],values[index]))\n",
    "print(a)\n",
    "\n",
    "print(a.keys())"
   ]
  },
  {
   "cell_type": "code",
   "execution_count": 73,
   "id": "bce27aee-f732-4713-9a92-2234b6d04738",
   "metadata": {},
   "outputs": [
    {
     "name": "stdout",
     "output_type": "stream",
     "text": [
      "{'key1': 'value1', 'key2': 'value2', 'key3': 'value3'}\n",
      "dict_keys(['key1', 'key2', 'key3'])\n",
      "dict_values(['value1', 'value2', 'value3'])\n",
      "value1\n",
      "value2\n",
      "{'key1': 'value1', 'key2': '투', 'key3': 'value3'}\n",
      "{'key1': 'value1', 'key2': '투', 'key3': 'value3', 'new': 'old'}\n",
      "True\n",
      "{'key1': 'value1', 'key2': '투', 'key3': 'value3'}\n",
      "{'key1': 'value1', 'key2': '투', 'key3': 'value3', 'new_one': 'ornageornage'}\n",
      "{'key1': 'value1', 'key2': '투', 'key3': 'value3'}\n",
      "False\n",
      "{'key1': '곰', 'key2': '투', 'key3': 'value3'}\n",
      "{'key1': '곰', 'key2': '투', 'key3': 'value3', 'nes': 'zzz'}\n",
      "{'key1': '곰', 'key2': '투', 'key3': 'value3'}\n",
      "{'key1': '곰', 'key2': '투', 'key3': 'wowowowowo'}\n",
      "3\n"
     ]
    }
   ],
   "source": [
    "keys = (\"key1\", \"key2\", \"key3\")\n",
    "values = (\"value1\", \"value2\", \"value3\")\n",
    "\n",
    "dv=dict(zip(keys,values))\n",
    "print(dv)\n",
    "\n",
    "print(dv.keys())\n",
    "print(dv.values())\n",
    "print(dv['key1'])  #키값에 대한 밸류값 확인\n",
    "\n",
    "print(dv['key2'])\n",
    "\n",
    "dv['key2']='투'\n",
    "print(dv)\n",
    "\n",
    "dv['new']='old'\n",
    "print(dv)\n",
    "\n",
    "print('value3' in dv.values())\n",
    "\n",
    "del dv['new']\n",
    "print(dv)\n",
    "\n",
    "dv['new_one']='ornageornage'\n",
    "print(dv)\n",
    "\n",
    "del dv['new_one']\n",
    "print(dv)\n",
    "\n",
    "print('keys' in dv.keys())\n",
    "dv['key1']='곰'\n",
    "print(dv)\n",
    "dv['nes']='zzz'\n",
    "print(dv)\n",
    "\n",
    "del dv['nes']\n",
    "print(dv)\n",
    "\n",
    "dv['key3']='wowowowowo'\n",
    "print(dv)\n",
    "\n",
    "print(len(dv))\n",
    "\n"
   ]
  },
  {
   "cell_type": "code",
   "execution_count": 80,
   "id": "a4dced79-93ff-4d4a-b8fc-cabc274d8a96",
   "metadata": {},
   "outputs": [
    {
     "name": "stdin",
     "output_type": "stream",
     "text": [
      "name of fruit a\n"
     ]
    },
    {
     "name": "stdout",
     "output_type": "stream",
     "text": [
      "a의 가격은 1000입니다.\n"
     ]
    }
   ],
   "source": [
    "name=input('name of fruit')\n",
    "\n",
    "menu={'a':1000,\n",
    "      'n':700,\n",
    "      'o':1500,\n",
    "      'p':2000}\n",
    "\n",
    "    \n",
    "print(f\"{name}의 가격은 {menu[name]}입니다.\")\n",
    " \n",
    "\n"
   ]
  },
  {
   "cell_type": "code",
   "execution_count": 79,
   "id": "d2125501-5cf5-4326-996d-9109c830bf96",
   "metadata": {},
   "outputs": [
    {
     "name": "stdout",
     "output_type": "stream",
     "text": [
      "{'a': 1000, 'n': 700, 'o': 1500, 'p': 2000}\n"
     ]
    }
   ],
   "source": [
    "menu={'a':1000,\n",
    "      'n':700,\n",
    "      'o':1500,\n",
    "      'p':2000}\n",
    "print(menu)"
   ]
  },
  {
   "cell_type": "code",
   "execution_count": 91,
   "id": "288feff5-c11e-4e76-a131-367005f46eeb",
   "metadata": {},
   "outputs": [
    {
     "name": "stdin",
     "output_type": "stream",
     "text": [
      "name a b c d\n",
      "weight 1.1 2 4 5\n"
     ]
    },
    {
     "name": "stdout",
     "output_type": "stream",
     "text": [
      "{'a': 1.1, 'b': 2.0, 'c': 4.0, 'd': 5.0}\n",
      "dict_keys(['a', 'b', 'c', 'd'])\n"
     ]
    }
   ],
   "source": [
    "name=input('name').split()\n",
    "weight=map(float,input('weight').split())\n",
    "           \n",
    "\n",
    "new=dict(zip(name,weight))\n",
    "\n",
    "print(new)\n",
    "\n",
    "print(new.keys())\n",
    "           "
   ]
  },
  {
   "cell_type": "code",
   "execution_count": 95,
   "id": "94b4e4a6-2f58-4d63-b821-038141f2d720",
   "metadata": {},
   "outputs": [
    {
     "name": "stdout",
     "output_type": "stream",
     "text": [
      "True\n"
     ]
    }
   ],
   "source": [
    "print('a' in new)"
   ]
  },
  {
   "cell_type": "code",
   "execution_count": 97,
   "id": "17bc1a26-c34b-4eae-98c4-9cb4b0a93dbf",
   "metadata": {},
   "outputs": [
    {
     "name": "stdout",
     "output_type": "stream",
     "text": [
      "{'a': 1.1, 'b': 'gond', 'c': 4.0, 'd': 5.0}\n"
     ]
    }
   ],
   "source": [
    "new['b']='gond'\n",
    "print(new)"
   ]
  },
  {
   "cell_type": "code",
   "execution_count": 98,
   "id": "7e79c198-f732-4d71-bdcc-eb302442dc83",
   "metadata": {},
   "outputs": [
    {
     "name": "stdout",
     "output_type": "stream",
     "text": [
      "{'a': 1.1, 'b': 'gond', 'c': 4.0, 'd': 5.0, 'e': 'zzzzz'}\n"
     ]
    }
   ],
   "source": [
    "new['e']='zzzzz'\n",
    "print(new)"
   ]
  },
  {
   "cell_type": "code",
   "execution_count": null,
   "id": "c80f2507-52e7-43e4-a3f1-c95c0d56ec59",
   "metadata": {},
   "outputs": [],
   "source": []
  }
 ],
 "metadata": {
  "kernelspec": {
   "display_name": "Python 3 (ipykernel)",
   "language": "python",
   "name": "python3"
  },
  "language_info": {
   "codemirror_mode": {
    "name": "ipython",
    "version": 3
   },
   "file_extension": ".py",
   "mimetype": "text/x-python",
   "name": "python",
   "nbconvert_exporter": "python",
   "pygments_lexer": "ipython3",
   "version": "3.9.13"
  }
 },
 "nbformat": 4,
 "nbformat_minor": 5
}
