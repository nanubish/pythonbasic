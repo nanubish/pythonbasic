{
 "cells": [
  {
   "cell_type": "code",
   "execution_count": 2,
   "id": "728d8b1f-cd4e-4723-a7bf-b7f91c7a44f3",
   "metadata": {},
   "outputs": [
    {
     "name": "stdin",
     "output_type": "stream",
     "text": [
      "경기장이 어디입니까? 고척\n",
      "이긴 팀은 어디입니까? kt\n",
      "진팀은 어디입니까? lg\n",
      "우수 선수는 누구입니까? 강백호\n",
      "스코어는 몇대몇 입니까? 10:9\n"
     ]
    },
    {
     "name": "stdout",
     "output_type": "stream",
     "text": [
      "[속보] kt 가 10:9 로 승리... \n",
      "오늘 고척 에서 야구 경기가 있었습니다.\n",
      " kt 와 lg 는 치열한 공방전을 펼쳤습니다.\n",
      "이 경기에서 강백호 가 맹활약을 했습니다.\n",
      "그 끝내 kt 가 lg 를 10:9 로 승리했습니다. \n",
      "기사 끝.\n"
     ]
    }
   ],
   "source": [
    "location=input(\"경기장이 어디입니까?\")\n",
    "winner=input(\"이긴 팀은 어디입니까?\")\n",
    "team=input(\"진팀은 어디입니까?\")\n",
    "name=input(\"우수 선수는 누구입니까?\")\n",
    "score=input(\"스코어는 몇대몇 입니까?\")\n",
    "\n",
    "    \n",
    "print('[속보]',winner,'가',score,'로 승리... \\n오늘',location,'에서 야구 경기가 있었습니다.\\n',winner,'와',team,'는 치열한 공방전을 펼쳤습니다.\\n이 경기에서',name,'가 맹활약을 했습니다.\\n그 끝내',winner, '가',team,'를',score,'로 승리했습니다. \\n기사 끝.')"
   ]
  },
  {
   "cell_type": "code",
   "execution_count": null,
   "id": "bfac2a03-f063-499f-b61c-67b194333b09",
   "metadata": {},
   "outputs": [],
   "source": []
  }
 ],
 "metadata": {
  "kernelspec": {
   "display_name": "Python 3 (ipykernel)",
   "language": "python",
   "name": "python3"
  },
  "language_info": {
   "codemirror_mode": {
    "name": "ipython",
    "version": 3
   },
   "file_extension": ".py",
   "mimetype": "text/x-python",
   "name": "python",
   "nbconvert_exporter": "python",
   "pygments_lexer": "ipython3",
   "version": "3.9.13"
  }
 },
 "nbformat": 4,
 "nbformat_minor": 5
}
