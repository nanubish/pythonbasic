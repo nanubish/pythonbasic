{
 "cells": [
  {
   "cell_type": "code",
   "execution_count": null,
   "id": "a7e85cfe-8c8d-447d-b66a-fcb989a17639",
   "metadata": {},
   "outputs": [],
   "source": [
    "# break문 : 특정 조건안에서 밖으로 나갈때, 주로 if문과 함꼐 쓰임"
   ]
  },
  {
   "cell_type": "code",
   "execution_count": null,
   "id": "5a6d962f-6bf0-4c8f-abf5-657808e84528",
   "metadata": {},
   "outputs": [],
   "source": [
    "# break문 - for문에서 활용: 1000회 반복, 100이되면 berak\n",
    "\n",
    "for _ in range(1000):\n",
    "    print(_)\n",
    "    if _ ==100:   # 1000까지 반복하는데, 100번째에 루프를 빠져나간다.\n",
    "        break     # 제일 가까이에 있는 for문에서 빠져나감"
   ]
  },
  {
   "cell_type": "code",
   "execution_count": 2,
   "id": "fbd7b150-654c-4dc6-8c80-55ba1fe79f4c",
   "metadata": {},
   "outputs": [
    {
     "name": "stdout",
     "output_type": "stream",
     "text": [
      "5050\n"
     ]
    }
   ],
   "source": [
    "# Q : 0-100까지 자연수 총합\n",
    "\n",
    "i=0                # 초기식\n",
    "total=0\n",
    "\n",
    "while True:        # 반복할 코드\n",
    "    total+=i       # 변화식\n",
    "    i+=1 \n",
    "    if i>100:      # 조건문\n",
    "        break:     # 조건문엥 부합되면 루프를 빠져나감\n",
    "        \n",
    "print(total)"
   ]
  },
  {
   "cell_type": "code",
   "execution_count": null,
   "id": "fbceb7c4-102a-4160-a480-a1271a234e70",
   "metadata": {},
   "outputs": [],
   "source": [
    "# break문 - while문활용 : 입력값과 break 활용\n",
    "\n",
    "while True:\n",
    "    input=input(\"q를 입력하면 종료됩니다\")\n",
    "    if input==\"q\":break    # :후로 짧은 단어는 한줄로 써도 무관\n",
    "    \n",
    "print(\"프로그램을 종료합니다.\")"
   ]
  },
  {
   "cell_type": "code",
   "execution_count": null,
   "id": "8420e993-019c-4e5b-be27-661bb59da0d0",
   "metadata": {},
   "outputs": [],
   "source": []
  },
  {
   "cell_type": "code",
   "execution_count": null,
   "id": "c6776214-1f3e-4e5e-8d37-01a3c226306d",
   "metadata": {},
   "outputs": [],
   "source": []
  },
  {
   "cell_type": "code",
   "execution_count": null,
   "id": "88221bc6-b419-4e19-91f1-ba3db6d569d8",
   "metadata": {},
   "outputs": [],
   "source": [
    "# continue문 : break는 아예 if, while문 빠져나가지만, continue는 딱 1회만 빠져나가고 다시 루프을 반복함"
   ]
  },
  {
   "cell_type": "code",
   "execution_count": 9,
   "id": "e4868f4d-b542-4005-8df1-59f290b821c8",
   "metadata": {},
   "outputs": [
    {
     "name": "stdout",
     "output_type": "stream",
     "text": [
      "1 3 5 7 9 11 13 15 17 19 21 23 25 27 29 "
     ]
    }
   ],
   "source": [
    "# continue문: 1~30까지 증가하면서 홀수만 출력\n",
    "\n",
    "for i in range(30):   # 0-29까지 증가하면서 30번 반복\n",
    "    if i%2==0:        # 짝수면(조건에 부합) continue\n",
    "        continue      # 아래 코드 실행(print)하지 않고 for문으로 돌아감\n",
    "    print(i,end=\" \")"
   ]
  },
  {
   "cell_type": "markdown",
   "id": "26a5a754-8dc8-43ae-93b3-5fcfde3cc973",
   "metadata": {},
   "source": [
    "\n",
    "\n"
   ]
  },
  {
   "cell_type": "code",
   "execution_count": 17,
   "id": "8b1d1a1f-9eb3-4c7b-b2e2-c1c5c947182f",
   "metadata": {},
   "outputs": [
    {
     "ename": "SyntaxError",
     "evalue": "invalid syntax (1755005863.py, line 7)",
     "output_type": "error",
     "traceback": [
      "\u001b[1;36m  File \u001b[1;32m\"C:\\Users\\user\\AppData\\Local\\Temp\\ipykernel_10536\\1755005863.py\"\u001b[1;36m, line \u001b[1;32m7\u001b[0m\n\u001b[1;33m    total+=\u001b[0m\n\u001b[1;37m           ^\u001b[0m\n\u001b[1;31mSyntaxError\u001b[0m\u001b[1;31m:\u001b[0m invalid syntax\n"
     ]
    }
   ],
   "source": [
    "# Q : 두 자연수 n, m을 입력받고, n부터 m까지의 합을 구하기(while문 활용)\n",
    "# 오답\n",
    "a=int(input(\"시작하는 정수 입력: \"))\n",
    "b=int(input(\"끝나는 정수 입력: \"))\n",
    "\n",
    "i=0\n",
    "total=0\n",
    "\n",
    "while i<[a,b]:\n",
    "    total+=i\n",
    "    print(a,'부터',b,'까지의 합은',total,'입니다')\n",
    "    i+=1"
   ]
  },
  {
   "cell_type": "code",
   "execution_count": 1,
   "id": "ec1a8b55-7e7d-4596-8311-376677e82a4b",
   "metadata": {},
   "outputs": [
    {
     "name": "stdin",
     "output_type": "stream",
     "text": [
      "시작하는 정수 입력:  1\n",
      "끝나는 정수 입력:  10\n"
     ]
    },
    {
     "name": "stdout",
     "output_type": "stream",
     "text": [
      "55\n"
     ]
    }
   ],
   "source": [
    "# A : (for문 활용)두 자연수 n, m을 입력받고, n부터 m까지의 합을 구하기\n",
    "a=int(input(\"시작하는 정수 입력: \"))\n",
    "b=int(input(\"끝나는 정수 입력: \"))\n",
    "\n",
    "i=0\n",
    "total=0\n",
    "\n",
    "for i in range(a,b+1):\n",
    "    total+=i\n",
    "print(total)"
   ]
  },
  {
   "cell_type": "code",
   "execution_count": 2,
   "id": "169cf2a4-547c-43d0-ad18-d57ac0a25c09",
   "metadata": {},
   "outputs": [
    {
     "name": "stdin",
     "output_type": "stream",
     "text": [
      "시작하는 정수 입력:  1\n",
      "끝나는 정수 입력:  10\n"
     ]
    },
    {
     "name": "stdout",
     "output_type": "stream",
     "text": [
      "55\n"
     ]
    }
   ],
   "source": [
    "# A : (while문 활용)두 자연수 n, m을 입력받고, n부터 m까지의 합을 구하기\n",
    "\n",
    "a=int(input(\"시작하는 정수 입력: \"))\n",
    "b=int(input(\"끝나는 정수 입력: \"))\n",
    "\n",
    "i=a            # 초기값(시작값)\n",
    "total=0\n",
    "\n",
    "while i<=b:\n",
    "    total+=i\n",
    "    i+=1\n",
    "print(total)"
   ]
  },
  {
   "cell_type": "code",
   "execution_count": null,
   "id": "5d9cb0ce-6c2e-48a9-ba68-c1268f25382a",
   "metadata": {},
   "outputs": [],
   "source": []
  },
  {
   "cell_type": "code",
   "execution_count": null,
   "id": "fe568965-a508-48a8-8fa5-dc16ede1ed7e",
   "metadata": {},
   "outputs": [],
   "source": []
  },
  {
   "cell_type": "code",
   "execution_count": null,
   "id": "447dbb5a-7cc5-485a-8a01-cec01c1f6012",
   "metadata": {},
   "outputs": [],
   "source": []
  },
  {
   "cell_type": "code",
   "execution_count": null,
   "id": "66c3df7e-2222-4ad4-bafd-8b449b47ee65",
   "metadata": {},
   "outputs": [],
   "source": []
  },
  {
   "cell_type": "code",
   "execution_count": null,
   "id": "a8a39e39-1bfe-4d61-aa01-58a0bfe41e1a",
   "metadata": {},
   "outputs": [],
   "source": []
  },
  {
   "cell_type": "code",
   "execution_count": null,
   "id": "8bf63a85-1a47-4791-9f07-a5273bbc2205",
   "metadata": {},
   "outputs": [],
   "source": []
  }
 ],
 "metadata": {
  "kernelspec": {
   "display_name": "Python 3 (ipykernel)",
   "language": "python",
   "name": "python3"
  },
  "language_info": {
   "codemirror_mode": {
    "name": "ipython",
    "version": 3
   },
   "file_extension": ".py",
   "mimetype": "text/x-python",
   "name": "python",
   "nbconvert_exporter": "python",
   "pygments_lexer": "ipython3",
   "version": "3.9.13"
  }
 },
 "nbformat": 4,
 "nbformat_minor": 5
}
